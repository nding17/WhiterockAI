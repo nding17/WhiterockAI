{
 "cells": [
  {
   "cell_type": "code",
   "execution_count": 21,
   "metadata": {},
   "outputs": [],
   "source": [
    "import pandas as pd\n",
    "from bs4 import BeautifulSoup\n",
    "import requests\n",
    "import numpy as np\n",
    "import re\n",
    "import json"
   ]
  },
  {
   "cell_type": "code",
   "execution_count": 12,
   "metadata": {},
   "outputs": [],
   "source": [
    "def get_buy_webpage(city, \n",
    "                    state, \n",
    "                    pg_num, \n",
    "                    htype=[\n",
    "                        'house',\n",
    "                        'multi-family',\n",
    "                    ]):\n",
    "    \n",
    "    overhead = 'https://www.trulia.com'\n",
    "    dangle = 'for_sale'\n",
    "\n",
    "    city = city.title()\\\n",
    "               .replace(' ', '_')\n",
    "    state = state.upper()\n",
    "\n",
    "    dict_alias = {\n",
    "        'house': 'SINGLE-FAMILY_HOME',\n",
    "        'condo': 'APARTMENT,CONDO,COOP',\n",
    "        'townhouse': 'TOWNHOUSE',\n",
    "        'multi-family': 'MULTI-FAMILY',\n",
    "        'land': 'LOT%7CLAND',\n",
    "        'mobile/manufactured': 'MOBILE%7CMANUFACTURED',\n",
    "        'other': 'UNKNOWN',\n",
    "    }\n",
    "\n",
    "    aliases = [dict_alias[h] for h in htype]\n",
    "    houses = ','.join(aliases)\n",
    "\n",
    "    webpage = f'{overhead}/{dangle}/{city},{state}/{houses}_type/{pg_num}_p/'\n",
    "    return webpage\n"
   ]
  },
  {
   "cell_type": "code",
   "execution_count": 13,
   "metadata": {},
   "outputs": [],
   "source": [
    "url = get_buy_webpage('philadelphia', 'pa', 1)"
   ]
  },
  {
   "cell_type": "code",
   "execution_count": 14,
   "metadata": {},
   "outputs": [],
   "source": [
    "def get_buy_apt_urls_per_page(city,\n",
    "                              state,\n",
    "                              pg_num,\n",
    "                              htype=['house', \n",
    "                                     'multi-family']):\n",
    "\n",
    "    webpage = get_buy_webpage(city, state, pg_num, htype)\n",
    "    \n",
    "    # Here we added User-Agent to the header of our request \n",
    "    # It is because sometimes the web server will check the\n",
    "    # different fields of the header to block robot scrapers\n",
    "    # User-Agent is the most common one because it is specific \n",
    "    # to your browser.\n",
    "    headers = {'User-Agent': 'Mozilla/5.0 (Macintosh; Intel Mac OS X 10_12_3) \\\n",
    "            AppleWebKit/537.36 (KHTML, like Gecko) Chrome/58.0.3029.110 Safari/537.36'}\n",
    "    response = requests.get(webpage, headers=headers)\n",
    "    results = response.content\n",
    "\n",
    "    if not response.status_code == 404:\n",
    "        soup = BeautifulSoup(results, 'lxml')\n",
    "        \n",
    "        apt_class = 'PropertyCard__PropertyCardContainer-sc-1ush98q-0 gsDQZj Box-sc-8ox7qa-0 jIGxjA'\n",
    "        apt_tags = soup.find_all('div', class_=apt_class)\n",
    "        \n",
    "        apt_link_tags = [tag.find('a') for tag in apt_tags]\n",
    "        apt_urls = [tag['href'] for tag in apt_link_tags]\n",
    "    \n",
    "    return apt_urls\n",
    "        "
   ]
  },
  {
   "cell_type": "code",
   "execution_count": 15,
   "metadata": {},
   "outputs": [
    {
     "data": {
      "text/plain": [
       "['/p/pa/philadelphia/1311-foulkrod-st-philadelphia-pa-19124--2017208781',\n",
       " '/p/pa/philadelphia/302-carpenter-ln-philadelphia-pa-19119--1037425672',\n",
       " '/p/pa/philadelphia/3409-hess-st-philadelphia-pa-19136--2017291136',\n",
       " '/p/pa/philadelphia/6523-lincoln-dr-philadelphia-pa-19119--2017190538',\n",
       " '/p/pa/philadelphia/6838-ogontz-ave-philadelphia-pa-19138--2017307773',\n",
       " '/p/pa/philadelphia/1017-surrey-rd-philadelphia-pa-19115--2017166645',\n",
       " '/p/pa/philadelphia/8444-frankford-ave-philadelphia-pa-19136--2017298714',\n",
       " '/p/pa/philadelphia/102-w-apsley-st-philadelphia-pa-19144--1139698957',\n",
       " '/p/pa/philadelphia/5823-upland-way-philadelphia-pa-19131--2017263482',\n",
       " '/p/pa/philadelphia/11610-bustleton-ave-philadelphia-pa-19116--2017179901',\n",
       " '/p/pa/philadelphia/124-e-duval-st-philadelphia-pa-19144--2090061622',\n",
       " '/p/pa/philadelphia/2411-w-sergeant-st-philadelphia-pa-19132--2089969379',\n",
       " '/p/pa/philadelphia/411-e-willow-grove-ave-philadelphia-pa-19118--2089898696',\n",
       " '/p/pa/philadelphia/1910-rittenhouse-sq-philadelphia-pa-19103--1117027576',\n",
       " '/p/pa/philadelphia/13-w-mermaid-ln-philadelphia-pa-19118--2089897943',\n",
       " '/p/pa/philadelphia/534-solly-ave-philadelphia-pa-19111--2017146201',\n",
       " '/p/pa/philadelphia/9902-nicklaus-dr-philadelphia-pa-19115--1004594076',\n",
       " '/p/pa/philadelphia/400-e-evergreen-ave-philadelphia-pa-19118--2089898661',\n",
       " '/p/pa/philadelphia/8872-towanda-st-philadelphia-pa-19118--1005525712',\n",
       " '/p/pa/philadelphia/1030-welsh-rd-philadelphia-pa-19115--2017166751',\n",
       " '/p/pa/philadelphia/50-s-16th-st-4604-philadelphia-pa-19102--2089884576',\n",
       " '/p/pa/philadelphia/8909-crefeld-st-philadelphia-pa-19118--2017188963',\n",
       " '/p/pa/philadelphia/239-northwestern-ave-philadelphia-pa-19128--2432402922',\n",
       " '/p/pa/philadelphia/448-leverington-ave-philadelphia-pa-19128--2017240352',\n",
       " '/p/pa/philadelphia/885-n-orkney-st-philadelphia-pa-19123--2089939414',\n",
       " '/p/pa/philadelphia/729-alburger-ave-philadelphia-pa-19115--2017171036',\n",
       " '/p/pa/philadelphia/3535-w-school-house-ln-philadelphia-pa-19129--2089953256',\n",
       " '/p/pa/philadelphia/6516-lincoln-dr-philadelphia-pa-19119--2017190519',\n",
       " '/p/pa/philadelphia/416-w-moreland-ave-philadelphia-pa-19118--2089898704',\n",
       " '/p/pa/philadelphia/7738-ardleigh-st-philadelphia-pa-19118--2017187985']"
      ]
     },
     "execution_count": 15,
     "metadata": {},
     "output_type": "execute_result"
    }
   ],
   "source": [
    "apt_urls_pg1 = get_buy_apt_urls_per_page('philadelphia', 'pa', 1)\n",
    "apt_urls_pg1"
   ]
  },
  {
   "cell_type": "code",
   "execution_count": 16,
   "metadata": {},
   "outputs": [],
   "source": [
    "headers = {'User-Agent': 'Mozilla/5.0 (Macintosh; Intel Mac OS X 10_12_3) \\\n",
    "            AppleWebKit/537.36 (KHTML, like Gecko) Chrome/58.0.3029.110 Safari/537.36'}\n",
    "apt_wb = 'https://www.trulia.com/p/pa/philadelphia/302-carpenter-ln-philadelphia-pa-19119--1037425672'\n",
    "response = requests.get(apt_wb, headers=headers)\n",
    "results = response.content\n",
    "soup = BeautifulSoup(results, 'lxml')"
   ]
  },
  {
   "cell_type": "code",
   "execution_count": 28,
   "metadata": {},
   "outputs": [],
   "source": [
    "jfile = soup.find('script', attrs={\n",
    "    'id': '__NEXT_DATA__',\n",
    "    'type': 'application/json',\n",
    "}).get_text()\n"
   ]
  },
  {
   "cell_type": "code",
   "execution_count": 37,
   "metadata": {},
   "outputs": [
    {
     "name": "stdout",
     "output_type": "stream",
     "text": [
      "dataManager\n",
      "props\n",
      "page\n",
      "query\n",
      "buildId\n",
      "assetPrefix\n",
      "runtimeConfig\n"
     ]
    }
   ],
   "source": [
    "jdict = json.loads(jfile)\n",
    "for key in jdict.keys():\n",
    "    print(key)"
   ]
  },
  {
   "cell_type": "code",
   "execution_count": 59,
   "metadata": {},
   "outputs": [
    {
     "data": {
      "text/plain": [
       "dict_keys(['abExperiments', 'abTracking', 'session', '_page', 'asPath', 'homeDetails', 'viewer', 'search', 'homeDetailsPromise', 'apolloState', 'apolloHeaders'])"
      ]
     },
     "execution_count": 59,
     "metadata": {},
     "output_type": "execute_result"
    }
   ],
   "source": [
    "jdict['props'].keys()"
   ]
  },
  {
   "cell_type": "code",
   "execution_count": 66,
   "metadata": {},
   "outputs": [
    {
     "data": {
      "text/plain": [
       "dict_keys(['url', 'media', 'metadata', 'pageText', 'currentStatus', '__typename', 'tracking', 'primaryNavigation', 'secondaryNavigation', 'isSaveable', 'isShareable', 'preferences', 'location', 'adTargetings', 'price', 'heroTags', 'priceChange', 'bedrooms', 'bathrooms', 'floorSpace', 'provider', 'activeForRentListing', 'surroundings', 'hoaFee', 'mortgageInfo', 'nearbyHomes', 'features', 'publicRecord', 'comparables', 'description', 'titleToPriceHistory', 'priceHistory', 'localProtections', 'taxes', 'marketComparisons', 'breadcrumbNavigation', 'backToSearch', 'localInfoSummary', 'parcel', 'nearbyPointsOfInterest', 'seoDescription', 'similarHomes', 'foreclosureInfo', 'community', 'activeForSaleListing', 'assignedSchools', 'providerListingId', 'flagListingReportTypes', 'affordability', 'propertyType'])"
      ]
     },
     "execution_count": 66,
     "metadata": {},
     "output_type": "execute_result"
    }
   ],
   "source": [
    "jdict['props']['homeDetails'].keys()"
   ]
  },
  {
   "cell_type": "code",
   "execution_count": 70,
   "metadata": {},
   "outputs": [
    {
     "data": {
      "text/plain": [
       "dict_keys(['metaTagHeroImages', '__typename', 'topThirdHeroImages', 'totalPhotoCount', 'threeDHomes', 'mapWithPin', 'videos', 'photos', 'streetView'])"
      ]
     },
     "execution_count": 70,
     "metadata": {},
     "output_type": "execute_result"
    }
   ],
   "source": [
    "jdict['props']['homeDetails']['media'].keys()"
   ]
  },
  {
   "cell_type": "code",
   "execution_count": 76,
   "metadata": {},
   "outputs": [
    {
     "data": {
      "text/plain": [
       "{'url': {'extraSmallSrc': 'https://static.trulia-cdn.com/pictures/thumbs_5/zillowstatic/ISb91c89ycbre71000000000.jpg',\n",
       "  'smallSrc': 'https://static.trulia-cdn.com/pictures/thumbs_6/zillowstatic/ISb91c89ycbre71000000000.jpg',\n",
       "  'mediumSrc': 'https://static.trulia-cdn.com/pictures/thumbs_6/zillowstatic/ISb91c89ycbre71000000000.jpg',\n",
       "  'largeSrc': 'https://static.trulia-cdn.com/pictures/thumbs_6/zillowstatic/ISb91c89ycbre71000000000.jpg',\n",
       "  'hiDpiExtraSmallSrc': 'https://static.trulia-cdn.com/pictures/thumbs_6/zillowstatic/ISb91c89ycbre71000000000.jpg',\n",
       "  'hiDpiSmallSrc': 'https://static.trulia-cdn.com/pictures/thumbs_6/zillowstatic/ISb91c89ycbre71000000000.jpg',\n",
       "  'hiDpiMediumSrc': 'https://static.trulia-cdn.com/pictures/thumbs_6/zillowstatic/ISb91c89ycbre71000000000.jpg',\n",
       "  'hiDpiLargeSrc': 'https://static.trulia-cdn.com/pictures/thumbs_6/zillowstatic/ISb91c89ycbre71000000000.jpg',\n",
       "  '__typename': 'MEDIA_ImageResource'},\n",
       " 'webpUrl': {'extraSmallWebpSrc': 'https://static.trulia-cdn.com/pictures/thumbs_5/zillowstatic/ISb91c89ycbre71000000000.webp',\n",
       "  'smallWebpSrc': 'https://static.trulia-cdn.com/pictures/thumbs_6/zillowstatic/ISb91c89ycbre71000000000.webp',\n",
       "  'mediumWebpSrc': 'https://static.trulia-cdn.com/pictures/thumbs_6/zillowstatic/ISb91c89ycbre71000000000.webp',\n",
       "  'largeWebpSrc': 'https://static.trulia-cdn.com/pictures/thumbs_6/zillowstatic/ISb91c89ycbre71000000000.webp',\n",
       "  'hiDpiExtraSmallWebpSrc': 'https://static.trulia-cdn.com/pictures/thumbs_6/zillowstatic/ISb91c89ycbre71000000000.webp',\n",
       "  'hiDpiSmallWebpSrc': 'https://static.trulia-cdn.com/pictures/thumbs_6/zillowstatic/ISb91c89ycbre71000000000.webp',\n",
       "  'hiDpiMediumWebpSrc': 'https://static.trulia-cdn.com/pictures/thumbs_6/zillowstatic/ISb91c89ycbre71000000000.webp',\n",
       "  'hiDpiLargeWebpSrc': 'https://static.trulia-cdn.com/pictures/thumbs_6/zillowstatic/ISb91c89ycbre71000000000.webp',\n",
       "  '__typename': 'MEDIA_ImageResource'},\n",
       " '__typename': 'HOME_MediaPhoto'}"
      ]
     },
     "execution_count": 76,
     "metadata": {},
     "output_type": "execute_result"
    }
   ],
   "source": [
    "jdict['props']['homeDetails']['media']['photos'][2]"
   ]
  },
  {
   "cell_type": "code",
   "execution_count": 80,
   "metadata": {},
   "outputs": [],
   "source": [
    "image_url = 'https://static.trulia-cdn.com/pictures/thumbs_5/zillowstatic/ISb91c89ycbre71000000000.jpg'\n",
    "img_data = requests.get(image_url).content\n",
    "with open('image_name.jpg', 'wb') as handler:\n",
    "    handler.write(img_data)"
   ]
  },
  {
   "cell_type": "code",
   "execution_count": 78,
   "metadata": {},
   "outputs": [
    {
     "data": {
      "text/plain": [
       "<Response [200]>"
      ]
     },
     "execution_count": 78,
     "metadata": {},
     "output_type": "execute_result"
    }
   ],
   "source": [
    "local_file = open('local_image.jpg', 'wb')\n",
    "resp.raw.decode_content = True\n"
   ]
  },
  {
   "cell_type": "code",
   "execution_count": null,
   "metadata": {},
   "outputs": [],
   "source": []
  }
 ],
 "metadata": {
  "kernelspec": {
   "display_name": "Python 3",
   "language": "python",
   "name": "python3"
  },
  "language_info": {
   "codemirror_mode": {
    "name": "ipython",
    "version": 3
   },
   "file_extension": ".py",
   "mimetype": "text/x-python",
   "name": "python",
   "nbconvert_exporter": "python",
   "pygments_lexer": "ipython3",
   "version": "3.7.3"
  }
 },
 "nbformat": 4,
 "nbformat_minor": 2
}
