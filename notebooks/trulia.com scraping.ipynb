{
 "cells": [
  {
   "cell_type": "code",
   "execution_count": 1,
   "metadata": {},
   "outputs": [],
   "source": [
    "import pandas as pd\n",
    "from bs4 import BeautifulSoup\n",
    "import requests\n",
    "import numpy as np\n",
    "import re"
   ]
  },
  {
   "cell_type": "code",
   "execution_count": 10,
   "metadata": {},
   "outputs": [],
   "source": [
    "def get_buy_webpages(city, \n",
    "                     state, \n",
    "                     pg_num, \n",
    "                     htype=[\n",
    "                         'house',\n",
    "                         'multi-family',\n",
    "                     ]):\n",
    "    \n",
    "    overhead = 'https://trulia.com'\n",
    "    dangle = 'for_sale'\n",
    "    city = city.title()\\\n",
    "               .replace(' ', '_')\n",
    "    state = state.upper()\n",
    "    \n",
    "    dict_alias = {\n",
    "        'house': 'SINGLE-FAMILY_HOME',\n",
    "        'condo': 'APARTMENT,CONDO,COOP',\n",
    "        'townhouse': 'TOWNHOUSE',\n",
    "        'multi-family': 'MULTI-FAMILY',\n",
    "        'land': 'LOT%7CLAND',\n",
    "        'mobile/manufactured': 'MOBILE%7CMANUFACTURED',\n",
    "        'other': 'UNKNOWN',\n",
    "    }\n",
    "    \n",
    "    aliases = [dict_alias[h] for h in htype]\n",
    "    houses = ','.join(aliases)\n",
    "    \n",
    "    webpage = f'{overhead}/{dangle}/{city},{state}/{houses}_type/{pg_num}_p/'\n",
    "    return webpage"
   ]
  },
  {
   "cell_type": "code",
   "execution_count": 13,
   "metadata": {},
   "outputs": [
    {
     "data": {
      "text/plain": [
       "'https://trulia.com/for_sale/Philadelphia,PA/SINGLE-FAMILY_HOME,MULTI-FAMILY_type/1_p/'"
      ]
     },
     "execution_count": 13,
     "metadata": {},
     "output_type": "execute_result"
    }
   ],
   "source": [
    "get_buy_webpages('philadelphia', 'pa', 1)"
   ]
  },
  {
   "cell_type": "code",
   "execution_count": null,
   "metadata": {},
   "outputs": [],
   "source": []
  }
 ],
 "metadata": {
  "kernelspec": {
   "display_name": "Python 3",
   "language": "python",
   "name": "python3"
  },
  "language_info": {
   "codemirror_mode": {
    "name": "ipython",
    "version": 3
   },
   "file_extension": ".py",
   "mimetype": "text/x-python",
   "name": "python",
   "nbconvert_exporter": "python",
   "pygments_lexer": "ipython3",
   "version": "3.7.3"
  }
 },
 "nbformat": 4,
 "nbformat_minor": 2
}
