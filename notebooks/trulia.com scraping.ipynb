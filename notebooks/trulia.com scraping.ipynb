{
 "cells": [
  {
   "cell_type": "code",
   "execution_count": 1,
   "metadata": {},
   "outputs": [],
   "source": [
    "import pandas as pd\n",
    "from bs4 import BeautifulSoup\n",
    "import requests\n",
    "import numpy as np\n",
    "import re"
   ]
  },
  {
   "cell_type": "code",
   "execution_count": 2,
   "metadata": {},
   "outputs": [],
   "source": [
    "alias = {\n",
    "    'house': 'SINGLE-FAMILY_HOME',\n",
    "    'condo': 'APARTMENT,CONDO,COOP',\n",
    "    'townhouse': 'TOWNHOUSE',\n",
    "    'multi-family': 'MULTI-FAMILY',\n",
    "    'land': 'LOT%7CLAND',\n",
    "    'mobile/manufactured': 'MOBILE%7CMANUFACTURED',\n",
    "    'other': 'UNKNOWN',\n",
    "}\n",
    "\n",
    "def get_buy_webpages(city, \n",
    "                     state, \n",
    "                     pg_num, \n",
    "                     house_type=[\n",
    "                         alias['house'],\n",
    "                         alias['multi-family'],\n",
    "                     ]):\n",
    "    \n",
    "    overhead = 'https://trulia.com'\n",
    "    dangle = 'for_sale'\n",
    "    tail = f'{house_type[0]},{house_type[1]}_type'\n",
    "    webpage = f'{overhead}/{dangle}/{city},{state}/'"
   ]
  },
  {
   "cell_type": "code",
   "execution_count": null,
   "metadata": {},
   "outputs": [],
   "source": []
  },
  {
   "cell_type": "code",
   "execution_count": null,
   "metadata": {},
   "outputs": [],
   "source": []
  }
 ],
 "metadata": {
  "kernelspec": {
   "display_name": "Python 3",
   "language": "python",
   "name": "python3"
  },
  "language_info": {
   "codemirror_mode": {
    "name": "ipython",
    "version": 3
   },
   "file_extension": ".py",
   "mimetype": "text/x-python",
   "name": "python",
   "nbconvert_exporter": "python",
   "pygments_lexer": "ipython3",
   "version": "3.7.3"
  }
 },
 "nbformat": 4,
 "nbformat_minor": 2
}
