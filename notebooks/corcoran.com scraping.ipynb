{
 "cells": [
  {
   "cell_type": "code",
   "execution_count": 1,
   "metadata": {},
   "outputs": [],
   "source": [
    "import pandas as pd\n",
    "from bs4 import BeautifulSoup\n",
    "import requests\n",
    "import numpy as np\n",
    "import re\n",
    "import time\n",
    "import os\n",
    "from selenium import webdriver"
   ]
  },
  {
   "cell_type": "code",
   "execution_count": 3,
   "metadata": {},
   "outputs": [],
   "source": [
    "def random_user_agent():\n",
    "    try:\n",
    "        ua = UserAgent()\n",
    "        return ua.random\n",
    "    except:\n",
    "        default_ua = 'Mozilla/5.0 (Macintosh; Intel Mac O21S X 10_12_3) \\\n",
    "                AppleWebKit/537.36 (KHTML, like Gecko) \\\n",
    "                Chrome/58.0.3029.110 Safari/537.36'\n",
    "        return default_ua\n",
    "\n",
    "def get_soup(url):\n",
    "    \n",
    "    headers = {'User-Agent': random_user_agent()}\n",
    "    response = requests.get(url, headers=headers)\n",
    "    results = response.content\n",
    "    if not response.status_code == 404:\n",
    "        soup = BeautifulSoup(results, 'lxml')\n",
    "    return soup\n",
    "\n",
    "def soup_attempts(url, total_attempts=5):\n",
    "\n",
    "    soup = get_soup(url)\n",
    "\n",
    "    if soup:\n",
    "        return soup\n",
    "    else:\n",
    "        attempts = 0\n",
    "        while attempts < total_attempts:\n",
    "            time.sleep(3)\n",
    "            soup = get_soup(url)\n",
    "            if soup:\n",
    "                return soup\n",
    "        raise ValueError(f'FAILED to get soup for apt url {url}')"
   ]
  },
  {
   "cell_type": "code",
   "execution_count": 4,
   "metadata": {},
   "outputs": [],
   "source": [
    "url = 'https://www.corcoran.com/nyc-real-estate/for-sale/williamsburg/30-bartlett-street/5151565'\n",
    "soup = soup_attempts(url)"
   ]
  },
  {
   "cell_type": "code",
   "execution_count": 5,
   "metadata": {},
   "outputs": [
    {
     "data": {
      "text/plain": [
       "<figure class=\"getCarouselSlides__SlideFigure-cel6pe-2 jpnhrN\"><img alt=\"slide image\" class=\"getCarouselSlides__SlideImage-cel6pe-3 cNdyRy\" src=\"https://mediarouting.vestahub.com/Media/68020238/box/800x800\"/></figure>"
      ]
     },
     "execution_count": 5,
     "metadata": {},
     "output_type": "execute_result"
    }
   ],
   "source": [
    "soup.find('figure', class_='getCarouselSlides__SlideFigure-cel6pe-2 jpnhrN')"
   ]
  },
  {
   "cell_type": "code",
   "execution_count": 6,
   "metadata": {},
   "outputs": [
    {
     "data": {
      "text/plain": [
       "<div class=\"carousel-item active\"><div aria-label=\"slide image\" aria-pressed=\"false\" class=\"getCarouselSlides__SlideImageWrapper-cel6pe-1 kRBdIV\" role=\"button\" tabindex=\"0\"><figure class=\"getCarouselSlides__SlideFigure-cel6pe-2 jpnhrN\"><img alt=\"slide image\" class=\"getCarouselSlides__SlideImage-cel6pe-3 cNdyRy\" src=\"https://mediarouting.vestahub.com/Media/68020238/box/800x800\"/></figure></div><div class=\"carousel-caption d-none d-md-block\"><h3></h3><p>caption</p></div></div>"
      ]
     },
     "execution_count": 6,
     "metadata": {},
     "output_type": "execute_result"
    }
   ],
   "source": [
    "soup.find('div', class_='carousel-item')"
   ]
  },
  {
   "cell_type": "code",
   "execution_count": 7,
   "metadata": {},
   "outputs": [
    {
     "data": {
      "text/plain": [
       "<figure class=\"getCarouselSlides__SlideFigure-cel6pe-2 jpnhrN\"><img alt=\"slide image\" class=\"getCarouselSlides__SlideImage-cel6pe-3 cNdyRy\" src=\"https://mediarouting.vestahub.com/Media/68020238/box/800x800\"/></figure>"
      ]
     },
     "execution_count": 7,
     "metadata": {},
     "output_type": "execute_result"
    }
   ],
   "source": [
    "soup.find('figure', class_='getCarouselSlides__SlideFigure-cel6pe-2 jpnhrN')"
   ]
  },
  {
   "cell_type": "code",
   "execution_count": 8,
   "metadata": {},
   "outputs": [],
   "source": [
    "soup.find('div', class_='getCarouselSlides__CarouselTitle-cel6pe-0 iWXEDU')"
   ]
  },
  {
   "cell_type": "code",
   "execution_count": null,
   "metadata": {},
   "outputs": [],
   "source": []
  }
 ],
 "metadata": {
  "kernelspec": {
   "display_name": "Python 3",
   "language": "python",
   "name": "python3"
  },
  "language_info": {
   "codemirror_mode": {
    "name": "ipython",
    "version": 3
   },
   "file_extension": ".py",
   "mimetype": "text/x-python",
   "name": "python",
   "nbconvert_exporter": "python",
   "pygments_lexer": "ipython3",
   "version": "3.7.3"
  }
 },
 "nbformat": 4,
 "nbformat_minor": 2
}
