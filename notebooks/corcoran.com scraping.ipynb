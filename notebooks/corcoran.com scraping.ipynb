{
 "cells": [
  {
   "cell_type": "code",
   "execution_count": 1,
   "metadata": {},
   "outputs": [],
   "source": [
    "import pandas as pd\n",
    "from bs4 import BeautifulSoup\n",
    "import requests\n",
    "import numpy as np\n",
    "import re\n",
    "import time\n",
    "import os\n",
    "from selenium import webdriver"
   ]
  },
  {
   "cell_type": "code",
   "execution_count": 2,
   "metadata": {},
   "outputs": [],
   "source": [
    "def random_user_agent():\n",
    "    try:\n",
    "        ua = UserAgent()\n",
    "        return ua.random\n",
    "    except:\n",
    "        default_ua = 'Mozilla/5.0 (Macintosh; Intel Mac O21S X 10_12_3) \\\n",
    "                AppleWebKit/537.36 (KHTML, like Gecko) \\\n",
    "                Chrome/58.0.3029.110 Safari/537.36'\n",
    "        return default_ua\n",
    "\n",
    "def get_soup(url):\n",
    "    \n",
    "    headers = {'User-Agent': random_user_agent()}\n",
    "    response = requests.get(url, headers=headers)\n",
    "    results = response.content\n",
    "    if not response.status_code == 404:\n",
    "        soup = BeautifulSoup(results, 'lxml')\n",
    "    return soup\n",
    "\n",
    "def extract_num(text):\n",
    "    \"\"\"\n",
    "    A helper function that extract any number from a text \n",
    "\n",
    "    Parameters\n",
    "    ----------\n",
    "    text : str\n",
    "        a string of text that might contains numbers \n",
    "\n",
    "    Returns\n",
    "    -------\n",
    "    num : float\n",
    "        the number extracted from the text \n",
    "\n",
    "    >>> _extract_num('$1000 per month')\n",
    "    1000.0\n",
    "    \"\"\"\n",
    "    try:\n",
    "        # pattern to find any number (int or float)\n",
    "        pattern = r'[-+]?\\d*\\.\\d+|\\d+'\n",
    "        result = re.findall(pattern, text)[0]\n",
    "        return float(result)\n",
    "    except:\n",
    "        return np.nan\n",
    "\n",
    "def soup_attempts(url, total_attempts=5):\n",
    "\n",
    "    soup = get_soup(url)\n",
    "\n",
    "    if soup:\n",
    "        return soup\n",
    "    else:\n",
    "        attempts = 0\n",
    "        while attempts < total_attempts:\n",
    "            time.sleep(3)\n",
    "            soup = get_soup(url)\n",
    "            if soup:\n",
    "                return soup\n",
    "        raise ValueError(f'FAILED to get soup for apt url {url}')"
   ]
  },
  {
   "cell_type": "code",
   "execution_count": 3,
   "metadata": {},
   "outputs": [],
   "source": [
    "url = 'https://www.corcoran.com/nyc-real-estate/for-sale/williamsburg/30-bartlett-street/5151565'\n",
    "soup = soup_attempts(url)"
   ]
  },
  {
   "cell_type": "code",
   "execution_count": 11,
   "metadata": {},
   "outputs": [
    {
     "data": {
      "text/plain": [
       "<figure class=\"getCarouselSlides__SlideFigure-cel6pe-2 jpnhrN\"><img alt=\"slide image\" class=\"getCarouselSlides__SlideImage-cel6pe-3 cNdyRy\" src=\"https://mediarouting.vestahub.com/Media/68020238/box/800x800\"/></figure>"
      ]
     },
     "execution_count": 11,
     "metadata": {},
     "output_type": "execute_result"
    }
   ],
   "source": [
    "soup.find('figure', class_='getCarouselSlides__SlideFigure-cel6pe-2 jpnhrN')"
   ]
  },
  {
   "cell_type": "code",
   "execution_count": 12,
   "metadata": {},
   "outputs": [
    {
     "data": {
      "text/plain": [
       "<div class=\"carousel-item active\"><div aria-label=\"slide image\" aria-pressed=\"false\" class=\"getCarouselSlides__SlideImageWrapper-cel6pe-1 kRBdIV\" role=\"button\" tabindex=\"0\"><figure class=\"getCarouselSlides__SlideFigure-cel6pe-2 jpnhrN\"><img alt=\"slide image\" class=\"getCarouselSlides__SlideImage-cel6pe-3 cNdyRy\" src=\"https://mediarouting.vestahub.com/Media/68020238/box/800x800\"/></figure></div><div class=\"carousel-caption d-none d-md-block\"><h3></h3><p>caption</p></div></div>"
      ]
     },
     "execution_count": 12,
     "metadata": {},
     "output_type": "execute_result"
    }
   ],
   "source": [
    "soup.find('div', class_='carousel-item')"
   ]
  },
  {
   "cell_type": "code",
   "execution_count": 13,
   "metadata": {},
   "outputs": [
    {
     "data": {
      "text/plain": [
       "<figure class=\"getCarouselSlides__SlideFigure-cel6pe-2 jpnhrN\"><img alt=\"slide image\" class=\"getCarouselSlides__SlideImage-cel6pe-3 cNdyRy\" src=\"https://mediarouting.vestahub.com/Media/68020238/box/800x800\"/></figure>"
      ]
     },
     "execution_count": 13,
     "metadata": {},
     "output_type": "execute_result"
    }
   ],
   "source": [
    "soup.find('figure', class_='getCarouselSlides__SlideFigure-cel6pe-2 jpnhrN')"
   ]
  },
  {
   "cell_type": "code",
   "execution_count": 14,
   "metadata": {},
   "outputs": [
    {
     "data": {
      "text/plain": [
       "<div class=\"sc-htpNat Col-sc-1wb67sp-0 MainListingInfo__LeftCol-sc-1fxwvn8-1 cKZOWW\" data-name=\"col-md-8\"><h1>30 Bartlett Street</h1><div class=\"MainListingInfo__UnitTypeAndStatusContainer-sc-1fxwvn8-8 djClTt\">Commercial<!-- --> | <!-- -->for Sale</div><div class=\"MainListingInfo__NeighborhoodNameLink-sc-1fxwvn8-9 eNUIut\"><a href=\"/nyc-real-estate/neighborhoods/williamsburg\" id=\"neighborhood-name-link\">Williamsburg</a></div><div class=\"MainListingInfo__CrossStreets-sc-1fxwvn8-10 fBSNno\">Between Harrison Avenue and Throop Avenue</div><strong class=\"MainListingInfo__WebId-sc-1fxwvn8-4 haTtwu\">WEB ID: <!-- -->5151565</strong></div>"
      ]
     },
     "execution_count": 14,
     "metadata": {},
     "output_type": "execute_result"
    }
   ],
   "source": [
    "soup.find('div', attrs={'data-name': 'col-md-8'})"
   ]
  },
  {
   "cell_type": "code",
   "execution_count": 3,
   "metadata": {},
   "outputs": [],
   "source": [
    "url_all = 'https://www.corcoran.com/nyc-real-estate/for-sale/search?neighborhoods=battery-park-city%2Cbeekman%2Ccentral-park-south%2Cchelsea-hudson-yards%2Cchinatown%2Cclinton%2Ceast-harlem%2Ceast-village%2Cfinancial-district%2Cflatiron%2Cgramercy%2Cgreenwich-village%2Chamilton-heights%2Charlem%2Cinwood%2Clower-east-side%2Cmidtown-east%2Cmidtown-west%2Cmorningside-heights%2Cmurray-hill%2Croosevelt-island%2Csoho-nolita%2Csutton-area%2Ctribeca%2Cupper-east-side%2Cupper-west-side%2Cwashington-heights%2Cwest-village%2Ccarnegie-hill%2Ckips-bay%2Cno-mad%2Cbath-beach%2Cbensonhurst%2Cbay-ridge%2Cbedford-stuyvesant%2Cbergen-beach%2Cboerum-hill%2Cborough-park%2Cbrighton-beach%2Cbrooklyn-heights%2Cbrownsville%2Cbushwick%2Ccanarsie%2Ccarroll-gardens%2Cclinton-hill%2Ccobble-hill%2Cconey-island%2Ccrown-heights%2Ccypress-hill%2Cditmas-park%2Cdowntown-brooklyn%2Cdyker-heights%2Ceast-flatbush%2Ceast-new-york%2Cflatbush%2Cflatlands%2Cfort-greene%2Cgowanus%2Cgravesend%2Cgreenpoint%2Cgreenwood%2Ckensington%2Clefferts-gardens%2Cmanhattan-beach%2Cmapleton%2Cmarine-park%2Cmidwood%2Cmill-basin%2Cnew-lots%2Cpark-slope%2Cprospect-heights%2Cprospect-park-south%2Cred-hook%2Csea-gate%2Csheepshead-bay%2Cspring-creek%2Cstarrett-city%2Csunset-park%2Cdumbo-vinegar-hill%2Cweeksville%2Cwilliamsburg%2Cwindsor-terrace%2Cocean-parkway%2Cgerritsen-beach%2Cbrooklyn-navy-yard%2Ccolumbia-waterfront%2Castoria%2Cbelle-harbor%2Cforest-hills%2Cjackson-heights%2Ckew-gardens%2Clong-island-city%2Csunnyside%2Cwoodside%2Cridgewood%2Cflushing%2Cfresh-meadows%2Cjamaica%2Csouth-jamaica%2Cmaspeth%2Cglendale%2Cmiddle-village%2Cwoodhaven%2Celmhurst%2Ceast-elmhurst%2Ccorona%2Ccollege-point%2Cwhitestone%2Cqueens-village%2Cbellerose%2Chollis%2Cst-albans%2Ccambria-heights%2Cozone-park%2Csouth-ozone-park%2Choward-beach%2Crichmond-hills%2Cspringfield-gardens%2Claurelton%2Crockaway-beach%2Cbriarwood%2Cbroad-channel%2Cfloral-park%2Cglen-oaks%2Cjamaica-hills%2Ckew-gardens-hills%2Clittle-neck%2Cnew-hyde-park%2Crego-park%2Crochdale%2Crockaway%2Crosedale%2Criverdale%2Callerton%2Cbaychester%2Cbedford-park%2Cbelmont%2Ccastle-hill%2Ccity-island%2Cco-op-city%2Ccountry-club%2Ceast-tremont%2Ceastchester%2Cedenwald%2Cedgewater-park%2Cfordham%2Chighbridge%2Chunts-point%2Ckingsbridge%2Claconia%2Clongwood%2Cmelrose%2Cmorris-heights%2Cmorris-park%2Cmorrisania%2Cmott-haven%2Cnorwood%2Cparkchester%2Cpelham-bay%2Cpelham-gardens%2Cpelham-parkway%2Cschuylerville%2Csoundview%2Cthroggs-neck%2Ctremont%2Cuniversity-heights%2Cvan-nest%2Cwakefield%2Cwilliamsbridge%2Cwoodlawn&keywordSearch=houses%2Ctownhouses'\n",
    "soup_all = soup_attempts(url_all)"
   ]
  },
  {
   "cell_type": "code",
   "execution_count": 16,
   "metadata": {},
   "outputs": [],
   "source": [
    "apts = soup_all.find_all('div', class_='ListingCard__ListingCardWrapper-k9s72e-7 bxPua')"
   ]
  },
  {
   "cell_type": "code",
   "execution_count": 17,
   "metadata": {},
   "outputs": [
    {
     "data": {
      "text/plain": [
       "50"
      ]
     },
     "execution_count": 17,
     "metadata": {},
     "output_type": "execute_result"
    }
   ],
   "source": [
    "len(apts)"
   ]
  },
  {
   "cell_type": "code",
   "execution_count": 44,
   "metadata": {},
   "outputs": [
    {
     "name": "stdout",
     "output_type": "stream",
     "text": [
      "UPPER EAST SIDE\n",
      "162 East 63rd Street\n",
      "5 BD\n",
      "5.5 BA\n",
      "4,000 SF \n",
      "\n"
     ]
    }
   ],
   "source": [
    "import time\n",
    "\n",
    "from selenium import webdriver\n",
    "from selenium.webdriver.common.keys import Keys\n",
    "\n",
    "chromedriver = f'/Users/itachi/Downloads/Chrome/chromedriver'\n",
    "browser = webdriver.Chrome(executable_path=chromedriver)\n",
    "browser.get(url_all)\n",
    "time.sleep(1)\n",
    "elem = browser.find_element_by_xpath(\"//div[@class='ListingCard__ListingCardWrapper-k9s72e-7 bxPua']/following-sibling::div[49]/a[@class='ListingCard__TopSectionLink-k9s72e-17 icXLMN']\")\n",
    "print(elem.text, '\\n')\n",
    "\n",
    "# elem_a = elem.find_element_by_xpath(\"//a[@class='ListingCard__TopSectionLink-k9s72e-17 icXLMN']\")\n",
    "browser.execute_script('arguments[0].scrollIntoView(true)', elem)"
   ]
  },
  {
   "cell_type": "code",
   "execution_count": 46,
   "metadata": {},
   "outputs": [
    {
     "data": {
      "text/plain": [
       "'https://www.corcoran.com/nyc-real-estate/for-sale/upper-east-side/162-east-63rd-street/5893737'"
      ]
     },
     "execution_count": 46,
     "metadata": {},
     "output_type": "execute_result"
    }
   ],
   "source": [
    "elem.get_attribute('href')"
   ]
  },
  {
   "cell_type": "code",
   "execution_count": 5,
   "metadata": {},
   "outputs": [
    {
     "name": "stdout",
     "output_type": "stream",
     "text": [
      "NEW LISTING\n",
      "GREENPOINT\n",
      "75 Beadel Street\n",
      "6 BD\n",
      "6 BA\n",
      "3,300 SF\n",
      "$2,400,000\n",
      "https://www.corcoran.com/nyc-real-estate/for-sale/williamsburg/30-bartlett-street/5151565\n"
     ]
    }
   ],
   "source": [
    "elem2 = browser.find_element_by_xpath(f\"//div[@class='ListingCard__ListingCardWrapper-k9s72e-7 bxPua']/following-sibling::div[{49*1}]\")\n",
    "print(elem2.text)\n",
    "href = elem2.find_element_by_xpath(\"//a[@class='ListingCard__TopSectionLink-k9s72e-17 icXLMN']\")\n",
    "print(href.get_attribute('href'))\n",
    "browser.execute_script('arguments[0].scrollIntoView(true)', elem2)"
   ]
  },
  {
   "cell_type": "code",
   "execution_count": 58,
   "metadata": {},
   "outputs": [],
   "source": [
    "from selenium.webdriver.common.by import By\n",
    "from selenium.webdriver.support.ui import WebDriverWait\n",
    "from selenium.webdriver.support import expected_conditions as EC\n",
    "from selenium import webdriver\n",
    "from selenium.webdriver.common.keys import Keys\n",
    "\n",
    "chromedriver = f'/Users/itachi/Downloads/Chrome/chromedriver'\n",
    "\n",
    "def get_apt_info(apt_path, wait):\n",
    "    try:\n",
    "        url_path = \"a[@class='ListingCard__TopSectionLink-k9s72e-17 icXLMN']\"\n",
    "        full_path = f'{apt_path}/{url_path}'\n",
    "        element = wait.until(EC.presence_of_element_located((By.XPATH, full_path)))\n",
    "#         apt_info = element.text.replace('\\n', '|')\n",
    "#         href = url_element.get_attribute('href')\n",
    "        href = element.get_attribute('href')\n",
    "        return href \n",
    "    except:\n",
    "        print('can not find apartment')\n",
    "        return None\n",
    "\n",
    "def get_apt_info_batches(start, end, wait):\n",
    "    results_batch = []\n",
    "    for i in range(start, end):\n",
    "        sibling_path = f\"//div[@class='ListingCard__ListingCardWrapper-k9s72e-7 bxPua']/following-sibling::div[{i}]\"\n",
    "        href = get_apt_info(sibling_path, wait)\n",
    "        results_batch.append(href)\n",
    "    return results_batch\n",
    "\n",
    "def scroll_down(scroll_pg, wait):\n",
    "    try:\n",
    "        dest = f\"//div[@class='ListingCard__ListingCardWrapper-k9s72e-7 bxPua']/following-sibling::div[{scroll_pg}]\"\n",
    "        browser.implicitly_wait(5)\n",
    "        elem_dest = wait.until(EC.presence_of_element_located((By.XPATH, dest)))\n",
    "        browser.execute_script('arguments[0].scrollIntoView(true)', elem_dest)\n",
    "        \n",
    "        buffer_dest = f\"//div[@class='ListingCard__ListingCardWrapper-k9s72e-7 bxPua']/following-sibling::div[{scroll_pg+5}]\"\n",
    "        browser.implicitly_wait(5)\n",
    "        elem_buffer = wait.until(EC.presence_of_element_located((By.XPATH, buffer_dest)))\n",
    "        browser.execute_script('arguments[0].scrollIntoView(true)', elem_buffer)\n",
    "    except:\n",
    "        print(f'scrolling failed')\n",
    "        \n",
    "def get_total_apt_num(url):\n",
    "    soup = soup_attempts(url)\n",
    "    header = soup.find('h2')\\\n",
    "                 .get_text()\n",
    "    total_apt_num = int(extract_num(header))\n",
    "    return total_apt_num\n",
    "\n",
    "def buffer_page(scroll_pg):\n",
    "    if scroll_pg <= 10*49:\n",
    "        scroll_buffer = scroll_pg+5\n",
    "    elif scroll_pg <= 16*49:\n",
    "        scroll_buffer = scroll_pg+10\n",
    "    elif scroll_pg <= 21*49:\n",
    "        scroll_buffer = scroll_pg+15\n",
    "    elif scroll_pg <= 25*49:\n",
    "        scroll_buffer = scroll_pg+20\n",
    "    elif scroll_pg <= 31*49:\n",
    "        scroll_buffer = scroll_pg+25\n",
    "    else:\n",
    "        scroll_buffer = scroll_pg+30\n",
    "    \n",
    "    return scroll_buffer\n",
    "        \n",
    "def scroll_down(scroll_pg, wait):\n",
    "    try:\n",
    "        dest = f\"//div[@class='ListingCard__ListingCardWrapper-k9s72e-7 bxPua']/following-sibling::div[{scroll_pg}]\"\n",
    "        browser.implicitly_wait(5)\n",
    "        elem_dest = wait.until(EC.presence_of_element_located((By.XPATH, dest)))\n",
    "        browser.execute_script('arguments[0].scrollIntoView(true)', elem_dest)\n",
    "        time.sleep(5)\n",
    "        scroll_buffer = buffer_page(scroll_pg)\n",
    "        \n",
    "        buffer_dest = f\"//div[@class='ListingCard__ListingCardWrapper-k9s72e-7 bxPua']/following-sibling::div[{scroll_buffer}]\"\n",
    "        browser.implicitly_wait(5)\n",
    "        elem_buffer = wait.until(EC.presence_of_element_located((By.XPATH, buffer_dest)))\n",
    "        browser.execute_script('arguments[0].scrollIntoView(true)', elem_buffer)\n",
    "    except:\n",
    "        print('scrolling failed') \n",
    "\n",
    "def keep_scrolling_down(total_apt_num, wait, verbose=False, test=False):\n",
    "    nbatches = int((total_apt_num//49)+1)\n",
    "    results = []\n",
    "    \n",
    "    if test:\n",
    "        nbatches = 5\n",
    "    \n",
    "    for i in range(nbatches):\n",
    "        scroll_pg = 49*(i+1)\n",
    "        scroll_down(scroll_pg, wait)\n",
    "        if verbose:\n",
    "            print(f'page {i+1} scrolled')\n",
    "        \n",
    "        start, end = 49*i, 49*(i+1)\n",
    "        if i == 0:\n",
    "            start = 1\n",
    "        results += get_apt_info_batches(start, end, wait)\n",
    "        \n",
    "        if verbose:\n",
    "            print(f'results for page {i+1} obtained')\n",
    "            \n",
    "    return results\n",
    "\n",
    "def get_apt_urls(url, wait, verbose=False, test=False):\n",
    "    first_apt_path = f\"//div[@class='ListingCard__ListingCardWrapper-k9s72e-7 bxPua']\"\n",
    "    first_apt_url = get_apt_info(first_apt_path, wait)\n",
    "    results = [first_apt_url]\n",
    "    total_apt_num = get_total_apt_num(url)    \n",
    "    results += keep_scrolling_down(total_apt_num, wait, verbose, test)\n",
    "    results_final = list(filter(lambda x: x!=None, results))\n",
    "    return results_final\n",
    "    "
   ]
  },
  {
   "cell_type": "code",
   "execution_count": 23,
   "metadata": {},
   "outputs": [],
   "source": [
    "def scroll_down_v2(scroll_pg, wait):\n",
    "    try:\n",
    "        dest = f\"//div[@class='ListingCard__ListingCardWrapper-k9s72e-7 bxPua']/following-sibling::div[{scroll_pg}]\"\n",
    "        browser.implicitly_wait(5)\n",
    "        elem_dest = wait.until(EC.presence_of_element_located((By.XPATH, dest)))\n",
    "        browser.execute_script('arguments[0].scrollIntoView(true)', elem_dest)\n",
    "    except:\n",
    "        print(f'failed scrolling')"
   ]
  },
  {
   "cell_type": "code",
   "execution_count": 364,
   "metadata": {},
   "outputs": [],
   "source": [
    "scroll_pg = 49*35\n",
    "scroll_down_v2(scroll_pg, wait)"
   ]
  },
  {
   "cell_type": "code",
   "execution_count": 59,
   "metadata": {},
   "outputs": [
    {
     "name": "stdout",
     "output_type": "stream",
     "text": [
      "page 1 scrolled\n",
      "results for page 1 obtained\n",
      "page 2 scrolled\n",
      "results for page 2 obtained\n",
      "page 3 scrolled\n",
      "results for page 3 obtained\n",
      "page 4 scrolled\n",
      "results for page 4 obtained\n",
      "page 5 scrolled\n",
      "results for page 5 obtained\n"
     ]
    }
   ],
   "source": [
    "chromedriver = f'/Users/itachi/Downloads/Chrome/chromedriver'\n",
    "browser = webdriver.Chrome(executable_path=chromedriver)\n",
    "url_all = 'https://www.corcoran.com/nyc-real-estate/for-sale/search?neighborhoods=battery-park-city%2Cbeekman%2Ccentral-park-south%2Cchelsea-hudson-yards%2Cchinatown%2Cclinton%2Ceast-harlem%2Ceast-village%2Cfinancial-district%2Cflatiron%2Cgramercy%2Cgreenwich-village%2Chamilton-heights%2Charlem%2Cinwood%2Clower-east-side%2Cmidtown-east%2Cmidtown-west%2Cmorningside-heights%2Cmurray-hill%2Croosevelt-island%2Csoho-nolita%2Csutton-area%2Ctribeca%2Cupper-east-side%2Cupper-west-side%2Cwashington-heights%2Cwest-village%2Ccarnegie-hill%2Ckips-bay%2Cno-mad%2Cbath-beach%2Cbensonhurst%2Cbay-ridge%2Cbedford-stuyvesant%2Cbergen-beach%2Cboerum-hill%2Cborough-park%2Cbrighton-beach%2Cbrooklyn-heights%2Cbrownsville%2Cbushwick%2Ccanarsie%2Ccarroll-gardens%2Cclinton-hill%2Ccobble-hill%2Cconey-island%2Ccrown-heights%2Ccypress-hill%2Cditmas-park%2Cdowntown-brooklyn%2Cdyker-heights%2Ceast-flatbush%2Ceast-new-york%2Cflatbush%2Cflatlands%2Cfort-greene%2Cgowanus%2Cgravesend%2Cgreenpoint%2Cgreenwood%2Ckensington%2Clefferts-gardens%2Cmanhattan-beach%2Cmapleton%2Cmarine-park%2Cmidwood%2Cmill-basin%2Cnew-lots%2Cpark-slope%2Cprospect-heights%2Cprospect-park-south%2Cred-hook%2Csea-gate%2Csheepshead-bay%2Cspring-creek%2Cstarrett-city%2Csunset-park%2Cdumbo-vinegar-hill%2Cweeksville%2Cwilliamsburg%2Cwindsor-terrace%2Cocean-parkway%2Cgerritsen-beach%2Cbrooklyn-navy-yard%2Ccolumbia-waterfront%2Castoria%2Cbelle-harbor%2Cforest-hills%2Cjackson-heights%2Ckew-gardens%2Clong-island-city%2Csunnyside%2Cwoodside%2Cridgewood%2Cflushing%2Cfresh-meadows%2Cjamaica%2Csouth-jamaica%2Cmaspeth%2Cglendale%2Cmiddle-village%2Cwoodhaven%2Celmhurst%2Ceast-elmhurst%2Ccorona%2Ccollege-point%2Cwhitestone%2Cqueens-village%2Cbellerose%2Chollis%2Cst-albans%2Ccambria-heights%2Cozone-park%2Csouth-ozone-park%2Choward-beach%2Crichmond-hills%2Cspringfield-gardens%2Claurelton%2Crockaway-beach%2Cbriarwood%2Cbroad-channel%2Cfloral-park%2Cglen-oaks%2Cjamaica-hills%2Ckew-gardens-hills%2Clittle-neck%2Cnew-hyde-park%2Crego-park%2Crochdale%2Crockaway%2Crosedale%2Criverdale%2Callerton%2Cbaychester%2Cbedford-park%2Cbelmont%2Ccastle-hill%2Ccity-island%2Cco-op-city%2Ccountry-club%2Ceast-tremont%2Ceastchester%2Cedenwald%2Cedgewater-park%2Cfordham%2Chighbridge%2Chunts-point%2Ckingsbridge%2Claconia%2Clongwood%2Cmelrose%2Cmorris-heights%2Cmorris-park%2Cmorrisania%2Cmott-haven%2Cnorwood%2Cparkchester%2Cpelham-bay%2Cpelham-gardens%2Cpelham-parkway%2Cschuylerville%2Csoundview%2Cthroggs-neck%2Ctremont%2Cuniversity-heights%2Cvan-nest%2Cwakefield%2Cwilliamsbridge%2Cwoodlawn&keywordSearch=houses%2Ctownhouses'\n",
    "browser.get(url_all)\n",
    "wait = WebDriverWait(browser, 20)\n",
    "results_apt = get_apt_urls(url_all, wait, verbose=True, test=True)"
   ]
  },
  {
   "cell_type": "code",
   "execution_count": 60,
   "metadata": {},
   "outputs": [
    {
     "data": {
      "text/plain": [
       "['https://www.corcoran.com/nyc-real-estate/for-sale/williamsburg/30-bartlett-street/5151565',\n",
       " 'https://www.corcoran.com/nyc-real-estate/for-sale/brooklyn-heights/18-remsen-street/5846984',\n",
       " 'https://www.corcoran.com/nyc-real-estate/for-sale/upper-east-side/3-east-63rd-street/5689408',\n",
       " 'https://www.corcoran.com/nyc-real-estate/for-sale/so-ho-nolita/7-centre-market-place/5859066',\n",
       " 'https://www.corcoran.com/nyc-real-estate/for-sale/greenpoint/1097-lorimer-street/5777325',\n",
       " 'https://www.corcoran.com/nyc-real-estate/for-sale/fort-greene/412-adelphi-street/5891369',\n",
       " 'https://www.corcoran.com/nyc-real-estate/for-sale/park-slope/431-8th-street/5890310',\n",
       " 'https://www.corcoran.com/nyc-real-estate/for-sale/bay-ridge/41-76th-street/5903532',\n",
       " 'https://www.corcoran.com/nyc-real-estate/for-sale/bedford-stuyvesant/933-greene-avenue/5702129',\n",
       " 'https://www.corcoran.com/nyc-real-estate/for-sale/east-flatbush/606-east-91st-street/5721881',\n",
       " 'https://www.corcoran.com/nyc-real-estate/for-sale/park-slope/607-president-street/5878318',\n",
       " 'https://www.corcoran.com/nyc-real-estate/for-sale/west-village/17-grove-st/5674022',\n",
       " 'https://www.corcoran.com/nyc-real-estate/for-sale/west-village/70-bethune-street/3643652',\n",
       " 'https://www.corcoran.com/nyc-real-estate/for-sale/upper-west-side/51-west-83rd-street/3532068',\n",
       " 'https://www.corcoran.com/nyc-real-estate/for-sale/upper-east-side/38-40-east-75th-street/3644349',\n",
       " 'https://www.corcoran.com/nyc-real-estate/for-sale/harlem/104-west-120th-street/5859983',\n",
       " 'https://www.corcoran.com/nyc-real-estate/for-sale/upper-east-side/2-east-82nd-street/5725594',\n",
       " 'https://www.corcoran.com/nyc-real-estate/for-sale/canarsie/1769-rockaway-pkwy/5731430',\n",
       " 'https://www.corcoran.com/nyc-real-estate/for-sale/carnegie-hill/127-east-92nd-street/5893414',\n",
       " 'https://www.corcoran.com/nyc-real-estate/for-sale/harlem/43-west-127th-street/5902054',\n",
       " 'https://www.corcoran.com/nyc-real-estate/for-sale/upper-east-side/20-east-78th-street/5574659',\n",
       " 'https://www.corcoran.com/nyc-real-estate/for-sale/upper-east-side/154-east-63rd-street/5706458',\n",
       " 'https://www.corcoran.com/nyc-real-estate/for-sale/kensington/711-church-avenue/5752751',\n",
       " 'https://www.corcoran.com/nyc-real-estate/for-sale/greenwood/219-26th-street/5802339',\n",
       " 'https://www.corcoran.com/nyc-real-estate/for-sale/harlem/59-west-119th-street/5918346',\n",
       " 'https://www.corcoran.com/nyc-real-estate/for-sale/greenwood/314-19th-street/5721540',\n",
       " 'https://www.corcoran.com/nyc-real-estate/for-sale/flatbush/1558-nostrand-avenue/5744788',\n",
       " 'https://www.corcoran.com/nyc-real-estate/for-sale/upper-east-side/180-east-94th-street/5743741',\n",
       " 'https://www.corcoran.com/nyc-real-estate/for-sale/east-flatbush/347-east-35th-street/5940023',\n",
       " 'https://www.corcoran.com/nyc-real-estate/for-sale/harlem/170-west-133rd-street/5900693',\n",
       " 'https://www.corcoran.com/nyc-real-estate/for-sale/williamsburg/514-grand-street/5830694',\n",
       " 'https://www.corcoran.com/nyc-real-estate/for-sale/clinton/458-west-50th-street/5861038',\n",
       " 'https://www.corcoran.com/nyc-real-estate/for-sale/upper-east-side/715-park-ave-6-e/5934614',\n",
       " 'https://www.corcoran.com/nyc-real-estate/for-sale/bedford-stuyvesant/280-patchen-avenue/5628030',\n",
       " 'https://www.corcoran.com/nyc-real-estate/for-sale/carnegie-hill/125-east-92nd-street/5824802',\n",
       " 'https://www.corcoran.com/nyc-real-estate/for-sale/park-slope/732-5th-avenue/5890678',\n",
       " 'https://www.corcoran.com/nyc-real-estate/for-sale/bay-ridge/7809-3rd-avenue/5861725',\n",
       " 'https://www.corcoran.com/nyc-real-estate/for-sale/gowanus/360-3rd-avenue/5874576',\n",
       " 'https://www.corcoran.com/nyc-real-estate/for-sale/williamsburg/22-orient-avenue/5903031',\n",
       " 'https://www.corcoran.com/nyc-real-estate/for-sale/west-village/41-bank-street/5877984',\n",
       " 'https://www.corcoran.com/nyc-real-estate/for-sale/greenpoint/146-diamond-street/5892811',\n",
       " 'https://www.corcoran.com/nyc-real-estate/for-sale/harlem/108-west-120th-street/5874962',\n",
       " 'https://www.corcoran.com/nyc-real-estate/for-sale/prospect-heights/736-bergen-street/5770097',\n",
       " 'https://www.corcoran.com/nyc-real-estate/for-sale/sunset-park/5212-4th-avenue/5748930',\n",
       " 'https://www.corcoran.com/nyc-real-estate/for-sale/hamilton-heights/731-saint-nicholas-ave/5821466',\n",
       " 'https://www.corcoran.com/nyc-real-estate/for-sale/canarsie/917-east-58th-street/5900132',\n",
       " 'https://www.corcoran.com/nyc-real-estate/for-sale/bay-ridge/516-68th-street/5938251',\n",
       " 'https://www.corcoran.com/nyc-real-estate/for-sale/kensington/754-mcdonald-avenue/5760044',\n",
       " 'https://www.corcoran.com/nyc-real-estate/for-sale/greenpoint/75-beadel-street/5941536',\n",
       " 'https://www.corcoran.com/nyc-real-estate/for-sale/jamaica/153-33-89th-avenue/5685972',\n",
       " 'https://www.corcoran.com/nyc-real-estate/for-sale/fort-greene/372-clermont-avenue/5875673',\n",
       " 'https://www.corcoran.com/nyc-real-estate/for-sale/upper-east-side/162-east-63rd-street/5893737',\n",
       " 'https://www.corcoran.com/nyc-real-estate/for-sale/windsor-terrace/158-terrace-place/5897642',\n",
       " 'https://www.corcoran.com/nyc-real-estate/for-sale/harlem/262-west-121st-street/5928703',\n",
       " 'https://www.corcoran.com/nyc-real-estate/for-sale/dyker-heights/1401-80th-street/5921770',\n",
       " 'https://www.corcoran.com/nyc-real-estate/for-sale/chelsea-hudson-yards/458-west-23rd-street-grgf/5752892',\n",
       " 'https://www.corcoran.com/nyc-real-estate/for-sale/lefferts-gardens/19-clarkson-avenue/5722439',\n",
       " 'https://www.corcoran.com/nyc-real-estate/for-sale/crown-heights/2303-pacific-street/5850019',\n",
       " 'https://www.corcoran.com/nyc-real-estate/for-sale/bay-ridge/578-74th-street/5888964',\n",
       " 'https://www.corcoran.com/nyc-real-estate/for-sale/bushwick/228-a-palmetto-street/5888848',\n",
       " 'https://www.corcoran.com/nyc-real-estate/for-sale/greenwood/155-17th-street/5932941',\n",
       " 'https://www.corcoran.com/nyc-real-estate/for-sale/hamilton-heights/730-saint-nicholas-ave/5564929',\n",
       " 'https://www.corcoran.com/nyc-real-estate/for-sale/bedford-stuyvesant/228-monroe-street/5860751',\n",
       " 'https://www.corcoran.com/nyc-real-estate/for-sale/gowanus/177-12-th-street/5894651',\n",
       " 'https://www.corcoran.com/nyc-real-estate/for-sale/prospect-heights/873-pacific-street-garden/5938605',\n",
       " 'https://www.corcoran.com/nyc-real-estate/for-sale/bedford-stuyvesant/20-jefferson-avenue/5917970',\n",
       " 'https://www.corcoran.com/nyc-real-estate/for-sale/bedford-stuyvesant/222-mac-dougal-street/5904131',\n",
       " 'https://www.corcoran.com/nyc-real-estate/for-sale/bedford-stuyvesant/525-a-quincy-street/5748766',\n",
       " 'https://www.corcoran.com/nyc-real-estate/for-sale/bedford-stuyvesant/926-lafayette-avenue/5742697',\n",
       " 'https://www.corcoran.com/nyc-real-estate/for-sale/upper-east-side/315-east-69th-street-2-jk/5859267',\n",
       " 'https://www.corcoran.com/nyc-real-estate/for-sale/east-flatbush/3604-church-avenue/5748435',\n",
       " 'https://www.corcoran.com/nyc-real-estate/for-sale/flatbush/339-lenox-road/5900472',\n",
       " 'https://www.corcoran.com/nyc-real-estate/for-sale/greenwood/265-a-17th-street/5905320',\n",
       " 'https://www.corcoran.com/nyc-real-estate/for-sale/east-flatbush/914-east-new-york-avenue/5892284',\n",
       " 'https://www.corcoran.com/nyc-real-estate/for-sale/boerum-hill/486-warren-street/5893663',\n",
       " 'https://www.corcoran.com/nyc-real-estate/for-sale/crown-heights/175-a-buffalo-avenue/5933515',\n",
       " 'https://www.corcoran.com/nyc-real-estate/for-sale/crown-heights/1380-sterling-place/5919863',\n",
       " 'https://www.corcoran.com/nyc-real-estate/for-sale/red-hook/45-wolcott-street/5642217',\n",
       " 'https://www.corcoran.com/nyc-real-estate/for-sale/east-new-york/561-vermont-street/5928000',\n",
       " 'https://www.corcoran.com/nyc-real-estate/for-sale/crown-heights/152-sackman-street/5899852',\n",
       " 'https://www.corcoran.com/nyc-real-estate/for-sale/crown-heights/1051-carroll-street/5874361',\n",
       " 'https://www.corcoran.com/nyc-real-estate/for-sale/crown-heights/1032-bergen-street/5702302',\n",
       " 'https://www.corcoran.com/nyc-real-estate/for-sale/harlem/242-west-132nd-street/5703995',\n",
       " 'https://www.corcoran.com/nyc-real-estate/for-sale/murray-hill-kips-bay/110-east-35th-street/5655706',\n",
       " 'https://www.corcoran.com/nyc-real-estate/for-sale/marine-park/1973-east-36th-street/5894081',\n",
       " 'https://www.corcoran.com/nyc-real-estate/for-sale/williamsburg/668-metropolitan-avenue/5689041',\n",
       " 'https://www.corcoran.com/nyc-real-estate/for-sale/murray-hill-kips-bay/147-lexington-avenue/5881152',\n",
       " 'https://www.corcoran.com/nyc-real-estate/for-sale/brooklyn-heights/60-pineapple-street-7-c/5843970',\n",
       " 'https://www.corcoran.com/nyc-real-estate/for-sale/upper-east-side/25-east-69th-street-2-a/5740389',\n",
       " 'https://www.corcoran.com/nyc-real-estate/for-sale/west-village/14-saint-lukes-place/5574395',\n",
       " 'https://www.corcoran.com/nyc-real-estate/for-sale/park-slope/469-a-18th-street/5857711',\n",
       " 'https://www.corcoran.com/nyc-real-estate/for-sale/park-slope/228-garfield-place/5614201',\n",
       " 'https://www.corcoran.com/nyc-real-estate/for-sale/harlem/221-west-137th-street/5901136',\n",
       " 'https://www.corcoran.com/nyc-real-estate/for-sale/harlem/242-west-132nd-street/5898336',\n",
       " 'https://www.corcoran.com/nyc-real-estate/for-sale/gramercy/135-east-15th-street/5232373',\n",
       " 'https://www.corcoran.com/nyc-real-estate/for-sale/park-slope/84-6th-avenue/5746947',\n",
       " 'https://www.corcoran.com/nyc-real-estate/for-sale/williamsburg/392-lorimer-street/5653131',\n",
       " 'https://www.corcoran.com/nyc-real-estate/for-sale/williamsburg/96-south-2nd-street/5756605',\n",
       " 'https://www.corcoran.com/nyc-real-estate/for-sale/williamsburg/241-manhattan-avenue/5563786',\n",
       " 'https://www.corcoran.com/nyc-real-estate/for-sale/williamsburg/97-north-6th-street/5756600',\n",
       " 'https://www.corcoran.com/nyc-real-estate/for-sale/west-village/409-bleecker-street/5933526',\n",
       " 'https://www.corcoran.com/nyc-real-estate/for-sale/murray-hill-kips-bay/121-east-38th-street/5775028',\n",
       " 'https://www.corcoran.com/nyc-real-estate/for-sale/williamsburg/97-north-6th-street/5756600',\n",
       " 'https://www.corcoran.com/nyc-real-estate/for-sale/bay-ridge/49-83rd-street/5890211',\n",
       " 'https://www.corcoran.com/nyc-real-estate/for-sale/lefferts-gardens/205-lefferts-avenue/5800566',\n",
       " 'https://www.corcoran.com/nyc-real-estate/for-sale/greenpoint/108-india-street-1/5768619',\n",
       " 'https://www.corcoran.com/nyc-real-estate/for-sale/red-hook/67-dikeman-street/5384312',\n",
       " 'https://www.corcoran.com/nyc-real-estate/for-sale/upper-west-side/18-west-76th-street/5614635',\n",
       " 'https://www.corcoran.com/nyc-real-estate/for-sale/dyker-heights/1367-86th-street/5917767',\n",
       " 'https://www.corcoran.com/nyc-real-estate/for-sale/lefferts-gardens/453-fenimore-street/5943976',\n",
       " 'https://www.corcoran.com/nyc-real-estate/for-sale/bedford-stuyvesant/667-decatur-street/5767894',\n",
       " 'https://www.corcoran.com/nyc-real-estate/for-sale/prospect-park-south/170-stratford-road/5835741',\n",
       " 'https://www.corcoran.com/nyc-real-estate/for-sale/bay-ridge/639-74th-street/5897037',\n",
       " 'https://www.corcoran.com/nyc-real-estate/for-sale/lefferts-gardens/162-lefferts-avenue/5833288',\n",
       " 'https://www.corcoran.com/nyc-real-estate/for-sale/cobble-hill/205-clinton-street/5904757',\n",
       " 'https://www.corcoran.com/nyc-real-estate/for-sale/boerum-hill/380-atlantic-avenue/5893211',\n",
       " 'https://www.corcoran.com/nyc-real-estate/for-sale/crown-heights/1156-sterling-place/5897409',\n",
       " 'https://www.corcoran.com/nyc-real-estate/for-sale/ditmas-park/1308-ditmas-avenue/5859375',\n",
       " 'https://www.corcoran.com/nyc-real-estate/for-sale/bushwick/149-weirfield-street/5891127',\n",
       " 'https://www.corcoran.com/nyc-real-estate/for-sale/clinton-hill/8-saint-james-place/5931526',\n",
       " 'https://www.corcoran.com/nyc-real-estate/for-sale/hamilton-heights/454-west-141st-street/5889335',\n",
       " 'https://www.corcoran.com/nyc-real-estate/for-sale/carroll-gardens/409-union-street/5899253',\n",
       " 'https://www.corcoran.com/nyc-real-estate/for-sale/bedford-stuyvesant/561-macdonough-street/5897460',\n",
       " 'https://www.corcoran.com/nyc-real-estate/for-sale/bedford-stuyvesant/281-van-buren-street/5878808',\n",
       " 'https://www.corcoran.com/nyc-real-estate/for-sale/park-slope/609-6th-street/5729819',\n",
       " 'https://www.corcoran.com/nyc-real-estate/for-sale/bedford-stuyvesant/101-halsey-street/5721513',\n",
       " 'https://www.corcoran.com/nyc-real-estate/for-sale/bay-ridge/153-86th-street/5890229',\n",
       " 'https://www.corcoran.com/nyc-real-estate/for-sale/bay-ridge/7600-ridge-boulevard/5882390',\n",
       " 'https://www.corcoran.com/nyc-real-estate/for-sale/greenwood/338-a-22nd-street/5898385',\n",
       " 'https://www.corcoran.com/nyc-real-estate/for-sale/hamilton-heights/509-west-149th-street/5758386',\n",
       " 'https://www.corcoran.com/nyc-real-estate/for-sale/greenwood/658-6th-avenue/5938175',\n",
       " 'https://www.corcoran.com/nyc-real-estate/for-sale/bedford-stuyvesant/379-nostrand-avenue/5924442',\n",
       " 'https://www.corcoran.com/nyc-real-estate/for-sale/bedford-stuyvesant/116-a-patchen-avenue/5899292',\n",
       " 'https://www.corcoran.com/nyc-real-estate/for-sale/bedford-stuyvesant/137-van-buren-street/5889958',\n",
       " 'https://www.corcoran.com/nyc-real-estate/for-sale/bedford-stuyvesant/657-greene-avenue/5751709',\n",
       " 'https://www.corcoran.com/nyc-real-estate/for-sale/bedford-stuyvesant/228-lexington-avenue/5659899',\n",
       " 'https://www.corcoran.com/nyc-real-estate/for-sale/bedford-stuyvesant/99-malcolm-x-boulevard/5927577',\n",
       " 'https://www.corcoran.com/nyc-real-estate/for-sale/bedford-stuyvesant/229-a-vernon-avenue/5926356',\n",
       " 'https://www.corcoran.com/nyc-real-estate/for-sale/bedford-stuyvesant/798-greene-avenue/5883330',\n",
       " 'https://www.corcoran.com/nyc-real-estate/for-sale/clinton-hill/154-clifton-place/5774643',\n",
       " 'https://www.corcoran.com/nyc-real-estate/for-sale/crown-heights/1621-pacific-street/5774234',\n",
       " 'https://www.corcoran.com/nyc-real-estate/for-sale/crown-heights/672-saint-marks-avenue/5434138',\n",
       " 'https://www.corcoran.com/nyc-real-estate/for-sale/bushwick/1079-hancock-street/5770629',\n",
       " 'https://www.corcoran.com/nyc-real-estate/for-sale/bushwick/1194-decatur-street/5751736',\n",
       " 'https://www.corcoran.com/nyc-real-estate/for-sale/cobble-hill/62-verandah-place/5689563',\n",
       " 'https://www.corcoran.com/nyc-real-estate/for-sale/bushwick/1319-jefferson-avenue/5708920',\n",
       " 'https://www.corcoran.com/nyc-real-estate/for-sale/williamsburg/147-hope-street-th-1-a/5572911',\n",
       " 'https://www.corcoran.com/nyc-real-estate/for-sale/brooklyn-heights/37-schermerhorn-street/5883510',\n",
       " 'https://www.corcoran.com/nyc-real-estate/for-sale/crown-heights/680-saint-johns-place/5882440',\n",
       " 'https://www.corcoran.com/nyc-real-estate/for-sale/park-slope/145-berkeley-place/5923430',\n",
       " 'https://www.corcoran.com/nyc-real-estate/for-sale/park-slope/56-8th-avenue/5695052',\n",
       " 'https://www.corcoran.com/nyc-real-estate/for-sale/bushwick/1096-bushwick-avenue/5928373',\n",
       " 'https://www.corcoran.com/nyc-real-estate/for-sale/midtown-east/337-east-50th-street-1-d/5927595',\n",
       " 'https://www.corcoran.com/nyc-real-estate/for-sale/midtown-east/249-east-48th-street-5-c/5890016',\n",
       " 'https://www.corcoran.com/nyc-real-estate/for-sale/bedford-stuyvesant/62-rockaway-avenue/5857230',\n",
       " 'https://www.corcoran.com/nyc-real-estate/for-sale/lefferts-gardens/385-hawthorne-street/5820575',\n",
       " 'https://www.corcoran.com/nyc-real-estate/for-sale/chelsea-hudson-yards/140-seventh-avenue-2-r/5903240',\n",
       " 'https://www.corcoran.com/nyc-real-estate/for-sale/brooklyn-heights/1-pierrepont-street-2-a/5742751',\n",
       " 'https://www.corcoran.com/nyc-real-estate/for-sale/park-slope/865-union-street/5714679',\n",
       " 'https://www.corcoran.com/nyc-real-estate/for-sale/park-slope/837-839-union-street/5940814',\n",
       " 'https://www.corcoran.com/nyc-real-estate/for-sale/kensington/669-east-2nd-street/5439330',\n",
       " 'https://www.corcoran.com/nyc-real-estate/for-sale/harlem/21-west-121st-street/5647046',\n",
       " 'https://www.corcoran.com/nyc-real-estate/for-sale/upper-east-side/137-east-66th-street-7-a/5859025',\n",
       " 'https://www.corcoran.com/nyc-real-estate/for-sale/harlem/108-west-131st-street/5823099',\n",
       " 'https://www.corcoran.com/nyc-real-estate/for-sale/crown-heights/1385-pacific-street/5723475',\n",
       " 'https://www.corcoran.com/nyc-real-estate/for-sale/williamsburg/317-manhattan-avenue/5654851',\n",
       " 'https://www.corcoran.com/nyc-real-estate/for-sale/beekman/29-beekman-place/5729914',\n",
       " 'https://www.corcoran.com/nyc-real-estate/for-sale/clinton/443-west-44th-street/5843282',\n",
       " 'https://www.corcoran.com/nyc-real-estate/for-sale/west-village/257-west-4th-street/5932009',\n",
       " 'https://www.corcoran.com/nyc-real-estate/for-sale/williamsburg/68-devoe-street/5881522',\n",
       " 'https://www.corcoran.com/nyc-real-estate/for-sale/bedford-stuyvesant/381-jefferson-avenue/5875094',\n",
       " 'https://www.corcoran.com/nyc-real-estate/for-sale/ditmas-park/260-westminster-road/5874371',\n",
       " 'https://www.corcoran.com/nyc-real-estate/for-sale/clinton-hill/476-washington-avenue-c/5871676',\n",
       " 'https://www.corcoran.com/nyc-real-estate/for-sale/greenwich-village/43-west-12-th-street/5674067',\n",
       " 'https://www.corcoran.com/nyc-real-estate/for-sale/west-village/2-horatio-street-2-e/5537493',\n",
       " 'https://www.corcoran.com/nyc-real-estate/for-sale/belle-harbor/191-beach-138th-street/5731263',\n",
       " 'https://www.corcoran.com/nyc-real-estate/for-sale/boerum-hill/347-state-street/5711733',\n",
       " 'https://www.corcoran.com/nyc-real-estate/for-sale/williamsburg/203-209-north-11-th-street/5698656',\n",
       " 'https://www.corcoran.com/nyc-real-estate/for-sale/west-village/27-bank-street/5602165',\n",
       " 'https://www.corcoran.com/nyc-real-estate/for-sale/upper-east-side/151-east-72nd-street/5844156',\n",
       " 'https://www.corcoran.com/nyc-real-estate/for-sale/upper-east-side/52-east-66th-street/5556283',\n",
       " 'https://www.corcoran.com/nyc-real-estate/for-sale/upper-west-side/135-west-78th-street/5702711',\n",
       " 'https://www.corcoran.com/nyc-real-estate/for-sale/upper-west-side/471-west-end-avenue/3715003',\n",
       " 'https://www.corcoran.com/nyc-real-estate/for-sale/upper-east-side/930-fifth-avenue-10-e/5890019',\n",
       " 'https://www.corcoran.com/nyc-real-estate/for-sale/clinton-hill/127-saint-james-place-1/5763069',\n",
       " 'https://www.corcoran.com/nyc-real-estate/for-sale/clinton-hill/476-washington-avenue-a/5858323',\n",
       " 'https://www.corcoran.com/nyc-real-estate/for-sale/hamilton-heights/519-west-135th-street-5-b/5852571',\n",
       " 'https://www.corcoran.com/nyc-real-estate/for-sale/upper-west-side/107-west-86th-street-6-d/5932101',\n",
       " 'https://www.corcoran.com/nyc-real-estate/for-sale/upper-east-side/136-east-64th-street-11-a/5727085',\n",
       " 'https://www.corcoran.com/nyc-real-estate/for-sale/williamsburg/411-kent-avenue/5828116',\n",
       " 'https://www.corcoran.com/nyc-real-estate/for-sale/ditmas-park/509-stratford-road/5874317',\n",
       " 'https://www.corcoran.com/nyc-real-estate/for-sale/west-village/160-west-12-th-street-78/5938544',\n",
       " 'https://www.corcoran.com/nyc-real-estate/for-sale/bay-ridge/8121-shore-road/5534915',\n",
       " 'https://www.corcoran.com/nyc-real-estate/for-sale/park-slope/94-park-place/5924073',\n",
       " 'https://www.corcoran.com/nyc-real-estate/for-sale/harlem/250-west-139th-street/5782120',\n",
       " 'https://www.corcoran.com/nyc-real-estate/for-sale/greenpoint/151-kingsland-avenue-0/5944029',\n",
       " 'https://www.corcoran.com/nyc-real-estate/for-sale/bedford-stuyvesant/283-jefferson-avenue/5610921',\n",
       " 'https://www.corcoran.com/nyc-real-estate/for-sale/ditmas-park/649-east-24th-street/5782288',\n",
       " 'https://www.corcoran.com/nyc-real-estate/for-sale/carroll-gardens/289-union-street/5883984',\n",
       " 'https://www.corcoran.com/nyc-real-estate/for-sale/greenpoint/29-sutton-street/5927071',\n",
       " 'https://www.corcoran.com/nyc-real-estate/for-sale/greenpoint/29-sutton-street/5927071',\n",
       " 'https://www.corcoran.com/nyc-real-estate/for-sale/greenwich-village/155-west-11-th-street-9-a/5881199',\n",
       " 'https://www.corcoran.com/nyc-real-estate/for-sale/upper-east-side/125-east-65th-street/5725616',\n",
       " 'https://www.corcoran.com/nyc-real-estate/for-sale/upper-east-side/12-east-63rd-street/5646411',\n",
       " 'https://www.corcoran.com/nyc-real-estate/for-sale/upper-east-side/132-east-70th-street/5424891',\n",
       " 'https://www.corcoran.com/nyc-real-estate/for-sale/bushwick/278-eldert-street/5894683',\n",
       " 'https://www.corcoran.com/nyc-real-estate/for-sale/cobble-hill/168-amity-street/5745886',\n",
       " 'https://www.corcoran.com/nyc-real-estate/for-sale/clinton-hill/280-washington-avenue/5876711',\n",
       " 'https://www.corcoran.com/nyc-real-estate/for-sale/forest-hills-gardens/17-bow-street/5874532',\n",
       " 'https://www.corcoran.com/nyc-real-estate/for-sale/greenwich-village/157-west-12-th-street/5873971',\n",
       " 'https://www.corcoran.com/nyc-real-estate/for-sale/battery-park-city/10-west-street-33-c/5363330',\n",
       " 'https://www.corcoran.com/nyc-real-estate/for-sale/washington-heights/159-34-riverside-drive-west-3-e/5878310',\n",
       " 'https://www.corcoran.com/nyc-real-estate/for-sale/williamsburg/147-hope-street-2-h/5572937',\n",
       " 'https://www.corcoran.com/nyc-real-estate/for-sale/williamsburg/147-hope-street-2-j/5722472',\n",
       " 'https://www.corcoran.com/nyc-real-estate/for-sale/williamsburg/147-hope-street-ph-6-c/5573262',\n",
       " 'https://www.corcoran.com/nyc-real-estate/for-sale/park-slope/105-8th-avenue-2/5873117',\n",
       " 'https://www.corcoran.com/nyc-real-estate/for-sale/park-slope/220-7th-street/5658122',\n",
       " 'https://www.corcoran.com/nyc-real-estate/for-sale/chelsea-hudson-yards/328-west-23rd-street/5840757',\n",
       " 'https://www.corcoran.com/nyc-real-estate/for-sale/williamsburg/147-hope-street-ph-6-b/5779615',\n",
       " 'https://www.corcoran.com/nyc-real-estate/for-sale/williamsburg/147-hope-street-3-h/5774228',\n",
       " 'https://www.corcoran.com/nyc-real-estate/for-sale/carnegie-hill/1140-fifth-avenue-10-b/5902361',\n",
       " 'https://www.corcoran.com/nyc-real-estate/for-sale/carnegie-hill/1049-fifth-avenue-11-b-12-b/5923282',\n",
       " 'https://www.corcoran.com/nyc-real-estate/for-sale/williamsburg/147-hope-street-ph-5-b/5573229',\n",
       " 'https://www.corcoran.com/nyc-real-estate/for-sale/flatiron/31-west-21st-street-4/5722468',\n",
       " 'https://www.corcoran.com/nyc-real-estate/for-sale/clinton/416-west-51st-street/5380146',\n",
       " 'https://www.corcoran.com/nyc-real-estate/for-sale/williamsburg/147-hope-street-ph-5-a/5573228',\n",
       " 'https://www.corcoran.com/nyc-real-estate/for-sale/williamsburg/147-hope-street-ph-6-d/5573263',\n",
       " 'https://www.corcoran.com/nyc-real-estate/for-sale/williamsburg/147-hope-street-ph-5-f/5573247',\n",
       " 'https://www.corcoran.com/nyc-real-estate/for-sale/williamsburg/147-hope-street-4-a/5572978',\n",
       " 'https://www.corcoran.com/nyc-real-estate/for-sale/carroll-gardens/331-sackett-street-3-l/5918338',\n",
       " 'https://www.corcoran.com/nyc-real-estate/for-sale/boerum-hill/471-state-street/5903350',\n",
       " 'https://www.corcoran.com/nyc-real-estate/for-sale/upper-east-side/176-east-71st-street-2-f/5859668',\n",
       " 'https://www.corcoran.com/nyc-real-estate/for-sale/greenpoint/155-noble-street-3/5924294',\n",
       " 'https://www.corcoran.com/nyc-real-estate/for-sale/upper-east-side/10-east-76th-street/5428243',\n",
       " 'https://www.corcoran.com/nyc-real-estate/for-sale/downtown-brooklyn/211-schermerhorn-street-5-a/5586231',\n",
       " 'https://www.corcoran.com/nyc-real-estate/for-sale/gramercy/230-east-15th-street-7-f/5885285',\n",
       " 'https://www.corcoran.com/nyc-real-estate/for-sale/midtown-west/100-west-57th-street-5-j/5880303',\n",
       " 'https://www.corcoran.com/nyc-real-estate/for-sale/west-village/165-perry-street-5-d/5858200',\n",
       " 'https://www.corcoran.com/nyc-real-estate/for-sale/midtown-west/33-west-56th-street-5-c/5735397',\n",
       " 'https://www.corcoran.com/nyc-real-estate/for-sale/midtown-east/230-east-50th-street-1-a/5884073',\n",
       " 'https://www.corcoran.com/nyc-real-estate/for-sale/park-slope/106-prospect-place/5724945',\n",
       " 'https://www.corcoran.com/nyc-real-estate/for-sale/upper-west-side/27-west-67th-street-1-fe/5874006',\n",
       " 'https://www.corcoran.com/nyc-real-estate/for-sale/upper-west-side/336-west-end-avenue-13-f/5919832',\n",
       " 'https://www.corcoran.com/nyc-real-estate/for-sale/upper-west-side/165-west-end-avenue-20-p/5841785',\n",
       " 'https://www.corcoran.com/nyc-real-estate/for-sale/upper-east-side/30-east-85th-street-ph-28-a-b/5851274']"
      ]
     },
     "execution_count": 60,
     "metadata": {},
     "output_type": "execute_result"
    }
   ],
   "source": [
    "sample1 = results_apt\n",
    "sample1"
   ]
  },
  {
   "cell_type": "code",
   "execution_count": 85,
   "metadata": {},
   "outputs": [
    {
     "data": {
      "text/plain": [
       "'https://www.corcoran.com/nyc-real-estate/for-sale/williamsburg/30-bartlett-street/5151565'"
      ]
     },
     "execution_count": 85,
     "metadata": {},
     "output_type": "execute_result"
    }
   ],
   "source": [
    "sample1_url = sample1[0]\n",
    "sample1_url"
   ]
  },
  {
   "cell_type": "code",
   "execution_count": 86,
   "metadata": {},
   "outputs": [],
   "source": [
    "soup_sample1 = soup_attempts(sample1_url)"
   ]
  },
  {
   "cell_type": "code",
   "execution_count": 70,
   "metadata": {},
   "outputs": [
    {
     "data": {
      "text/plain": [
       "'Townhouse | for Sale'"
      ]
     },
     "execution_count": 70,
     "metadata": {},
     "output_type": "execute_result"
    }
   ],
   "source": [
    "soup_sample1.find('div', class_='MainListingInfo__UnitTypeAndStatusContainer-sc-1fxwvn8-9 hnYmAD').get_text()"
   ]
  },
  {
   "cell_type": "code",
   "execution_count": 71,
   "metadata": {},
   "outputs": [
    {
     "data": {
      "text/plain": [
       "<strong class=\"MainListingInfo__WebId-sc-1fxwvn8-4 haTtwu\">WEB ID: <!-- -->5689408</strong>"
      ]
     },
     "execution_count": 71,
     "metadata": {},
     "output_type": "execute_result"
    }
   ],
   "source": [
    "soup_sample1.find('strong', class_='MainListingInfo__WebId-sc-1fxwvn8-4 haTtwu')"
   ]
  },
  {
   "cell_type": "code",
   "execution_count": 80,
   "metadata": {},
   "outputs": [
    {
     "data": {
      "text/plain": [
       "'25 WIDTH'"
      ]
     },
     "execution_count": 80,
     "metadata": {},
     "output_type": "execute_result"
    }
   ],
   "source": [
    "soup_sample1.find('ul', class_='Essentials__EssentialsWrapper-sc-1jh003w-0 boWTpJ').find_all('li')[5].get_text()"
   ]
  },
  {
   "cell_type": "code",
   "execution_count": 67,
   "metadata": {},
   "outputs": [
    {
     "data": {
      "text/plain": [
       "[<figure class=\"getCarouselSlides__SlideFigure-cel6pe-2 jpnhrN\"><img alt=\"slide image\" class=\"getCarouselSlides__SlideImage-cel6pe-3 cNdyRy\" src=\"https://mediarouting.vestahub.com/Media/111071788/box/800x800\"/></figure>,\n",
       " <figure class=\"getCarouselSlides__SlideFigure-cel6pe-2 jpnhrN\"><img alt=\"slide image\" class=\"getCarouselSlides__SlideImage-cel6pe-3 cNdyRy\" src=\"https://mediarouting.vestahub.com/Media/111071762/box/800x800\"/></figure>,\n",
       " <figure class=\"getCarouselSlides__SlideFigure-cel6pe-2 jpnhrN\"><img alt=\"slide image\" class=\"getCarouselSlides__SlideImage-cel6pe-3 cNdyRy\" src=\"https://mediarouting.vestahub.com/Media/111071773/box/800x800\"/></figure>,\n",
       " <figure class=\"getCarouselSlides__SlideFigure-cel6pe-2 jpnhrN\"><img alt=\"slide image\" class=\"getCarouselSlides__SlideImage-cel6pe-3 cNdyRy\" src=\"https://mediarouting.vestahub.com/Media/111071768/box/800x800\"/></figure>,\n",
       " <figure class=\"getCarouselSlides__SlideFigure-cel6pe-2 jpnhrN\"><img alt=\"slide image\" class=\"getCarouselSlides__SlideImage-cel6pe-3 cNdyRy\" src=\"https://mediarouting.vestahub.com/Media/111071770/box/800x800\"/></figure>,\n",
       " <figure class=\"getCarouselSlides__SlideFigure-cel6pe-2 jpnhrN\"><img alt=\"slide image\" class=\"getCarouselSlides__SlideImage-cel6pe-3 cNdyRy\" src=\"https://mediarouting.vestahub.com/Media/111071756/box/800x800\"/></figure>,\n",
       " <figure class=\"getCarouselSlides__SlideFigure-cel6pe-2 jpnhrN\"><img alt=\"slide image\" class=\"getCarouselSlides__SlideImage-cel6pe-3 cNdyRy\" src=\"https://mediarouting.vestahub.com/Media/111095775/box/800x800\"/></figure>,\n",
       " <figure class=\"getCarouselSlides__SlideFigure-cel6pe-2 jpnhrN\"><img alt=\"slide image\" class=\"getCarouselSlides__SlideImage-cel6pe-3 cNdyRy\" src=\"https://mediarouting.vestahub.com/Media/111095780/box/800x800\"/></figure>,\n",
       " <figure class=\"getCarouselSlides__SlideFigure-cel6pe-2 jpnhrN\"><img alt=\"slide image\" class=\"getCarouselSlides__SlideImage-cel6pe-3 cNdyRy\" src=\"https://mediarouting.vestahub.com/Media/111071765/box/800x800\"/></figure>,\n",
       " <figure class=\"getCarouselSlides__SlideFigure-cel6pe-2 jpnhrN\"><img alt=\"slide image\" class=\"getCarouselSlides__SlideImage-cel6pe-3 cNdyRy\" src=\"https://mediarouting.vestahub.com/Media/111071758/box/800x800\"/></figure>,\n",
       " <figure class=\"getCarouselSlides__SlideFigure-cel6pe-2 jpnhrN\"><img alt=\"slide image\" class=\"getCarouselSlides__SlideImage-cel6pe-3 cNdyRy\" src=\"https://mediarouting.vestahub.com/Media/111071759/box/800x800\"/></figure>,\n",
       " <figure class=\"getCarouselSlides__SlideFigure-cel6pe-2 jpnhrN\"><img alt=\"slide image\" class=\"getCarouselSlides__SlideImage-cel6pe-3 cNdyRy\" src=\"https://mediarouting.vestahub.com/Media/111071789/box/800x800\"/></figure>,\n",
       " <figure class=\"getCarouselSlides__SlideFigure-cel6pe-2 jpnhrN\"><img alt=\"slide image\" class=\"getCarouselSlides__SlideImage-cel6pe-3 cNdyRy\" src=\"https://mediarouting.vestahub.com/Media/111071790/box/800x800\"/></figure>,\n",
       " <figure class=\"getCarouselSlides__SlideFigure-cel6pe-2 jpnhrN\"><img alt=\"slide image\" class=\"getCarouselSlides__SlideImage-cel6pe-3 cNdyRy\" src=\"https://mediarouting.vestahub.com/Media/111071757/box/800x800\"/></figure>,\n",
       " <figure class=\"getCarouselSlides__SlideFigure-cel6pe-2 jpnhrN\"><img alt=\"slide image\" class=\"getCarouselSlides__SlideImage-cel6pe-3 cNdyRy\" src=\"https://mediarouting.vestahub.com/Media/111071763/box/800x800\"/></figure>,\n",
       " <figure class=\"getCarouselSlides__SlideFigure-cel6pe-2 jpnhrN\"><img alt=\"slide image\" class=\"getCarouselSlides__SlideImage-cel6pe-3 cNdyRy\" src=\"https://mediarouting.vestahub.com/Media/111071791/box/800x800\"/></figure>,\n",
       " <figure class=\"getCarouselSlides__SlideFigure-cel6pe-2 jpnhrN\"><img alt=\"slide image\" class=\"getCarouselSlides__SlideImage-cel6pe-3 cNdyRy\" src=\"https://mediarouting.vestahub.com/Media/111081544/box/800x800\"/></figure>,\n",
       " <figure class=\"getCarouselSlides__SlideFigure-cel6pe-2 jpnhrN\"><img alt=\"slide image\" class=\"getCarouselSlides__SlideImage-cel6pe-3 cNdyRy\" src=\"https://maps.googleapis.com/maps/api/staticmap?center=40.6948820000,-73.9979470000&amp;zoom=16&amp;size=335x266&amp;markers=color:red%7C40.6948820000,-73.9979470000&amp;sensor=false&amp;client=gme-nrtllc&amp;channel=nrt-corc-geocode&amp;signature=9dS4mvD--zaZzj4BWA-Hz4L2QYk=/box/800x800\"/></figure>]"
      ]
     },
     "execution_count": 67,
     "metadata": {},
     "output_type": "execute_result"
    }
   ],
   "source": [
    "soup_sample1.find_all('figure', class_='getCarouselSlides__SlideFigure-cel6pe-2 jpnhrN')"
   ]
  },
  {
   "cell_type": "code",
   "execution_count": 54,
   "metadata": {},
   "outputs": [
    {
     "data": {
      "text/plain": [
       "[1, 2, 3, 4]"
      ]
     },
     "execution_count": 54,
     "metadata": {},
     "output_type": "execute_result"
    }
   ],
   "source": [
    "list(filter(lambda x: x != None, [1,2,3,4,None]))"
   ]
  },
  {
   "cell_type": "code",
   "execution_count": 117,
   "metadata": {},
   "outputs": [],
   "source": [
    "def get_apt_address(soup_apt):\n",
    "    try:\n",
    "        address = soup_apt.find('div', attrs={'data-name': 'col-md-8'})\\\n",
    "                          .find('h1')\\\n",
    "                          .get_text()\n",
    "        return address\n",
    "    except:\n",
    "        return None\n",
    "\n",
    "def get_apt_listing_type(soup_apt):\n",
    "    try:\n",
    "        listing_type = soup_apt.find('div', class_='MainListingInfo__UnitTypeAndStatusContainer-sc-1fxwvn8-9 hnYmAD')\\\n",
    "                               .get_text()\\\n",
    "                               .split('|')[0]\\\n",
    "                               .strip()\n",
    "        return listing_type\n",
    "    except:\n",
    "        return None\n",
    "\n",
    "def get_apt_web_id(soup_apt):\n",
    "    try:\n",
    "        web_id = soup_apt.find('strong', class_='MainListingInfo__WebId-sc-1fxwvn8-4 haTtwu')\\\n",
    "                         .get_text()\\\n",
    "                         .split(':')[1]\\\n",
    "                         .strip()\n",
    "        return web_id\n",
    "    except:\n",
    "        return None\n",
    "\n",
    "def get_apt_essentials(soup_apt):\n",
    "    beds, baths, floors, units, width, sf = None, None, None, None, None, None\n",
    "    try:\n",
    "        essentials_tags = soup_apt.find('ul', class_='Essentials__EssentialsWrapper-sc-1jh003w-0 boWTpJ')\\\n",
    "                                  .find_all('li')\n",
    "        essentials = [etag.get_text().lower() for etag in essentials_tags]\n",
    "        \n",
    "        for item in essentials:\n",
    "            if 'bath' in item:\n",
    "                baths = extract_num(item)\n",
    "            if 'bed' in item:\n",
    "                beds = extract_num(item)\n",
    "            if 'unit' in item:\n",
    "                units = extract_num(item)\n",
    "            if 'width' in item:\n",
    "                width = extract_num(item)\n",
    "            if 'sqft' in item:\n",
    "                sf = extract_num(item)\n",
    "            if 'floor' in item:\n",
    "                floors = extract_num(item)\n",
    "        \n",
    "        return beds, baths, floors, units, width, sf\n",
    "    except:\n",
    "        return beds, baths, floors, units, width, sf\n",
    "\n",
    "def get_apt_price(soup_apt):\n",
    "    try:\n",
    "        price_text = soup_apt.find('div', attrs={'data-name': 'col-md-4'})\\\n",
    "                             .get_text()\\\n",
    "                             .replace('$', '')\\\n",
    "                             .replace(',', '')\n",
    "        price = extract_num(price_text)\n",
    "        "
   ]
  },
  {
   "cell_type": "code",
   "execution_count": 93,
   "metadata": {},
   "outputs": [
    {
     "data": {
      "text/plain": [
       "'30 Bartlett Street'"
      ]
     },
     "execution_count": 93,
     "metadata": {},
     "output_type": "execute_result"
    }
   ],
   "source": [
    "get_apt_address(soup_sample1)"
   ]
  },
  {
   "cell_type": "code",
   "execution_count": 108,
   "metadata": {},
   "outputs": [
    {
     "data": {
      "text/plain": [
       "'Commercial'"
      ]
     },
     "execution_count": 108,
     "metadata": {},
     "output_type": "execute_result"
    }
   ],
   "source": [
    "get_apt_listing_type(soup_sample1)"
   ]
  },
  {
   "cell_type": "code",
   "execution_count": 109,
   "metadata": {},
   "outputs": [
    {
     "data": {
      "text/plain": [
       "'5151565'"
      ]
     },
     "execution_count": 109,
     "metadata": {},
     "output_type": "execute_result"
    }
   ],
   "source": [
    "get_apt_web_id(soup_sample1)"
   ]
  },
  {
   "cell_type": "code",
   "execution_count": 118,
   "metadata": {},
   "outputs": [
    {
     "data": {
      "text/plain": [
       "(None, 0.5, 1.0, 1.0, 99.0, 5000.0)"
      ]
     },
     "execution_count": 118,
     "metadata": {},
     "output_type": "execute_result"
    }
   ],
   "source": [
    "get_apt_essentials(soup_sample1)"
   ]
  },
  {
   "cell_type": "code",
   "execution_count": 119,
   "metadata": {},
   "outputs": [],
   "source": [
    "soup_sample2 = soup_attempts(sample1[3])"
   ]
  },
  {
   "cell_type": "code",
   "execution_count": 120,
   "metadata": {},
   "outputs": [
    {
     "data": {
      "text/plain": [
       "'7 CENTRE MARKET PLACE'"
      ]
     },
     "execution_count": 120,
     "metadata": {},
     "output_type": "execute_result"
    }
   ],
   "source": [
    "get_apt_address(soup_sample2)"
   ]
  },
  {
   "cell_type": "code",
   "execution_count": 121,
   "metadata": {},
   "outputs": [
    {
     "data": {
      "text/plain": [
       "'Townhouse'"
      ]
     },
     "execution_count": 121,
     "metadata": {},
     "output_type": "execute_result"
    }
   ],
   "source": [
    "get_apt_listing_type(soup_sample2)"
   ]
  },
  {
   "cell_type": "code",
   "execution_count": 122,
   "metadata": {},
   "outputs": [
    {
     "data": {
      "text/plain": [
       "'5859066'"
      ]
     },
     "execution_count": 122,
     "metadata": {},
     "output_type": "execute_result"
    }
   ],
   "source": [
    "get_apt_web_id(soup_sample2)"
   ]
  },
  {
   "cell_type": "code",
   "execution_count": 123,
   "metadata": {},
   "outputs": [
    {
     "data": {
      "text/plain": [
       "(5.0, 4.5, 5.0, 4.0, 25.0, 5200.0)"
      ]
     },
     "execution_count": 123,
     "metadata": {},
     "output_type": "execute_result"
    }
   ],
   "source": [
    "get_apt_essentials(soup_sample2)"
   ]
  },
  {
   "cell_type": "code",
   "execution_count": 124,
   "metadata": {},
   "outputs": [
    {
     "data": {
      "text/plain": [
       "'https://www.corcoran.com/nyc-real-estate/for-sale/so-ho-nolita/7-centre-market-place/5859066'"
      ]
     },
     "execution_count": 124,
     "metadata": {},
     "output_type": "execute_result"
    }
   ],
   "source": [
    "sample1[3]"
   ]
  },
  {
   "cell_type": "code",
   "execution_count": null,
   "metadata": {},
   "outputs": [],
   "source": []
  }
 ],
 "metadata": {
  "kernelspec": {
   "display_name": "Python 3",
   "language": "python",
   "name": "python3"
  },
  "language_info": {
   "codemirror_mode": {
    "name": "ipython",
    "version": 3
   },
   "file_extension": ".py",
   "mimetype": "text/x-python",
   "name": "python",
   "nbconvert_exporter": "python",
   "pygments_lexer": "ipython3",
   "version": "3.7.3"
  }
 },
 "nbformat": 4,
 "nbformat_minor": 2
}
