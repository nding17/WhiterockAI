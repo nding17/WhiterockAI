{
 "cells": [
  {
   "cell_type": "code",
   "execution_count": 1,
   "metadata": {},
   "outputs": [],
   "source": [
    "import pandas as pd\n",
    "from bs4 import BeautifulSoup\n",
    "import requests\n",
    "import numpy as np\n",
    "import re\n",
    "import time\n",
    "import os\n",
    "from selenium import webdriver"
   ]
  },
  {
   "cell_type": "code",
   "execution_count": 2,
   "metadata": {},
   "outputs": [],
   "source": [
    "def random_user_agent():\n",
    "    try:\n",
    "        ua = UserAgent()\n",
    "        return ua.random\n",
    "    except:\n",
    "        default_ua = 'Mozilla/5.0 (Macintosh; Intel Mac O21S X 10_12_3) \\\n",
    "                AppleWebKit/537.36 (KHTML, like Gecko) \\\n",
    "                Chrome/58.0.3029.110 Safari/537.36'\n",
    "        return default_ua\n",
    "\n",
    "def get_soup(url):\n",
    "    \n",
    "    headers = {'User-Agent': random_user_agent()}\n",
    "    response = requests.get(url, headers=headers)\n",
    "    results = response.content\n",
    "    if not response.status_code == 404:\n",
    "        soup = BeautifulSoup(results, 'lxml')\n",
    "    return soup\n",
    "\n",
    "def soup_attempts(url, total_attempts=5):\n",
    "\n",
    "    soup = get_soup(url)\n",
    "\n",
    "    if soup:\n",
    "        return soup\n",
    "    else:\n",
    "        attempts = 0\n",
    "        while attempts < total_attempts:\n",
    "            time.sleep(3)\n",
    "            soup = get_soup(url)\n",
    "            if soup:\n",
    "                return soup\n",
    "        raise ValueError(f'FAILED to get soup for apt url {url}')"
   ]
  },
  {
   "cell_type": "code",
   "execution_count": 3,
   "metadata": {},
   "outputs": [],
   "source": [
    "url = 'https://www.corcoran.com/nyc-real-estate/for-sale/williamsburg/30-bartlett-street/5151565'\n",
    "soup = soup_attempts(url)"
   ]
  },
  {
   "cell_type": "code",
   "execution_count": 11,
   "metadata": {},
   "outputs": [
    {
     "data": {
      "text/plain": [
       "<figure class=\"getCarouselSlides__SlideFigure-cel6pe-2 jpnhrN\"><img alt=\"slide image\" class=\"getCarouselSlides__SlideImage-cel6pe-3 cNdyRy\" src=\"https://mediarouting.vestahub.com/Media/68020238/box/800x800\"/></figure>"
      ]
     },
     "execution_count": 11,
     "metadata": {},
     "output_type": "execute_result"
    }
   ],
   "source": [
    "soup.find('figure', class_='getCarouselSlides__SlideFigure-cel6pe-2 jpnhrN')"
   ]
  },
  {
   "cell_type": "code",
   "execution_count": 12,
   "metadata": {},
   "outputs": [
    {
     "data": {
      "text/plain": [
       "<div class=\"carousel-item active\"><div aria-label=\"slide image\" aria-pressed=\"false\" class=\"getCarouselSlides__SlideImageWrapper-cel6pe-1 kRBdIV\" role=\"button\" tabindex=\"0\"><figure class=\"getCarouselSlides__SlideFigure-cel6pe-2 jpnhrN\"><img alt=\"slide image\" class=\"getCarouselSlides__SlideImage-cel6pe-3 cNdyRy\" src=\"https://mediarouting.vestahub.com/Media/68020238/box/800x800\"/></figure></div><div class=\"carousel-caption d-none d-md-block\"><h3></h3><p>caption</p></div></div>"
      ]
     },
     "execution_count": 12,
     "metadata": {},
     "output_type": "execute_result"
    }
   ],
   "source": [
    "soup.find('div', class_='carousel-item')"
   ]
  },
  {
   "cell_type": "code",
   "execution_count": 13,
   "metadata": {},
   "outputs": [
    {
     "data": {
      "text/plain": [
       "<figure class=\"getCarouselSlides__SlideFigure-cel6pe-2 jpnhrN\"><img alt=\"slide image\" class=\"getCarouselSlides__SlideImage-cel6pe-3 cNdyRy\" src=\"https://mediarouting.vestahub.com/Media/68020238/box/800x800\"/></figure>"
      ]
     },
     "execution_count": 13,
     "metadata": {},
     "output_type": "execute_result"
    }
   ],
   "source": [
    "soup.find('figure', class_='getCarouselSlides__SlideFigure-cel6pe-2 jpnhrN')"
   ]
  },
  {
   "cell_type": "code",
   "execution_count": 14,
   "metadata": {},
   "outputs": [
    {
     "data": {
      "text/plain": [
       "<div class=\"sc-htpNat Col-sc-1wb67sp-0 MainListingInfo__LeftCol-sc-1fxwvn8-1 cKZOWW\" data-name=\"col-md-8\"><h1>30 Bartlett Street</h1><div class=\"MainListingInfo__UnitTypeAndStatusContainer-sc-1fxwvn8-8 djClTt\">Commercial<!-- --> | <!-- -->for Sale</div><div class=\"MainListingInfo__NeighborhoodNameLink-sc-1fxwvn8-9 eNUIut\"><a href=\"/nyc-real-estate/neighborhoods/williamsburg\" id=\"neighborhood-name-link\">Williamsburg</a></div><div class=\"MainListingInfo__CrossStreets-sc-1fxwvn8-10 fBSNno\">Between Harrison Avenue and Throop Avenue</div><strong class=\"MainListingInfo__WebId-sc-1fxwvn8-4 haTtwu\">WEB ID: <!-- -->5151565</strong></div>"
      ]
     },
     "execution_count": 14,
     "metadata": {},
     "output_type": "execute_result"
    }
   ],
   "source": [
    "soup.find('div', attrs={'data-name': 'col-md-8'})"
   ]
  },
  {
   "cell_type": "code",
   "execution_count": 5,
   "metadata": {},
   "outputs": [],
   "source": [
    "url_all = 'https://www.corcoran.com/nyc-real-estate/for-sale/search?neighborhoods=battery-park-city%2Cbeekman%2Ccentral-park-south%2Cchelsea-hudson-yards%2Cchinatown%2Cclinton%2Ceast-harlem%2Ceast-village%2Cfinancial-district%2Cflatiron%2Cgramercy%2Cgreenwich-village%2Chamilton-heights%2Charlem%2Cinwood%2Clower-east-side%2Cmidtown-east%2Cmidtown-west%2Cmorningside-heights%2Cmurray-hill%2Croosevelt-island%2Csoho-nolita%2Csutton-area%2Ctribeca%2Cupper-east-side%2Cupper-west-side%2Cwashington-heights%2Cwest-village%2Ccarnegie-hill%2Ckips-bay%2Cno-mad%2Cbath-beach%2Cbensonhurst%2Cbay-ridge%2Cbedford-stuyvesant%2Cbergen-beach%2Cboerum-hill%2Cborough-park%2Cbrighton-beach%2Cbrooklyn-heights%2Cbrownsville%2Cbushwick%2Ccanarsie%2Ccarroll-gardens%2Cclinton-hill%2Ccobble-hill%2Cconey-island%2Ccrown-heights%2Ccypress-hill%2Cditmas-park%2Cdowntown-brooklyn%2Cdyker-heights%2Ceast-flatbush%2Ceast-new-york%2Cflatbush%2Cflatlands%2Cfort-greene%2Cgowanus%2Cgravesend%2Cgreenpoint%2Cgreenwood%2Ckensington%2Clefferts-gardens%2Cmanhattan-beach%2Cmapleton%2Cmarine-park%2Cmidwood%2Cmill-basin%2Cnew-lots%2Cpark-slope%2Cprospect-heights%2Cprospect-park-south%2Cred-hook%2Csea-gate%2Csheepshead-bay%2Cspring-creek%2Cstarrett-city%2Csunset-park%2Cdumbo-vinegar-hill%2Cweeksville%2Cwilliamsburg%2Cwindsor-terrace%2Cocean-parkway%2Cgerritsen-beach%2Cbrooklyn-navy-yard%2Ccolumbia-waterfront%2Castoria%2Cbelle-harbor%2Cforest-hills%2Cjackson-heights%2Ckew-gardens%2Clong-island-city%2Csunnyside%2Cwoodside%2Cridgewood%2Cflushing%2Cfresh-meadows%2Cjamaica%2Csouth-jamaica%2Cmaspeth%2Cglendale%2Cmiddle-village%2Cwoodhaven%2Celmhurst%2Ceast-elmhurst%2Ccorona%2Ccollege-point%2Cwhitestone%2Cqueens-village%2Cbellerose%2Chollis%2Cst-albans%2Ccambria-heights%2Cozone-park%2Csouth-ozone-park%2Choward-beach%2Crichmond-hills%2Cspringfield-gardens%2Claurelton%2Crockaway-beach%2Cbriarwood%2Cbroad-channel%2Cfloral-park%2Cglen-oaks%2Cjamaica-hills%2Ckew-gardens-hills%2Clittle-neck%2Cnew-hyde-park%2Crego-park%2Crochdale%2Crockaway%2Crosedale%2Criverdale%2Callerton%2Cbaychester%2Cbedford-park%2Cbelmont%2Ccastle-hill%2Ccity-island%2Cco-op-city%2Ccountry-club%2Ceast-tremont%2Ceastchester%2Cedenwald%2Cedgewater-park%2Cfordham%2Chighbridge%2Chunts-point%2Ckingsbridge%2Claconia%2Clongwood%2Cmelrose%2Cmorris-heights%2Cmorris-park%2Cmorrisania%2Cmott-haven%2Cnorwood%2Cparkchester%2Cpelham-bay%2Cpelham-gardens%2Cpelham-parkway%2Cschuylerville%2Csoundview%2Cthroggs-neck%2Ctremont%2Cuniversity-heights%2Cvan-nest%2Cwakefield%2Cwilliamsbridge%2Cwoodlawn&keywordSearch=houses%2Ctownhouses'\n",
    "soup_all = soup_attempts(url_all)"
   ]
  },
  {
   "cell_type": "code",
   "execution_count": 16,
   "metadata": {},
   "outputs": [],
   "source": [
    "apts = soup_all.find_all('div', class_='ListingCard__ListingCardWrapper-k9s72e-7 bxPua')"
   ]
  },
  {
   "cell_type": "code",
   "execution_count": 17,
   "metadata": {},
   "outputs": [
    {
     "data": {
      "text/plain": [
       "50"
      ]
     },
     "execution_count": 17,
     "metadata": {},
     "output_type": "execute_result"
    }
   ],
   "source": [
    "len(apts)"
   ]
  },
  {
   "cell_type": "code",
   "execution_count": 78,
   "metadata": {},
   "outputs": [
    {
     "name": "stdout",
     "output_type": "stream",
     "text": [
      "UPPER EAST SIDE\n",
      "162 East 63rd Street\n",
      "5 BD\n",
      "5.5 BA\n",
      "4,000 SF\n",
      "$10,750,000 \n",
      "\n"
     ]
    }
   ],
   "source": [
    "import time\n",
    "\n",
    "from selenium import webdriver\n",
    "from selenium.webdriver.common.keys import Keys\n",
    "\n",
    "chromedriver = f'/Users/itachi/Downloads/Chrome/chromedriver'\n",
    "browser = webdriver.Chrome(executable_path=chromedriver)\n",
    "browser.get(url_all)\n",
    "time.sleep(1)\n",
    "elem = browser.find_element_by_xpath(\"//div[@class='ListingCard__ListingCardWrapper-k9s72e-7 bxPua']/following-sibling::div[49]\")\n",
    "print(elem.text, '\\n')\n",
    "browser.execute_script('arguments[0].scrollIntoView(true)', elem)"
   ]
  },
  {
   "cell_type": "code",
   "execution_count": 83,
   "metadata": {},
   "outputs": [
    {
     "name": "stdout",
     "output_type": "stream",
     "text": [
      "BUSHWICK\n",
      "1194 Decatur Street\n",
      "RENTAL\n",
      "6 BD\n",
      "4.5 BA\n",
      "3,300 SF\n",
      "$1,474,500\n"
     ]
    }
   ],
   "source": [
    "elem2 = browser.find_element_by_xpath(\"//div[@class='ListingCard__ListingCardWrapper-k9s72e-7 bxPua']/following-sibling::div[147]\")\n",
    "print(elem2.text)\n",
    "browser.execute_script('arguments[0].scrollIntoView(true)', elem2)\n"
   ]
  },
  {
   "cell_type": "code",
   "execution_count": 23,
   "metadata": {},
   "outputs": [],
   "source": [
    "import time\n",
    "\n",
    "from selenium import webdriver\n",
    "from selenium.webdriver.common.keys import Keys\n",
    "\n",
    "chromedriver = f'/Users/itachi/Downloads/Chrome/chromedriver'\n",
    "browser = webdriver.Chrome(executable_path=chromedriver)\n",
    "browser.get(url_all)\n",
    "time.sleep(1)\n",
    "browser.execute_script(\"window.scrollBy(200,250);\")"
   ]
  },
  {
   "cell_type": "code",
   "execution_count": 26,
   "metadata": {},
   "outputs": [],
   "source": [
    "browser.execute_script(\"window.scrollBy(200,250);\")"
   ]
  },
  {
   "cell_type": "code",
   "execution_count": 8,
   "metadata": {},
   "outputs": [
    {
     "data": {
      "text/plain": [
       "<div class=\"ListingCard__ImageContainer-k9s72e-1 eRwpPj\"><img alt=\"\" class=\"LazyImage__Img-ykdp8f-0 jvBCwi ListingCard__Img-k9s72e-0 enWVGj\" src=\"\"/></div>"
      ]
     },
     "execution_count": 8,
     "metadata": {},
     "output_type": "execute_result"
    }
   ],
   "source": [
    "#scroll-section\n",
    "soup_all.find('div', class_='ListingCard__ImageContainer-k9s72e-1 eRwpPj')"
   ]
  },
  {
   "cell_type": "code",
   "execution_count": 17,
   "metadata": {},
   "outputs": [],
   "source": [
    "loads = soup_all.find('div', class_='Tiles__TilesWrapper-jdcenu-0 jvjOik')\\\n",
    "                .find_all('div', class_='ListingCard__ListingCardWrapper-k9s72e-7 bxPua')"
   ]
  },
  {
   "cell_type": "code",
   "execution_count": 19,
   "metadata": {},
   "outputs": [
    {
     "data": {
      "text/plain": [
       "<div class=\"ListingCard__ListingCardWrapper-k9s72e-7 bxPua\"><a class=\"ListingCard__TopSectionLink-k9s72e-17 icXLMN\" href=\"/nyc-real-estate/for-sale/upper-east-side/162-east-63rd-street/5893737\"><div class=\"ListingCard__ImageContainer-k9s72e-1 eRwpPj\"><img alt=\"\" class=\"LazyImage__Img-ykdp8f-0 jvBCwi ListingCard__Img-k9s72e-0 enWVGj\" src=\"\"/></div><div class=\"ListingCard__ContentWrapper-k9s72e-6 eVXoYv\"><div class=\"ListingCard__Location-k9s72e-9 xxXpM\">Upper East Side</div><div class=\"ListingCard__Street-k9s72e-10 drqBCT\">162 East 63rd Street</div><ul class=\"ListingCard__PropertyDetails-k9s72e-11 jZiklz\"><li>5<!-- --> BD</li><li>5.5<!-- --> BA</li><li>4,000<!-- --> SF</li></ul></div></a><div class=\"ListingCard__BottomSection-k9s72e-18 iMhFNj\"><div class=\"ListingCard__Price-k9s72e-12 paDwB\">$<!-- -->10,750,000</div><span></span><div class=\"ListingCard__FaveContainer-k9s72e-2 dhLzHB fave\"><svg fill=\"#ffffff\" height=\"21\" stroke=\"#000000\" viewbox=\"0 0 24 21\" width=\"24\"><path d=\"M12 19.612l9.844-9.954c2.041-2.064 2.041-5.425 0-7.489A5.144 5.144 0 0 0 18.16.625a5.145 5.145 0 0 0-3.685 1.544L12 4.672l-.445-.45-2.03-2.053A5.146 5.146 0 0 0 5.84.625a5.144 5.144 0 0 0-3.684 1.544h0c-2.041 2.064-2.041 5.425 0 7.489L12 19.612z\"></path></svg></div></div></div>"
      ]
     },
     "execution_count": 19,
     "metadata": {},
     "output_type": "execute_result"
    }
   ],
   "source": [
    "loads[-1]"
   ]
  },
  {
   "cell_type": "code",
   "execution_count": null,
   "metadata": {},
   "outputs": [],
   "source": []
  }
 ],
 "metadata": {
  "kernelspec": {
   "display_name": "Python 3",
   "language": "python",
   "name": "python3"
  },
  "language_info": {
   "codemirror_mode": {
    "name": "ipython",
    "version": 3
   },
   "file_extension": ".py",
   "mimetype": "text/x-python",
   "name": "python",
   "nbconvert_exporter": "python",
   "pygments_lexer": "ipython3",
   "version": "3.7.3"
  }
 },
 "nbformat": 4,
 "nbformat_minor": 2
}
