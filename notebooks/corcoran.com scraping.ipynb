{
 "cells": [
  {
   "cell_type": "code",
   "execution_count": 7,
   "metadata": {},
   "outputs": [],
   "source": [
    "import pandas as pd\n",
    "from bs4 import BeautifulSoup\n",
    "import requests\n",
    "import numpy as np\n",
    "import re\n",
    "import time\n",
    "import os\n",
    "from selenium import webdriver"
   ]
  },
  {
   "cell_type": "code",
   "execution_count": 8,
   "metadata": {},
   "outputs": [],
   "source": [
    "def random_user_agent():\n",
    "    try:\n",
    "        ua = UserAgent()\n",
    "        return ua.random\n",
    "    except:\n",
    "        default_ua = 'Mozilla/5.0 (Macintosh; Intel Mac O21S X 10_12_3) \\\n",
    "                AppleWebKit/537.36 (KHTML, like Gecko) \\\n",
    "                Chrome/58.0.3029.110 Safari/537.36'\n",
    "        return default_ua\n",
    "\n",
    "def get_soup(url):\n",
    "    \n",
    "    headers = {'User-Agent': random_user_agent()}\n",
    "    response = requests.get(url, headers=headers)\n",
    "    results = response.content\n",
    "    if not response.status_code == 404:\n",
    "        soup = BeautifulSoup(results, 'lxml')\n",
    "    return soup\n",
    "\n",
    "def extract_num(text):\n",
    "    \"\"\"\n",
    "    A helper function that extract any number from a text \n",
    "\n",
    "    Parameters\n",
    "    ----------\n",
    "    text : str\n",
    "        a string of text that might contains numbers \n",
    "\n",
    "    Returns\n",
    "    -------\n",
    "    num : float\n",
    "        the number extracted from the text \n",
    "\n",
    "    >>> _extract_num('$1000 per month')\n",
    "    1000.0\n",
    "    \"\"\"\n",
    "    try:\n",
    "        # pattern to find any number (int or float)\n",
    "        pattern = r'[-+]?\\d*\\.\\d+|\\d+'\n",
    "        result = re.findall(pattern, text)[0]\n",
    "        return float(result)\n",
    "    except:\n",
    "        return np.nan\n",
    "\n",
    "def soup_attempts(url, total_attempts=5):\n",
    "\n",
    "    soup = get_soup(url)\n",
    "\n",
    "    if soup:\n",
    "        return soup\n",
    "    else:\n",
    "        attempts = 0\n",
    "        while attempts < total_attempts:\n",
    "            time.sleep(3)\n",
    "            soup = get_soup(url)\n",
    "            if soup:\n",
    "                return soup\n",
    "        raise ValueError(f'FAILED to get soup for apt url {url}')"
   ]
  },
  {
   "cell_type": "code",
   "execution_count": 3,
   "metadata": {},
   "outputs": [],
   "source": [
    "url = 'https://www.corcoran.com/nyc-real-estate/for-sale/williamsburg/30-bartlett-street/5151565'\n",
    "soup = soup_attempts(url)"
   ]
  },
  {
   "cell_type": "code",
   "execution_count": 11,
   "metadata": {},
   "outputs": [
    {
     "data": {
      "text/plain": [
       "<figure class=\"getCarouselSlides__SlideFigure-cel6pe-2 jpnhrN\"><img alt=\"slide image\" class=\"getCarouselSlides__SlideImage-cel6pe-3 cNdyRy\" src=\"https://mediarouting.vestahub.com/Media/68020238/box/800x800\"/></figure>"
      ]
     },
     "execution_count": 11,
     "metadata": {},
     "output_type": "execute_result"
    }
   ],
   "source": [
    "soup.find('figure', class_='getCarouselSlides__SlideFigure-cel6pe-2 jpnhrN')"
   ]
  },
  {
   "cell_type": "code",
   "execution_count": 12,
   "metadata": {},
   "outputs": [
    {
     "data": {
      "text/plain": [
       "<div class=\"carousel-item active\"><div aria-label=\"slide image\" aria-pressed=\"false\" class=\"getCarouselSlides__SlideImageWrapper-cel6pe-1 kRBdIV\" role=\"button\" tabindex=\"0\"><figure class=\"getCarouselSlides__SlideFigure-cel6pe-2 jpnhrN\"><img alt=\"slide image\" class=\"getCarouselSlides__SlideImage-cel6pe-3 cNdyRy\" src=\"https://mediarouting.vestahub.com/Media/68020238/box/800x800\"/></figure></div><div class=\"carousel-caption d-none d-md-block\"><h3></h3><p>caption</p></div></div>"
      ]
     },
     "execution_count": 12,
     "metadata": {},
     "output_type": "execute_result"
    }
   ],
   "source": [
    "soup.find('div', class_='carousel-item')"
   ]
  },
  {
   "cell_type": "code",
   "execution_count": 13,
   "metadata": {},
   "outputs": [
    {
     "data": {
      "text/plain": [
       "<figure class=\"getCarouselSlides__SlideFigure-cel6pe-2 jpnhrN\"><img alt=\"slide image\" class=\"getCarouselSlides__SlideImage-cel6pe-3 cNdyRy\" src=\"https://mediarouting.vestahub.com/Media/68020238/box/800x800\"/></figure>"
      ]
     },
     "execution_count": 13,
     "metadata": {},
     "output_type": "execute_result"
    }
   ],
   "source": [
    "soup.find('figure', class_='getCarouselSlides__SlideFigure-cel6pe-2 jpnhrN')"
   ]
  },
  {
   "cell_type": "code",
   "execution_count": 14,
   "metadata": {},
   "outputs": [
    {
     "data": {
      "text/plain": [
       "<div class=\"sc-htpNat Col-sc-1wb67sp-0 MainListingInfo__LeftCol-sc-1fxwvn8-1 cKZOWW\" data-name=\"col-md-8\"><h1>30 Bartlett Street</h1><div class=\"MainListingInfo__UnitTypeAndStatusContainer-sc-1fxwvn8-8 djClTt\">Commercial<!-- --> | <!-- -->for Sale</div><div class=\"MainListingInfo__NeighborhoodNameLink-sc-1fxwvn8-9 eNUIut\"><a href=\"/nyc-real-estate/neighborhoods/williamsburg\" id=\"neighborhood-name-link\">Williamsburg</a></div><div class=\"MainListingInfo__CrossStreets-sc-1fxwvn8-10 fBSNno\">Between Harrison Avenue and Throop Avenue</div><strong class=\"MainListingInfo__WebId-sc-1fxwvn8-4 haTtwu\">WEB ID: <!-- -->5151565</strong></div>"
      ]
     },
     "execution_count": 14,
     "metadata": {},
     "output_type": "execute_result"
    }
   ],
   "source": [
    "soup.find('div', attrs={'data-name': 'col-md-8'})"
   ]
  },
  {
   "cell_type": "code",
   "execution_count": 3,
   "metadata": {},
   "outputs": [],
   "source": [
    "url_all = 'https://www.corcoran.com/nyc-real-estate/for-sale/search?neighborhoods=battery-park-city%2Cbeekman%2Ccentral-park-south%2Cchelsea-hudson-yards%2Cchinatown%2Cclinton%2Ceast-harlem%2Ceast-village%2Cfinancial-district%2Cflatiron%2Cgramercy%2Cgreenwich-village%2Chamilton-heights%2Charlem%2Cinwood%2Clower-east-side%2Cmidtown-east%2Cmidtown-west%2Cmorningside-heights%2Cmurray-hill%2Croosevelt-island%2Csoho-nolita%2Csutton-area%2Ctribeca%2Cupper-east-side%2Cupper-west-side%2Cwashington-heights%2Cwest-village%2Ccarnegie-hill%2Ckips-bay%2Cno-mad%2Cbath-beach%2Cbensonhurst%2Cbay-ridge%2Cbedford-stuyvesant%2Cbergen-beach%2Cboerum-hill%2Cborough-park%2Cbrighton-beach%2Cbrooklyn-heights%2Cbrownsville%2Cbushwick%2Ccanarsie%2Ccarroll-gardens%2Cclinton-hill%2Ccobble-hill%2Cconey-island%2Ccrown-heights%2Ccypress-hill%2Cditmas-park%2Cdowntown-brooklyn%2Cdyker-heights%2Ceast-flatbush%2Ceast-new-york%2Cflatbush%2Cflatlands%2Cfort-greene%2Cgowanus%2Cgravesend%2Cgreenpoint%2Cgreenwood%2Ckensington%2Clefferts-gardens%2Cmanhattan-beach%2Cmapleton%2Cmarine-park%2Cmidwood%2Cmill-basin%2Cnew-lots%2Cpark-slope%2Cprospect-heights%2Cprospect-park-south%2Cred-hook%2Csea-gate%2Csheepshead-bay%2Cspring-creek%2Cstarrett-city%2Csunset-park%2Cdumbo-vinegar-hill%2Cweeksville%2Cwilliamsburg%2Cwindsor-terrace%2Cocean-parkway%2Cgerritsen-beach%2Cbrooklyn-navy-yard%2Ccolumbia-waterfront%2Castoria%2Cbelle-harbor%2Cforest-hills%2Cjackson-heights%2Ckew-gardens%2Clong-island-city%2Csunnyside%2Cwoodside%2Cridgewood%2Cflushing%2Cfresh-meadows%2Cjamaica%2Csouth-jamaica%2Cmaspeth%2Cglendale%2Cmiddle-village%2Cwoodhaven%2Celmhurst%2Ceast-elmhurst%2Ccorona%2Ccollege-point%2Cwhitestone%2Cqueens-village%2Cbellerose%2Chollis%2Cst-albans%2Ccambria-heights%2Cozone-park%2Csouth-ozone-park%2Choward-beach%2Crichmond-hills%2Cspringfield-gardens%2Claurelton%2Crockaway-beach%2Cbriarwood%2Cbroad-channel%2Cfloral-park%2Cglen-oaks%2Cjamaica-hills%2Ckew-gardens-hills%2Clittle-neck%2Cnew-hyde-park%2Crego-park%2Crochdale%2Crockaway%2Crosedale%2Criverdale%2Callerton%2Cbaychester%2Cbedford-park%2Cbelmont%2Ccastle-hill%2Ccity-island%2Cco-op-city%2Ccountry-club%2Ceast-tremont%2Ceastchester%2Cedenwald%2Cedgewater-park%2Cfordham%2Chighbridge%2Chunts-point%2Ckingsbridge%2Claconia%2Clongwood%2Cmelrose%2Cmorris-heights%2Cmorris-park%2Cmorrisania%2Cmott-haven%2Cnorwood%2Cparkchester%2Cpelham-bay%2Cpelham-gardens%2Cpelham-parkway%2Cschuylerville%2Csoundview%2Cthroggs-neck%2Ctremont%2Cuniversity-heights%2Cvan-nest%2Cwakefield%2Cwilliamsbridge%2Cwoodlawn&keywordSearch=houses%2Ctownhouses'\n",
    "soup_all = soup_attempts(url_all)"
   ]
  },
  {
   "cell_type": "code",
   "execution_count": 16,
   "metadata": {},
   "outputs": [],
   "source": [
    "apts = soup_all.find_all('div', class_='ListingCard__ListingCardWrapper-k9s72e-7 bxPua')"
   ]
  },
  {
   "cell_type": "code",
   "execution_count": 17,
   "metadata": {},
   "outputs": [
    {
     "data": {
      "text/plain": [
       "50"
      ]
     },
     "execution_count": 17,
     "metadata": {},
     "output_type": "execute_result"
    }
   ],
   "source": [
    "len(apts)"
   ]
  },
  {
   "cell_type": "code",
   "execution_count": 6,
   "metadata": {},
   "outputs": [
    {
     "name": "stdout",
     "output_type": "stream",
     "text": [
      "UPPER EAST SIDE\n",
      "162 East 63rd Street\n",
      "5 BD\n",
      "5.5 BA\n",
      "4,000 SF\n",
      "$10,750,000 \n",
      "\n"
     ]
    }
   ],
   "source": [
    "import time\n",
    "\n",
    "from selenium import webdriver\n",
    "from selenium.webdriver.common.keys import Keys\n",
    "\n",
    "chromedriver = f'/Users/itachi/Downloads/Chrome/chromedriver'\n",
    "browser = webdriver.Chrome(executable_path=chromedriver)\n",
    "browser.get(url_all)\n",
    "time.sleep(1)\n",
    "elem = browser.find_element_by_xpath(\"//div[@class='ListingCard__ListingCardWrapper-k9s72e-7 bxPua']/following-sibling::div[49]\")\n",
    "print(elem.text, '\\n')\n",
    "browser.execute_script('arguments[0].scrollIntoView(true)', elem)"
   ]
  },
  {
   "cell_type": "code",
   "execution_count": 5,
   "metadata": {},
   "outputs": [
    {
     "name": "stdout",
     "output_type": "stream",
     "text": [
      "NEW LISTING\n",
      "GREENPOINT\n",
      "75 Beadel Street\n",
      "6 BD\n",
      "6 BA\n",
      "3,300 SF\n",
      "$2,400,000\n",
      "https://www.corcoran.com/nyc-real-estate/for-sale/williamsburg/30-bartlett-street/5151565\n"
     ]
    }
   ],
   "source": [
    "elem2 = browser.find_element_by_xpath(f\"//div[@class='ListingCard__ListingCardWrapper-k9s72e-7 bxPua']/following-sibling::div[{49*1}]\")\n",
    "print(elem2.text)\n",
    "href = elem2.find_element_by_xpath(\"//a[@class='ListingCard__TopSectionLink-k9s72e-17 icXLMN']\")\n",
    "print(href.get_attribute('href'))\n",
    "browser.execute_script('arguments[0].scrollIntoView(true)', elem2)"
   ]
  },
  {
   "cell_type": "code",
   "execution_count": 64,
   "metadata": {},
   "outputs": [],
   "source": [
    "from selenium.webdriver.common.by import By\n",
    "from selenium.webdriver.support.ui import WebDriverWait\n",
    "from selenium.webdriver.support import expected_conditions as EC\n",
    "from selenium import webdriver\n",
    "from selenium.webdriver.common.keys import Keys\n",
    "\n",
    "chromedriver = f'/Users/itachi/Downloads/Chrome/chromedriver'\n",
    "\n",
    "def get_apt_info(path, wait):\n",
    "    try:\n",
    "        element = wait.until(EC.presence_of_element_located((By.XPATH, path)))\n",
    "        apt_info = element.text.replace('\\n', '|')\n",
    "        url_path = f\"//a[@class='ListingCard__TopSectionLink-k9s72e-17 icXLMN']\"\n",
    "        url_element = wait.until(EC.presence_of_element_located((By.XPATH, url_path)))\n",
    "        href = url_element.get_attribute('href')\n",
    "        return apt_info, href \n",
    "    except:\n",
    "        print('can not find apartment')\n",
    "        return None, None\n",
    "\n",
    "def get_apt_info_batches(start, end, wait, verbose):\n",
    "    results_batch = []\n",
    "    for i in range(start, end):\n",
    "        sibling_path = f\"//div[@class='ListingCard__ListingCardWrapper-k9s72e-7 bxPua']/following-sibling::div[{i}]\"\n",
    "        apt_info, href = get_apt_info(sibling_path, wait)\n",
    "        \n",
    "        if verbose:\n",
    "            print(apt_info, href)\n",
    "        \n",
    "        results_batch.append([apt_info, href])\n",
    "    return results_batch\n",
    "\n",
    "def scroll_down(scroll_pg, wait):\n",
    "    try:\n",
    "        dest = f\"//div[@class='ListingCard__ListingCardWrapper-k9s72e-7 bxPua']/following-sibling::div[{scroll_pg}]\"\n",
    "        browser.implicitly_wait(5)\n",
    "        elem_dest = wait.until(EC.presence_of_element_located((By.XPATH, dest)))\n",
    "        browser.execute_script('arguments[0].scrollIntoView(true)', elem_dest)\n",
    "        \n",
    "        buffer_dest = f\"//div[@class='ListingCard__ListingCardWrapper-k9s72e-7 bxPua']/following-sibling::div[{scroll_pg+5}]\"\n",
    "        browser.implicitly_wait(5)\n",
    "        elem_buffer = wait.until(EC.presence_of_element_located((By.XPATH, buffer_dest)))\n",
    "        browser.execute_script('arguments[0].scrollIntoView(true)', elem_buffer)\n",
    "    except:\n",
    "        print(f'scrolling failed')\n",
    "        \n",
    "def get_total_apt_num(url):\n",
    "    soup = soup_attempts(url)\n",
    "    header = soup.find('h2')\\\n",
    "                 .get_text()\n",
    "    total_apt_num = int(extract_num(header))\n",
    "    return total_apt_num\n",
    "        \n",
    "def get_apt_essentials(chromedriver, url, verbose=False):\n",
    "    browser = webdriver.Chrome(executable_path=chromedriver)\n",
    "    browser.get(url)\n",
    "    wait = WebDriverWait(browser, 20)\n",
    "    roll_over = 49\n",
    "    total_apt_num = get_total_apt_num(url)\n",
    "    # exclude the first apartment which we already counted\n",
    "    nbatches = int((total_apt_num-1)//roll_over+1)\n",
    "    print(nbatches)\n",
    "    first_apt_path = f\"//div[@class='ListingCard__ListingCardWrapper-k9s72e-7 bxPua']\"\n",
    "    fst_apt_info, fst_href = get_apt_info(first_apt_path, wait)\n",
    "    \n",
    "    results = [[fst_apt_info, fst_href]]\n",
    "    \n",
    "    for i in range(1, nbatches+1):\n",
    "        time.sleep(5)\n",
    "        scroll_pg = int(i*roll_over)\n",
    "        scroll_down(scroll_pg, wait)\n",
    "        print(f'page {i} scrolled down')\n",
    "    \n",
    "    return results\n",
    "        "
   ]
  },
  {
   "cell_type": "code",
   "execution_count": 28,
   "metadata": {},
   "outputs": [
    {
     "data": {
      "text/plain": [
       "1763"
      ]
     },
     "execution_count": 28,
     "metadata": {},
     "output_type": "execute_result"
    }
   ],
   "source": [
    "get_total_apt_num(url_all)"
   ]
  },
  {
   "cell_type": "code",
   "execution_count": 366,
   "metadata": {},
   "outputs": [],
   "source": [
    "chromedriver = f'/Users/itachi/Downloads/Chrome/chromedriver'\n",
    "browser = webdriver.Chrome(executable_path=chromedriver)\n",
    "url_all = 'https://www.corcoran.com/nyc-real-estate/for-sale/search?neighborhoods=battery-park-city%2Cbeekman%2Ccentral-park-south%2Cchelsea-hudson-yards%2Cchinatown%2Cclinton%2Ceast-harlem%2Ceast-village%2Cfinancial-district%2Cflatiron%2Cgramercy%2Cgreenwich-village%2Chamilton-heights%2Charlem%2Cinwood%2Clower-east-side%2Cmidtown-east%2Cmidtown-west%2Cmorningside-heights%2Cmurray-hill%2Croosevelt-island%2Csoho-nolita%2Csutton-area%2Ctribeca%2Cupper-east-side%2Cupper-west-side%2Cwashington-heights%2Cwest-village%2Ccarnegie-hill%2Ckips-bay%2Cno-mad%2Cbath-beach%2Cbensonhurst%2Cbay-ridge%2Cbedford-stuyvesant%2Cbergen-beach%2Cboerum-hill%2Cborough-park%2Cbrighton-beach%2Cbrooklyn-heights%2Cbrownsville%2Cbushwick%2Ccanarsie%2Ccarroll-gardens%2Cclinton-hill%2Ccobble-hill%2Cconey-island%2Ccrown-heights%2Ccypress-hill%2Cditmas-park%2Cdowntown-brooklyn%2Cdyker-heights%2Ceast-flatbush%2Ceast-new-york%2Cflatbush%2Cflatlands%2Cfort-greene%2Cgowanus%2Cgravesend%2Cgreenpoint%2Cgreenwood%2Ckensington%2Clefferts-gardens%2Cmanhattan-beach%2Cmapleton%2Cmarine-park%2Cmidwood%2Cmill-basin%2Cnew-lots%2Cpark-slope%2Cprospect-heights%2Cprospect-park-south%2Cred-hook%2Csea-gate%2Csheepshead-bay%2Cspring-creek%2Cstarrett-city%2Csunset-park%2Cdumbo-vinegar-hill%2Cweeksville%2Cwilliamsburg%2Cwindsor-terrace%2Cocean-parkway%2Cgerritsen-beach%2Cbrooklyn-navy-yard%2Ccolumbia-waterfront%2Castoria%2Cbelle-harbor%2Cforest-hills%2Cjackson-heights%2Ckew-gardens%2Clong-island-city%2Csunnyside%2Cwoodside%2Cridgewood%2Cflushing%2Cfresh-meadows%2Cjamaica%2Csouth-jamaica%2Cmaspeth%2Cglendale%2Cmiddle-village%2Cwoodhaven%2Celmhurst%2Ceast-elmhurst%2Ccorona%2Ccollege-point%2Cwhitestone%2Cqueens-village%2Cbellerose%2Chollis%2Cst-albans%2Ccambria-heights%2Cozone-park%2Csouth-ozone-park%2Choward-beach%2Crichmond-hills%2Cspringfield-gardens%2Claurelton%2Crockaway-beach%2Cbriarwood%2Cbroad-channel%2Cfloral-park%2Cglen-oaks%2Cjamaica-hills%2Ckew-gardens-hills%2Clittle-neck%2Cnew-hyde-park%2Crego-park%2Crochdale%2Crockaway%2Crosedale%2Criverdale%2Callerton%2Cbaychester%2Cbedford-park%2Cbelmont%2Ccastle-hill%2Ccity-island%2Cco-op-city%2Ccountry-club%2Ceast-tremont%2Ceastchester%2Cedenwald%2Cedgewater-park%2Cfordham%2Chighbridge%2Chunts-point%2Ckingsbridge%2Claconia%2Clongwood%2Cmelrose%2Cmorris-heights%2Cmorris-park%2Cmorrisania%2Cmott-haven%2Cnorwood%2Cparkchester%2Cpelham-bay%2Cpelham-gardens%2Cpelham-parkway%2Cschuylerville%2Csoundview%2Cthroggs-neck%2Ctremont%2Cuniversity-heights%2Cvan-nest%2Cwakefield%2Cwilliamsbridge%2Cwoodlawn&keywordSearch=houses%2Ctownhouses'\n",
    "browser.get(url_all)\n",
    "wait = WebDriverWait(browser, 20)"
   ]
  },
  {
   "cell_type": "code",
   "execution_count": 367,
   "metadata": {},
   "outputs": [],
   "source": [
    "def buffer_page(scroll_pg):\n",
    "    if scroll_pg <= 10*49:\n",
    "        scroll_buffer = scroll_pg+5\n",
    "    elif scroll_pg <= 16*49:\n",
    "        scroll_buffer = scroll_pg+10\n",
    "    elif scroll_pg <= 21*49:\n",
    "        scroll_buffer = scroll_pg+15\n",
    "    elif scroll_pg <= 25*49:\n",
    "        scroll_buffer = scroll_pg+20\n",
    "    elif scroll_pg <= 31*49:\n",
    "        scroll_buffer = scroll_pg+25\n",
    "    else:\n",
    "        scroll_buffer = scroll_pg+30\n",
    "    \n",
    "    return scroll_buffer\n",
    "        \n",
    "def scroll_down(scroll_pg, wait):\n",
    "    try:\n",
    "        dest = f\"//div[@class='ListingCard__ListingCardWrapper-k9s72e-7 bxPua']/following-sibling::div[{scroll_pg}]\"\n",
    "        browser.implicitly_wait(5)\n",
    "        elem_dest = wait.until(EC.presence_of_element_located((By.XPATH, dest)))\n",
    "        browser.execute_script('arguments[0].scrollIntoView(true)', elem_dest)\n",
    "        time.sleep(5)\n",
    "        scroll_buffer = buffer_page(scroll_pg)\n",
    "        \n",
    "        buffer_dest = f\"//div[@class='ListingCard__ListingCardWrapper-k9s72e-7 bxPua']/following-sibling::div[{scroll_buffer}]\"\n",
    "        browser.implicitly_wait(5)\n",
    "        elem_buffer = wait.until(EC.presence_of_element_located((By.XPATH, buffer_dest)))\n",
    "        browser.execute_script('arguments[0].scrollIntoView(true)', elem_buffer)\n",
    "    except:\n",
    "        print('scrolling failed')"
   ]
  },
  {
   "cell_type": "code",
   "execution_count": 240,
   "metadata": {},
   "outputs": [],
   "source": [
    "def scroll_down_v2(scroll_pg, wait):\n",
    "    try:\n",
    "        dest = f\"//div[@class='ListingCard__ListingCardWrapper-k9s72e-7 bxPua']/following-sibling::div[{scroll_pg}]\"\n",
    "        browser.implicitly_wait(5)\n",
    "        elem_dest = wait.until(EC.presence_of_element_located((By.XPATH, dest)))\n",
    "        browser.execute_script('arguments[0].scrollIntoView(true)', elem_dest)\n",
    "    except:\n",
    "        print(f'failed scrolling')"
   ]
  },
  {
   "cell_type": "code",
   "execution_count": 364,
   "metadata": {},
   "outputs": [],
   "source": [
    "scroll_pg = 49*35\n",
    "scroll_down_v2(scroll_pg, wait)"
   ]
  },
  {
   "cell_type": "code",
   "execution_count": 127,
   "metadata": {},
   "outputs": [],
   "source": [
    "browser.execute_script(\"window.scrollTo(0, 600)\")"
   ]
  },
  {
   "cell_type": "code",
   "execution_count": 281,
   "metadata": {},
   "outputs": [],
   "source": [
    "def keep_scrolling_down(total_apt_num, wait):\n",
    "    nbatches = int((total_apt_num//49)+1)\n",
    "    \n",
    "    for i in range(nbatches):\n",
    "        scroll_pg = 49*(i+1)\n",
    "        scroll_down(scroll_pg, wait)\n",
    "        print(f'pg {i} scrolled')"
   ]
  },
  {
   "cell_type": "code",
   "execution_count": null,
   "metadata": {},
   "outputs": [
    {
     "name": "stdout",
     "output_type": "stream",
     "text": [
      "pg 0 scrolled\n",
      "pg 1 scrolled\n",
      "pg 2 scrolled\n",
      "pg 3 scrolled\n",
      "pg 4 scrolled\n",
      "pg 5 scrolled\n",
      "pg 6 scrolled\n"
     ]
    }
   ],
   "source": [
    "chromedriver = f'/Users/itachi/Downloads/Chrome/chromedriver'\n",
    "browser = webdriver.Chrome(executable_path=chromedriver)\n",
    "url_all = 'https://www.corcoran.com/nyc-real-estate/for-sale/search?neighborhoods=battery-park-city%2Cbeekman%2Ccentral-park-south%2Cchelsea-hudson-yards%2Cchinatown%2Cclinton%2Ceast-harlem%2Ceast-village%2Cfinancial-district%2Cflatiron%2Cgramercy%2Cgreenwich-village%2Chamilton-heights%2Charlem%2Cinwood%2Clower-east-side%2Cmidtown-east%2Cmidtown-west%2Cmorningside-heights%2Cmurray-hill%2Croosevelt-island%2Csoho-nolita%2Csutton-area%2Ctribeca%2Cupper-east-side%2Cupper-west-side%2Cwashington-heights%2Cwest-village%2Ccarnegie-hill%2Ckips-bay%2Cno-mad%2Cbath-beach%2Cbensonhurst%2Cbay-ridge%2Cbedford-stuyvesant%2Cbergen-beach%2Cboerum-hill%2Cborough-park%2Cbrighton-beach%2Cbrooklyn-heights%2Cbrownsville%2Cbushwick%2Ccanarsie%2Ccarroll-gardens%2Cclinton-hill%2Ccobble-hill%2Cconey-island%2Ccrown-heights%2Ccypress-hill%2Cditmas-park%2Cdowntown-brooklyn%2Cdyker-heights%2Ceast-flatbush%2Ceast-new-york%2Cflatbush%2Cflatlands%2Cfort-greene%2Cgowanus%2Cgravesend%2Cgreenpoint%2Cgreenwood%2Ckensington%2Clefferts-gardens%2Cmanhattan-beach%2Cmapleton%2Cmarine-park%2Cmidwood%2Cmill-basin%2Cnew-lots%2Cpark-slope%2Cprospect-heights%2Cprospect-park-south%2Cred-hook%2Csea-gate%2Csheepshead-bay%2Cspring-creek%2Cstarrett-city%2Csunset-park%2Cdumbo-vinegar-hill%2Cweeksville%2Cwilliamsburg%2Cwindsor-terrace%2Cocean-parkway%2Cgerritsen-beach%2Cbrooklyn-navy-yard%2Ccolumbia-waterfront%2Castoria%2Cbelle-harbor%2Cforest-hills%2Cjackson-heights%2Ckew-gardens%2Clong-island-city%2Csunnyside%2Cwoodside%2Cridgewood%2Cflushing%2Cfresh-meadows%2Cjamaica%2Csouth-jamaica%2Cmaspeth%2Cglendale%2Cmiddle-village%2Cwoodhaven%2Celmhurst%2Ceast-elmhurst%2Ccorona%2Ccollege-point%2Cwhitestone%2Cqueens-village%2Cbellerose%2Chollis%2Cst-albans%2Ccambria-heights%2Cozone-park%2Csouth-ozone-park%2Choward-beach%2Crichmond-hills%2Cspringfield-gardens%2Claurelton%2Crockaway-beach%2Cbriarwood%2Cbroad-channel%2Cfloral-park%2Cglen-oaks%2Cjamaica-hills%2Ckew-gardens-hills%2Clittle-neck%2Cnew-hyde-park%2Crego-park%2Crochdale%2Crockaway%2Crosedale%2Criverdale%2Callerton%2Cbaychester%2Cbedford-park%2Cbelmont%2Ccastle-hill%2Ccity-island%2Cco-op-city%2Ccountry-club%2Ceast-tremont%2Ceastchester%2Cedenwald%2Cedgewater-park%2Cfordham%2Chighbridge%2Chunts-point%2Ckingsbridge%2Claconia%2Clongwood%2Cmelrose%2Cmorris-heights%2Cmorris-park%2Cmorrisania%2Cmott-haven%2Cnorwood%2Cparkchester%2Cpelham-bay%2Cpelham-gardens%2Cpelham-parkway%2Cschuylerville%2Csoundview%2Cthroggs-neck%2Ctremont%2Cuniversity-heights%2Cvan-nest%2Cwakefield%2Cwilliamsbridge%2Cwoodlawn&keywordSearch=houses%2Ctownhouses'\n",
    "browser.get(url_all)\n",
    "wait = WebDriverWait(browser, 20)\n",
    "\n",
    "keep_scrolling_down(1762, wait)"
   ]
  },
  {
   "cell_type": "code",
   "execution_count": null,
   "metadata": {},
   "outputs": [],
   "source": []
  }
 ],
 "metadata": {
  "kernelspec": {
   "display_name": "Python 3",
   "language": "python",
   "name": "python3"
  },
  "language_info": {
   "codemirror_mode": {
    "name": "ipython",
    "version": 3
   },
   "file_extension": ".py",
   "mimetype": "text/x-python",
   "name": "python",
   "nbconvert_exporter": "python",
   "pygments_lexer": "ipython3",
   "version": "3.7.3"
  }
 },
 "nbformat": 4,
 "nbformat_minor": 2
}
