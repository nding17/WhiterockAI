{
 "cells": [
  {
   "cell_type": "code",
   "execution_count": 16,
   "metadata": {},
   "outputs": [],
   "source": [
    "import pandas as pd\n",
    "import numpy as np\n",
    "import os\n",
    "from os import listdir\n",
    "from os.path import isfile, join"
   ]
  },
  {
   "cell_type": "code",
   "execution_count": 11,
   "metadata": {},
   "outputs": [],
   "source": [
    "don2019 = pd.read_csv('../data/Political_contributions_CSV/2019_CSV/itcont_2020_20190909_20191231.csv')"
   ]
  },
  {
   "cell_type": "code",
   "execution_count": 9,
   "metadata": {},
   "outputs": [
    {
     "data": {
      "text/html": [
       "<div>\n",
       "<style scoped>\n",
       "    .dataframe tbody tr th:only-of-type {\n",
       "        vertical-align: middle;\n",
       "    }\n",
       "\n",
       "    .dataframe tbody tr th {\n",
       "        vertical-align: top;\n",
       "    }\n",
       "\n",
       "    .dataframe thead th {\n",
       "        text-align: right;\n",
       "    }\n",
       "</style>\n",
       "<table border=\"1\" class=\"dataframe\">\n",
       "  <thead>\n",
       "    <tr style=\"text-align: right;\">\n",
       "      <th></th>\n",
       "      <th>election type</th>\n",
       "      <th>transaction type</th>\n",
       "      <th>entity</th>\n",
       "      <th>donor</th>\n",
       "      <th>city</th>\n",
       "      <th>state</th>\n",
       "      <th>zip code</th>\n",
       "      <th>recipient</th>\n",
       "      <th>recipient type</th>\n",
       "      <th>date</th>\n",
       "      <th>amount</th>\n",
       "    </tr>\n",
       "  </thead>\n",
       "  <tbody>\n",
       "    <tr>\n",
       "      <th>0</th>\n",
       "      <td>P</td>\n",
       "      <td>15</td>\n",
       "      <td>IND</td>\n",
       "      <td>KAUFMAN, KEITH D DR.</td>\n",
       "      <td>RAHWAY</td>\n",
       "      <td>NJ</td>\n",
       "      <td>70654607</td>\n",
       "      <td>MERCK SHARP &amp; DOHME</td>\n",
       "      <td>VP, CLINICAL RESEARCH</td>\n",
       "      <td>9302019</td>\n",
       "      <td>312</td>\n",
       "    </tr>\n",
       "    <tr>\n",
       "      <th>1</th>\n",
       "      <td>P</td>\n",
       "      <td>15</td>\n",
       "      <td>IND</td>\n",
       "      <td>MONAHAN, JOANNE H MS.</td>\n",
       "      <td>NORTH WALES</td>\n",
       "      <td>PA</td>\n",
       "      <td>194542505</td>\n",
       "      <td>MERCK SHARP &amp; DOHME</td>\n",
       "      <td>SVP, BUSINESS UNIT</td>\n",
       "      <td>9302019</td>\n",
       "      <td>100</td>\n",
       "    </tr>\n",
       "    <tr>\n",
       "      <th>2</th>\n",
       "      <td>P</td>\n",
       "      <td>15</td>\n",
       "      <td>IND</td>\n",
       "      <td>HAYWARD, KATHRYN S MS.</td>\n",
       "      <td>NORTH WALES</td>\n",
       "      <td>PA</td>\n",
       "      <td>194542505</td>\n",
       "      <td>MERCK SHARP &amp; DOHME</td>\n",
       "      <td>AVP, STRATEGIC PLANNING</td>\n",
       "      <td>9302019</td>\n",
       "      <td>288</td>\n",
       "    </tr>\n",
       "    <tr>\n",
       "      <th>3</th>\n",
       "      <td>P</td>\n",
       "      <td>15</td>\n",
       "      <td>IND</td>\n",
       "      <td>WILLIAMS, DENISE ALLEN MS.</td>\n",
       "      <td>KENILWORTH</td>\n",
       "      <td>NJ</td>\n",
       "      <td>70331310</td>\n",
       "      <td>MERCK SHARP &amp; DOHME</td>\n",
       "      <td>AVP, STRATEGIC PLANNING</td>\n",
       "      <td>9302019</td>\n",
       "      <td>320</td>\n",
       "    </tr>\n",
       "    <tr>\n",
       "      <th>4</th>\n",
       "      <td>P</td>\n",
       "      <td>15</td>\n",
       "      <td>IND</td>\n",
       "      <td>MOTARJEMI, ROYA MRS.</td>\n",
       "      <td>KENILWORTH</td>\n",
       "      <td>NJ</td>\n",
       "      <td>70331310</td>\n",
       "      <td>MERCK SHARP &amp; DOHME</td>\n",
       "      <td>ASSOC. DIR, SALES ONC</td>\n",
       "      <td>9302019</td>\n",
       "      <td>46</td>\n",
       "    </tr>\n",
       "  </tbody>\n",
       "</table>\n",
       "</div>"
      ],
      "text/plain": [
       "  election type transaction type entity                       donor  \\\n",
       "0             P               15    IND        KAUFMAN, KEITH D DR.   \n",
       "1             P               15    IND       MONAHAN, JOANNE H MS.   \n",
       "2             P               15    IND      HAYWARD, KATHRYN S MS.   \n",
       "3             P               15    IND  WILLIAMS, DENISE ALLEN MS.   \n",
       "4             P               15    IND        MOTARJEMI, ROYA MRS.   \n",
       "\n",
       "          city state   zip code            recipient           recipient type  \\\n",
       "0       RAHWAY    NJ   70654607  MERCK SHARP & DOHME    VP, CLINICAL RESEARCH   \n",
       "1  NORTH WALES    PA  194542505  MERCK SHARP & DOHME       SVP, BUSINESS UNIT   \n",
       "2  NORTH WALES    PA  194542505  MERCK SHARP & DOHME  AVP, STRATEGIC PLANNING   \n",
       "3   KENILWORTH    NJ   70331310  MERCK SHARP & DOHME  AVP, STRATEGIC PLANNING   \n",
       "4   KENILWORTH    NJ   70331310  MERCK SHARP & DOHME    ASSOC. DIR, SALES ONC   \n",
       "\n",
       "      date  amount  \n",
       "0  9302019     312  \n",
       "1  9302019     100  \n",
       "2  9302019     288  \n",
       "3  9302019     320  \n",
       "4  9302019      46  "
      ]
     },
     "execution_count": 9,
     "metadata": {},
     "output_type": "execute_result"
    }
   ],
   "source": [
    "don2019.head()"
   ]
  },
  {
   "cell_type": "code",
   "execution_count": 15,
   "metadata": {},
   "outputs": [
    {
     "data": {
      "text/plain": [
       "['itcont_2020_20190426_20190628.csv',\n",
       " 'itcont_2020_20190909_20191231.csv',\n",
       " 'itcont_2020_20190629_20190908.csv',\n",
       " 'itcont_2020_20010425_20190425.csv']"
      ]
     },
     "execution_count": 15,
     "metadata": {},
     "output_type": "execute_result"
    }
   ],
   "source": [
    "data_path_year = '../data/Political_contributions_CSV/2019_CSV'\n",
    "filenames = [f for f in listdir(data_path_year) if isfile(join(data_path_year, f))]\n",
    "filenames"
   ]
  },
  {
   "cell_type": "code",
   "execution_count": 35,
   "metadata": {},
   "outputs": [
    {
     "data": {
      "text/plain": [
       "array([1, 4, 5])"
      ]
     },
     "execution_count": 35,
     "metadata": {},
     "output_type": "execute_result"
    }
   ],
   "source": [
    "a = np.array([1,2,3,4,5,6])\n",
    "a[np.r_[0,3:5]]"
   ]
  },
  {
   "cell_type": "code",
   "execution_count": 36,
   "metadata": {},
   "outputs": [
    {
     "data": {
      "text/plain": [
       "array([1, 2, 3, 4, 5, 6])"
      ]
     },
     "execution_count": 36,
     "metadata": {},
     "output_type": "execute_result"
    }
   ],
   "source": [
    "(a)"
   ]
  },
  {
   "cell_type": "code",
   "execution_count": null,
   "metadata": {},
   "outputs": [],
   "source": []
  }
 ],
 "metadata": {
  "kernelspec": {
   "display_name": "Python 3",
   "language": "python",
   "name": "python3"
  },
  "language_info": {
   "codemirror_mode": {
    "name": "ipython",
    "version": 3
   },
   "file_extension": ".py",
   "mimetype": "text/x-python",
   "name": "python",
   "nbconvert_exporter": "python",
   "pygments_lexer": "ipython3",
   "version": "3.8.0"
  }
 },
 "nbformat": 4,
 "nbformat_minor": 2
}
