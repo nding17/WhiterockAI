{
 "cells": [
  {
   "cell_type": "code",
   "execution_count": 1,
   "metadata": {},
   "outputs": [],
   "source": [
    "import pandas as pd\n",
    "from bs4 import BeautifulSoup\n",
    "import requests\n",
    "import numpy as np\n",
    "import re\n",
    "import time\n",
    "from selenium import webdriver"
   ]
  },
  {
   "cell_type": "code",
   "execution_count": 20,
   "metadata": {},
   "outputs": [],
   "source": [
    "def get_soup(url):\n",
    "    \n",
    "    headers = {'User-Agent': 'Mozilla/5.0 (Macintosh; Intel Mac OS X 10_12_3) \\\n",
    "                AppleWebKit/537.36 (KHTML, like Gecko) \\\n",
    "                Chrome/58.0.3029.110 Safari/537.36'}\n",
    "    \n",
    "    response = requests.get(url, headers=headers)\n",
    "    results = response.content\n",
    "    if not response.status_code == 404:\n",
    "        soup = BeautifulSoup(results, 'lxml')\n",
    "    return soup"
   ]
  },
  {
   "cell_type": "code",
   "execution_count": 21,
   "metadata": {},
   "outputs": [],
   "source": [
    "url_main = 'https://www.elliman.com/search/for-sale?sid=44458208'\n",
    "apt_urls = get_soup(url_main).find_all('li', class_='listing_address first')"
   ]
  },
  {
   "cell_type": "code",
   "execution_count": 22,
   "metadata": {},
   "outputs": [
    {
     "data": {
      "text/plain": [
       "'https://www.elliman.com/new-york-city/12-east-63rd-street-manhattan-qjnryze'"
      ]
     },
     "execution_count": 22,
     "metadata": {},
     "output_type": "execute_result"
    }
   ],
   "source": [
    "apt_url1 = 'https://www.elliman.com'+apt_urls[0].find('a')['href']\n",
    "apt_url1"
   ]
  },
  {
   "cell_type": "code",
   "execution_count": 14,
   "metadata": {},
   "outputs": [
    {
     "data": {
      "text/plain": [
       "'Mozilla/5.0 (Windows NT 6.1; WOW64; rv:21.0) Gecko/20130330 Firefox/21.0'"
      ]
     },
     "execution_count": 14,
     "metadata": {},
     "output_type": "execute_result"
    }
   ],
   "source": [
    "from fake_useragent import UserAgent\n",
    "ua = UserAgent()\n",
    "ua.random"
   ]
  },
  {
   "cell_type": "code",
   "execution_count": 15,
   "metadata": {},
   "outputs": [],
   "source": [
    "def random_user_agent():\n",
    "    try:\n",
    "        ua = UserAgent()\n",
    "        return ua.random\n",
    "    except:\n",
    "        default_ua = 'Mozilla/5.0 (Macintosh; Intel Mac OS X 10_12_3) \\\n",
    "                AppleWebKit/537.36 (KHTML, like Gecko) \\\n",
    "                Chrome/58.0.3029.110 Safari/537.36'\n",
    "        return default_ua"
   ]
  },
  {
   "cell_type": "code",
   "execution_count": null,
   "metadata": {},
   "outputs": [],
   "source": [
    "def get_soup(url):\n",
    "    \n",
    "    headers = {'User-Agent': random_user_agent()}\n",
    "    \n",
    "    response = requests.get(url, headers=headers)\n",
    "    results = response.content\n",
    "    if not response.status_code == 404:\n",
    "        soup = BeautifulSoup(results, 'lxml')\n",
    "    return soup"
   ]
  },
  {
   "cell_type": "code",
   "execution_count": 37,
   "metadata": {},
   "outputs": [],
   "source": [
    "url = 'https://www.elliman.com/search/for-sale/search-1?sdid=1&sid=44458208&sk=1'\n",
    "soup = get_soup(url)"
   ]
  },
  {
   "cell_type": "code",
   "execution_count": 38,
   "metadata": {},
   "outputs": [
    {
     "data": {
      "text/plain": [
       "['/new-york-city/12-east-63rd-street-manhattan-qjnryze',\n",
       " '/new-york-city/118-east-76th-street-manhattan-basrlqe',\n",
       " '/new-york-city/10-east-76th-street-manhattan-iuqifyo',\n",
       " '/new-york-city/11-st-lukes-place-manhattan-exnpepx',\n",
       " '/new-york-city/12-east-80th-street-manhattan-djuusxd',\n",
       " '/new-york-city/39-east-72nd-street-penthouse-manhattan-dwlnahy',\n",
       " '/new-york-city/18-east-74th-street-manhattan-gyioxmw',\n",
       " '/new-york-city/42-west-12th-street-manhattan-wokkpnq',\n",
       " '/new-york-city/48-east-81st-street-manhattan-vmjymzz',\n",
       " '/new-york-city/60-bethune-street-manhattan-syrzhui',\n",
       " '/new-york-city/29-west-75th-street-manhattan-bsebich',\n",
       " '/new-york-city/114-east-65th-street-manhattan-haugxns',\n",
       " '/new-york-city/20-east-94th-street-manhattan-lzxowfq',\n",
       " '/new-york-city/678-682-prospect-place-brooklyn-ebqvkmd',\n",
       " '/new-york-city/3-collister-street-manhattan-skolihu',\n",
       " '/new-york-city/345-lexington-avenue-manhattan-parstfj',\n",
       " '/new-york-city/210-first-avenue-manhattan-bwxdvpi',\n",
       " '/new-york-city/81-pierrepont-street-brooklyn-mkbpuja',\n",
       " '/new-york-city/39-east-72nd-street-duplex-manhattan-earohub',\n",
       " '/new-york-city/214-east-18th-street-manhattan-qjktjlu',\n",
       " '/new-york-city/17-prospect-park-west-brooklyn-kxrrpdk',\n",
       " '/new-york-city/53-west-71st-street-manhattan-lscwqny',\n",
       " '/new-york-city/53-west-9th-street-manhattan-eqoimxx',\n",
       " '/new-york-city/161-east-74th-street-manhattan-xwybgaq',\n",
       " '/new-york-city/40-riverside-drive-manhattan-jrnfaxu',\n",
       " '/new-york-city/207-east-71st-street-manhattan-coogdif',\n",
       " '/new-york-city/144-reade-street-manhattan-fqxrtuq',\n",
       " '/new-york-city/44-west-95th-street-manhattan-woyczmc',\n",
       " '/new-york-city/144-west-82nd-street-manhattan-vpapucj',\n",
       " '/new-york-city/39-east-72nd-street-mais-manhattan-dilppby']"
      ]
     },
     "execution_count": 38,
     "metadata": {},
     "output_type": "execute_result"
    }
   ],
   "source": [
    "apartments = soup.find_all('li', class_='listing_address first')\n",
    "apt_urls = [apt.find('a')['href'] for apt in apartments]\n",
    "apt_urls"
   ]
  },
  {
   "cell_type": "code",
   "execution_count": 45,
   "metadata": {},
   "outputs": [],
   "source": [
    "apt_test = apt_urls[0]\n",
    "soup_apt = get_soup('https://www.elliman.com/'+apt_test)\n",
    "photo_link = soup_apt.find('li', class_='listing_all_photos').find('a')['href']\n",
    "photo_link = 'https://www.elliman.com/'+photo_link\n",
    "soup_photo = get_soup(photo_link)"
   ]
  },
  {
   "cell_type": "code",
   "execution_count": 49,
   "metadata": {},
   "outputs": [
    {
     "data": {
      "text/plain": [
       "26"
      ]
     },
     "execution_count": 49,
     "metadata": {},
     "output_type": "execute_result"
    }
   ],
   "source": [
    "len(soup_photo.find('div', class_='w_listitem_left').find_all('img'))"
   ]
  },
  {
   "cell_type": "code",
   "execution_count": null,
   "metadata": {},
   "outputs": [],
   "source": []
  }
 ],
 "metadata": {
  "kernelspec": {
   "display_name": "Python 3",
   "language": "python",
   "name": "python3"
  },
  "language_info": {
   "codemirror_mode": {
    "name": "ipython",
    "version": 3
   },
   "file_extension": ".py",
   "mimetype": "text/x-python",
   "name": "python",
   "nbconvert_exporter": "python",
   "pygments_lexer": "ipython3",
   "version": "3.7.3"
  }
 },
 "nbformat": 4,
 "nbformat_minor": 2
}
