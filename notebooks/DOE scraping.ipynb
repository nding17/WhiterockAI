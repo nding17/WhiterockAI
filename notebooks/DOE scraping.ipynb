{
 "cells": [
  {
   "cell_type": "code",
   "execution_count": 5,
   "metadata": {},
   "outputs": [],
   "source": [
    "import pandas as pd\n",
    "from bs4 import BeautifulSoup\n",
    "import requests\n",
    "import numpy as np\n",
    "import re\n",
    "import time\n",
    "import os\n",
    "from selenium import webdriver\n",
    "from selenium.webdriver.common.by import By\n",
    "from selenium.webdriver.support.ui import WebDriverWait\n",
    "from selenium.webdriver.support import expected_conditions as EC\n",
    "from selenium.webdriver.common.keys import Keys"
   ]
  },
  {
   "cell_type": "code",
   "execution_count": 31,
   "metadata": {},
   "outputs": [],
   "source": [
    "chromedriver = f'/Users/itachi/Downloads/Chrome/chromedriver'\n",
    "browser = webdriver.Chrome(executable_path=chromedriver)"
   ]
  },
  {
   "cell_type": "code",
   "execution_count": 32,
   "metadata": {},
   "outputs": [],
   "source": [
    "browser.get('https://tools.nycenet.edu/snapshot/2019/')"
   ]
  },
  {
   "cell_type": "code",
   "execution_count": 33,
   "metadata": {},
   "outputs": [],
   "source": [
    "text_box = browser.find_element_by_tag_name('input')\n",
    "text_box.click()\n",
    "\n",
    "lst = browser.find_element_by_tag_name('ul')\n",
    "schools = lst.text.split('\\n')\n",
    "\n",
    "text_box.send_keys(schools[0])\n",
    "text_box.send_keys(Keys.ENTER)"
   ]
  },
  {
   "cell_type": "code",
   "execution_count": 26,
   "metadata": {},
   "outputs": [],
   "source": [
    "lst = browser.find_element_by_tag_name('ul')"
   ]
  },
  {
   "cell_type": "code",
   "execution_count": 27,
   "metadata": {},
   "outputs": [],
   "source": [
    "schools = lst.text.split('\\n')"
   ]
  },
  {
   "cell_type": "code",
   "execution_count": 28,
   "metadata": {},
   "outputs": [
    {
     "data": {
      "text/plain": [
       "['P.S. 015 Roberto Clemente - [ES] 01M015',\n",
       " 'P.S. 015 Roberto Clemente - [Pre-K] 01M015',\n",
       " 'P.S. 019 Asher Levy - [ES] 01M019',\n",
       " 'P.S. 019 Asher Levy - [Pre-K] 01M019',\n",
       " 'P.S. 020 Anna Silver - [ES] 01M020',\n",
       " 'P.S. 020 Anna Silver - [Pre-K] 01M020',\n",
       " 'P.S. 034 Franklin D. Roosevelt - [K-8] 01M034',\n",
       " 'P.S. 034 Franklin D. Roosevelt - [Pre-K] 01M034',\n",
       " 'The STAR Academy - P.S.63 - [ES] 01M063',\n",
       " 'The STAR Academy - P.S.63 - [Pre-K] 01M063']"
      ]
     },
     "execution_count": 28,
     "metadata": {},
     "output_type": "execute_result"
    }
   ],
   "source": [
    "schools[:10]"
   ]
  },
  {
   "cell_type": "code",
   "execution_count": 29,
   "metadata": {},
   "outputs": [],
   "source": [
    "text_box.send_keys(schools[0])"
   ]
  },
  {
   "cell_type": "code",
   "execution_count": 30,
   "metadata": {},
   "outputs": [],
   "source": [
    "text_box.send_keys(Keys.ENTER)"
   ]
  },
  {
   "cell_type": "code",
   "execution_count": 42,
   "metadata": {},
   "outputs": [],
   "source": [
    "def get_browser(url, chromedriver):\n",
    "    browser = webdriver.Chrome(executable_path=chromedriver)\n",
    "    browser.get(url)\n",
    "    wait = WebDriverWait(browser, 20) # maximum wait time is 20 seconds \n",
    "    return browser, wait\n",
    "\n",
    "def get_schools(wait):\n",
    "    input_box = wait.until(EC.presence_of_element_located((By.TAG_NAME, 'input')))\n",
    "    input_box.click()\n",
    "    \n",
    "    elem_schools = wait.until(EC.presence_of_element_located((By.TAG_NAME, 'ul')))\n",
    "    schools = elem_schools.text.split('\\n')\n",
    "    \n",
    "    return schools"
   ]
  },
  {
   "cell_type": "code",
   "execution_count": 40,
   "metadata": {},
   "outputs": [],
   "source": [
    "url = 'https://tools.nycenet.edu/snapshot/2019/'\n",
    "browser, wait = get_browser(url, chromedriver)"
   ]
  },
  {
   "cell_type": "code",
   "execution_count": 44,
   "metadata": {},
   "outputs": [],
   "source": [
    "schools = get_schools(wait)"
   ]
  },
  {
   "cell_type": "code",
   "execution_count": null,
   "metadata": {},
   "outputs": [],
   "source": [
    "sc"
   ]
  }
 ],
 "metadata": {
  "kernelspec": {
   "display_name": "Python 3",
   "language": "python",
   "name": "python3"
  },
  "language_info": {
   "codemirror_mode": {
    "name": "ipython",
    "version": 3
   },
   "file_extension": ".py",
   "mimetype": "text/x-python",
   "name": "python",
   "nbconvert_exporter": "python",
   "pygments_lexer": "ipython3",
   "version": "3.7.3"
  }
 },
 "nbformat": 4,
 "nbformat_minor": 2
}
