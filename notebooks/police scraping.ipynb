{
 "cells": [
  {
   "cell_type": "code",
   "execution_count": 107,
   "metadata": {},
   "outputs": [],
   "source": [
    "import re\n",
    "import time\n",
    "import os\n",
    "import requests\n",
    "import pandas as pd\n",
    "import numpy as np\n",
    "from bs4 import BeautifulSoup\n",
    "from selenium import webdriver\n",
    "from selenium.webdriver.common.by import By\n",
    "from selenium.webdriver.support.ui import WebDriverWait\n",
    "from selenium.webdriver.support import expected_conditions as EC\n",
    "from selenium.webdriver.common.keys import Keys\n",
    "from webdriver_manager.chrome import ChromeDriverManager"
   ]
  },
  {
   "cell_type": "code",
   "execution_count": 108,
   "metadata": {},
   "outputs": [],
   "source": [
    "def _random_user_agent():\n",
    "    \"\"\"\n",
    "    A helper function to generate a random header to \n",
    "    avoid getting blocked by the website\n",
    "\n",
    "    Parameters\n",
    "    ----------\n",
    "    None\n",
    "\n",
    "    Returns\n",
    "    -------\n",
    "    str\n",
    "    a random user agent \n",
    "\n",
    "    >>> _random_user_agent()\n",
    "    'Mozilla/5.0 (Macintosh; Intel Mac OS X 10_12_3) \\\n",
    "                AppleWebKit/537.36 (KHTML, like Gecko) \\\n",
    "                Chrome/58.0.3029.110 Safari/537.36'\n",
    "    \"\"\"\n",
    "    try:\n",
    "        ua = UserAgent()\n",
    "        return ua.random\n",
    "    except:\n",
    "        default_ua = 'Mozilla/5.0 (Macintosh; Intel Mac OS X 10_12_3) \\\n",
    "                AppleWebKit/537.36 (KHTML, like Gecko) \\\n",
    "                Chrome/58.0.3029.110 Safari/537.36'\n",
    "        return default_ua\n",
    "\n",
    "def _get_soup(url):\n",
    "    \"\"\"\n",
    "    This is a helper function that will automatically generate a \n",
    "    BeautifulSoup object based on the given URL of the apartment \n",
    "    webpage\n",
    "\n",
    "    Parameters\n",
    "    ----------\n",
    "    url : str\n",
    "        the URL of a specific apartment or a general website \n",
    "\n",
    "    Returns\n",
    "    -------\n",
    "    soup : bs4.BeautifulSoup\n",
    "        a scraper for a specified webpage\n",
    "    \"\"\"\n",
    "\n",
    "    # generate a random header \n",
    "    headers = {'User-Agent': _random_user_agent()}\n",
    "    # send a request and get the soup\n",
    "    response = requests.get(url, headers=headers)\n",
    "    results = response.content\n",
    "    if not response.status_code == 404:\n",
    "        soup = BeautifulSoup(results, 'lxml')\n",
    "    return soup\n",
    "\n",
    "def _soup_attempts(url, total_attempts=5):\n",
    "\n",
    "    \"\"\"\n",
    "    A helper function that will make several attempts\n",
    "    to obtain a soup to avoid getting blocked\n",
    "\n",
    "    Parameters\n",
    "    ----------\n",
    "    url : str\n",
    "        the URL of a specific apartment or a general website \n",
    "\n",
    "    total_attempts: int\n",
    "        the number of attempts you want to try to obtain the \n",
    "        soup before you already give up. Default is 5 attempts\n",
    "\n",
    "    Returns\n",
    "    -------\n",
    "    soup : bs4.BeautifulSoup\n",
    "        a scraper for a specified webpage        \n",
    "\n",
    "    \"\"\"\n",
    "\n",
    "    soup = _get_soup(url)\n",
    "\n",
    "    # if we get the soup with the first attempt\n",
    "    if soup:\n",
    "        return soup\n",
    "    # if we don't get the soup during our first\n",
    "    # attempt\n",
    "    else:\n",
    "        attempts = 0\n",
    "        while attempts < total_attempts:\n",
    "            # put the program idle to avoid detection\n",
    "            time.sleep(3)\n",
    "            soup = self._get_soup(url)\n",
    "            if soup:\n",
    "                return soup\n",
    "        # time to give up, try to find what's going on \n",
    "        raise ValueError(f'FAILED to get soup for apt url {url}')"
   ]
  },
  {
   "cell_type": "code",
   "execution_count": 109,
   "metadata": {},
   "outputs": [],
   "source": [
    "police_url = 'https://www.crimereports.com/home/#!/dashboard?lat=40.01144453463675&lng=-75.13275146484375&zoom=13&incident_types=Assault%252CAssault%2520with%2520Deadly%2520Weapon%252CBreaking%2520%2526%2520Entering%252CDisorder%252CDrugs%252CHomicide%252CKidnapping%252CLiquor%252COther%2520Sexual%2520Offense%252CProperty%2520Crime%252CProperty%2520Crime%2520Commercial%252CProperty%2520Crime%2520Residential%252CQuality%2520of%2520Life%252CRobbery%252CSexual%2520Assault%252CSexual%2520Offense%252CTheft%252CTheft%2520from%2520Vehicle%252CTheft%2520of%2520Vehicle&start_date=2019-06-09&end_date=2019-11-30&days=sunday%252Cmonday%252Ctuesday%252Cwednesday%252Cthursday%252Cfriday%252Csaturday&start_time=0&end_time=23&include_sex_offenders=false&current_tab=list&shapeIds=&position_id=33m9-hupm-row-qv5k_airg_asnz&shape_id=false&searchText=Philadelphia%252C%2520Pennsylvania%252C%2520United%2520States'"
   ]
  },
  {
   "cell_type": "code",
   "execution_count": 110,
   "metadata": {},
   "outputs": [],
   "source": [
    "def _build_chrome_options():\n",
    "        chrome_options = webdriver.ChromeOptions()\n",
    "        chrome_options.accept_untrusted_certs = True\n",
    "        chrome_options.assume_untrusted_cert_issuer = True\n",
    "        \n",
    "        # chrome configuration\n",
    "        # More: https://github.com/SeleniumHQ/docker-selenium/issues/89\n",
    "        # And: https://github.com/SeleniumHQ/docker-selenium/issues/87\n",
    "        chrome_options.add_argument(\"--no-sandbox\")\n",
    "        chrome_options.add_argument(\"--disable-impl-side-painting\")\n",
    "        chrome_options.add_argument(\"--disable-setuid-sandbox\")\n",
    "        chrome_options.add_argument(\"--disable-seccomp-filter-sandbox\")\n",
    "        chrome_options.add_argument(\"--disable-breakpad\")\n",
    "        chrome_options.add_argument(\"--disable-client-side-phishing-detection\")\n",
    "        chrome_options.add_argument(\"--disable-cast\")\n",
    "        chrome_options.add_argument(\"--disable-cast-streaming-hw-encoding\")\n",
    "        chrome_options.add_argument(\"--disable-cloud-import\")\n",
    "        chrome_options.add_argument(\"--disable-popup-blocking\")\n",
    "        chrome_options.add_argument(\"--ignore-certificate-errors\")\n",
    "        chrome_options.add_argument(\"--disable-session-crashed-bubble\")\n",
    "        chrome_options.add_argument(\"--disable-ipv6\")\n",
    "        chrome_options.add_argument(\"--allow-http-screen-capture\")\n",
    "        chrome_options.add_argument(\"--start-maximized\")\n",
    "        chrome_options.add_argument('--lang=es')\n",
    "\n",
    "        return chrome_options\n",
    "\n",
    "def _get_browser():\n",
    "    \"\"\"\n",
    "    A helper function to get the selenium browser in order \n",
    "    to perform the scraping tasks \n",
    "\n",
    "    Parameters\n",
    "    ----------\n",
    "    chromedriver : str\n",
    "        the path to the location of the chromedriver \n",
    "\n",
    "    Returns\n",
    "    -------\n",
    "    browser : webdriver.chrome\n",
    "        a chrome web driver \n",
    "\n",
    "    wait : WebDriverWait\n",
    "        this is wait object that allows the program to hang around for a period\n",
    "        of time since we need some time to listen to the server \n",
    "\n",
    "    \"\"\"\n",
    "    options = _build_chrome_options()\n",
    "\n",
    "    browser = webdriver.Chrome(ChromeDriverManager().install(), chrome_options=options)\n",
    "    browser.get(police_url)\n",
    "    wait = WebDriverWait(browser, 10) # maximum wait time is 20 seconds \n",
    "    return browser, wait"
   ]
  },
  {
   "cell_type": "code",
   "execution_count": 112,
   "metadata": {},
   "outputs": [
    {
     "name": "stdout",
     "output_type": "stream",
     "text": [
      "\n",
      "Looking for [chromedriver 78.0.3904.105 mac64] driver in cache \n",
      "File found in cache by path [/Users/nailiding/.wdm/drivers/chromedriver/78.0.3904.105/mac64/chromedriver]\n"
     ]
    },
    {
     "name": "stderr",
     "output_type": "stream",
     "text": [
      "/Users/nailiding/opt/anaconda3/lib/python3.7/site-packages/ipykernel_launcher.py:50: DeprecationWarning: use options instead of chrome_options\n"
     ]
    }
   ],
   "source": [
    "browser, wait = _get_browser()"
   ]
  },
  {
   "cell_type": "code",
   "execution_count": 69,
   "metadata": {},
   "outputs": [],
   "source": [
    "elem = browser.find_element_by_xpath(\"//div[@class='leaflet-marker-icon donut-marker-cluster leaflet-zoom-animated leaflet-clickable']/following-sibling::div[86]\")"
   ]
  },
  {
   "cell_type": "code",
   "execution_count": 99,
   "metadata": {},
   "outputs": [],
   "source": [
    "elem = browser.find_element_by_class_name(\"leaflet-clickable\")"
   ]
  },
  {
   "cell_type": "code",
   "execution_count": 100,
   "metadata": {},
   "outputs": [],
   "source": [
    "elem.click()"
   ]
  },
  {
   "cell_type": "code",
   "execution_count": 101,
   "metadata": {},
   "outputs": [],
   "source": [
    "elem_leaf = browser.find_element_by_xpath(\"//div[@class='leaflet-marker-icon donut-marker-cluster leaflet-zoom-animated leaflet-clickable']\")\n"
   ]
  },
  {
   "cell_type": "code",
   "execution_count": 106,
   "metadata": {},
   "outputs": [
    {
     "data": {
      "text/plain": [
       "<selenium.webdriver.remote.webelement.WebElement (session=\"937c81eb7d8b4e3b05ad6f8a629b3c51\", element=\"cc9ee5db-4f5b-4d66-a71f-aac0ba54d9f6\")>"
      ]
     },
     "execution_count": 106,
     "metadata": {},
     "output_type": "execute_result"
    }
   ],
   "source": []
  },
  {
   "cell_type": "code",
   "execution_count": null,
   "metadata": {},
   "outputs": [],
   "source": []
  }
 ],
 "metadata": {
  "kernelspec": {
   "display_name": "Python 3",
   "language": "python",
   "name": "python3"
  },
  "language_info": {
   "codemirror_mode": {
    "name": "ipython",
    "version": 3
   },
   "file_extension": ".py",
   "mimetype": "text/x-python",
   "name": "python",
   "nbconvert_exporter": "python",
   "pygments_lexer": "ipython3",
   "version": "3.7.4"
  }
 },
 "nbformat": 4,
 "nbformat_minor": 2
}
