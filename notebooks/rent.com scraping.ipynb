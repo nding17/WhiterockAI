{
 "cells": [
  {
   "cell_type": "code",
   "execution_count": 108,
   "metadata": {},
   "outputs": [],
   "source": [
    "import pandas as pd\n",
    "from bs4 import BeautifulSoup\n",
    "import requests\n",
    "import numpy as np"
   ]
  },
  {
   "cell_type": "code",
   "execution_count": 78,
   "metadata": {},
   "outputs": [],
   "source": [
    "def get_page_url(city, state, page_num):\n",
    "    city = city.lower().replace(' ', '-')\n",
    "    state = state.lower().replace(' ', '-')\n",
    "    page = f'https://www.rent.com/{state}/{city}/apartments_condos_houses_townhouses?page={page_num}'\n",
    "    return page"
   ]
  },
  {
   "cell_type": "code",
   "execution_count": 80,
   "metadata": {},
   "outputs": [
    {
     "data": {
      "text/plain": [
       "'https://www.rent.com/pennsylvania/philadelphia/apartments_condos_houses_townhouses?page=1'"
      ]
     },
     "execution_count": 80,
     "metadata": {},
     "output_type": "execute_result"
    }
   ],
   "source": [
    "get_page_url('Philadelphia', 'Pennsylvania', 1)"
   ]
  },
  {
   "cell_type": "code",
   "execution_count": 81,
   "metadata": {},
   "outputs": [],
   "source": [
    "response = requests.get('https://www.rent.com/pennsylvania/philadelphia/apartments_condos_houses_townhouses?page=1')\n",
    "results = response.content"
   ]
  },
  {
   "cell_type": "code",
   "execution_count": 84,
   "metadata": {},
   "outputs": [
    {
     "data": {
      "text/plain": [
       "200"
      ]
     },
     "execution_count": 84,
     "metadata": {},
     "output_type": "execute_result"
    }
   ],
   "source": [
    "response.status_code"
   ]
  },
  {
   "cell_type": "code",
   "execution_count": 32,
   "metadata": {},
   "outputs": [],
   "source": [
    "soup = BeautifulSoup(results, 'lxml')"
   ]
  },
  {
   "cell_type": "code",
   "execution_count": 89,
   "metadata": {},
   "outputs": [
    {
     "data": {
      "text/plain": [
       "[<div class=\"_3PdAH _1EbNE\"><div class=\"_3RRl_ _2Hrxl\"><div class=\"_1S95n _1484Q\"><div class=\"_3e12V\" data-tid=\"price\">$995+</div><div class=\"_3NPAZ oeSCu\" data-tid=\"rating\"><div class=\"_2hqOW\"><div class=\"_1J1DR\" style=\"width:100%\"></div></div><div class=\"_2ti3Q hnGZw _3XmXI _2z-p_ _2LCM5 _3NBE2 K_C0q\">(2)</div></div></div><a class=\"_3kMwn ByXwK\" data-tag_item=\"property_title\" data-tid=\"property-title\" href=\"/pennsylvania/elkins-park-apartments/the-new-lynnewood-gardens-4-446793\" rel=\"noreferrer noopener\" target=\"_blank\">The New Lynnewood Gardens</a><div class=\"T9KnS\"><div class=\"_1dhrl _5v7PZ\" data-tid=\"listing-info-address\">1950 Ashbourne Rd<br/>Elkins Park, PA 19027</div><div class=\"_2tApa\" data-tid=\"beds-baths\">1–3 Beds • 1 Bath</div></div><div class=\"_251R_ _3M7vu\" data-tid=\"property-info\"><div class=\"_2P6xE\" data-tid=\"property-unitAvailText\">10+ Units Available</div><div class=\"_1bY_F\" data-tid=\"property-recentlyUpdated\">Updated 1 day ago</div></div></div><div class=\"wy0Jz _1fGq_\" data-nopdplink=\"true\"><button class=\"lJ7xk _3Pnn2\" data-tag_item=\"check_availability_button\" data-tid=\"contact-property-button\" type=\"button\"><div class=\"_20dLw\" data-tid=\"text\">Contact Property</div></button><div class=\"_35UBu\" data-tag_item=\"phone_number_link\" data-tag_selection=\"phone\" data-tid=\"phone\">(267) 536-4608</div></div></div>,\n",
       " <div class=\"_3PdAH _1EbNE\"><div class=\"_3RRl_ _2Hrxl\"><div class=\"_1S95n _1484Q\"><div class=\"_3e12V\" data-tid=\"price\">$1,930+</div></div><a class=\"_3kMwn ByXwK\" data-tag_item=\"property_title\" data-tid=\"property-title\" href=\"/pennsylvania/philadelphia-apartments/1213-walnut-4-100064785\" rel=\"noreferrer noopener\" target=\"_blank\">1213 Walnut</a><div class=\"T9KnS\"><div class=\"_1dhrl _5v7PZ\" data-tid=\"listing-info-address\">1213 Walnut Street<br/>Philadelphia, PA 19107</div><div class=\"_2tApa\" data-tid=\"beds-baths\">Studio–2 Beds • 1–2 Baths</div></div><div class=\"_251R_ _3M7vu\" data-tid=\"property-info\"><div class=\"_2P6xE\" data-tid=\"property-unitAvailText\">10+ Units Available</div><div class=\"_1bY_F\" data-tid=\"property-recentlyUpdated\">Updated 1 day ago</div></div></div><div class=\"wy0Jz _1fGq_\" data-nopdplink=\"true\"><button class=\"lJ7xk _3Pnn2\" data-tag_item=\"check_availability_button\" data-tid=\"contact-property-button\" type=\"button\"><div class=\"_20dLw\" data-tid=\"text\">Contact Property</div></button><div class=\"_35UBu\" data-tag_item=\"phone_number_link\" data-tag_selection=\"phone\" data-tid=\"phone\">(267) 570-3610</div></div></div>,\n",
       " <div class=\"_3PdAH _1EbNE\"><div class=\"_3RRl_ _2Hrxl\"><div class=\"_1S95n _1484Q\"><div class=\"_3e12V\" data-tid=\"price\">$1,455+</div></div><a class=\"_3kMwn ByXwK\" data-tag_item=\"property_title\" data-tid=\"property-title\" href=\"/pennsylvania/philadelphia-apartments/the-hamilton-4-100068395\" rel=\"noreferrer noopener\" target=\"_blank\">The Hamilton</a><div class=\"T9KnS\"><div class=\"_1dhrl _5v7PZ\" data-tid=\"listing-info-address\">1520 Hamilton Street<br/>Philadelphia, PA 19130</div><div class=\"_2tApa\" data-tid=\"beds-baths\">Studio–2 Beds • 1–2 Baths</div></div><div class=\"_251R_ _3M7vu\" data-tid=\"property-info\"><div class=\"_2P6xE\" data-tid=\"property-unitAvailText\">10+ Units Available</div><div class=\"_1bY_F\" data-tid=\"property-recentlyUpdated\">Updated 8 hours ago</div></div></div><div class=\"wy0Jz _1fGq_\" data-nopdplink=\"true\"><button class=\"lJ7xk _3Pnn2\" data-tag_item=\"check_availability_button\" data-tid=\"contact-property-button\" type=\"button\"><div class=\"_20dLw\" data-tid=\"text\">Contact Property</div></button><div class=\"_35UBu\" data-tag_item=\"phone_number_link\" data-tag_selection=\"phone\" data-tid=\"phone\">(267) 433-5281</div></div></div>,\n",
       " <div class=\"_3PdAH _1EbNE\"><div class=\"_3RRl_ _2Hrxl\"><div class=\"_1S95n _1484Q\"><div class=\"_3e12V\" data-tid=\"price\">$1,559+</div><div class=\"_3NPAZ oeSCu\" data-tid=\"rating\"><div class=\"_2hqOW\"><div class=\"_1J1DR\" style=\"width:90%\"></div></div><div class=\"_2ti3Q hnGZw _3XmXI _2z-p_ _2LCM5 _3NBE2 K_C0q\">(178)</div></div></div><a class=\"_3kMwn ByXwK\" data-tag_item=\"property_title\" data-tid=\"property-title\" href=\"/pennsylvania/philadelphia-apartments/1500-locust-4-451422\" rel=\"noreferrer noopener\" target=\"_blank\">1500 Locust</a><div class=\"T9KnS\"><div class=\"_1dhrl _5v7PZ\" data-tid=\"listing-info-address\">1500 Locust Street<br/>Philadelphia, PA 19102</div><div class=\"_2tApa\" data-tid=\"beds-baths\">Studio–3 Beds • 1–2 Baths</div></div><div class=\"_251R_ _3M7vu\" data-tid=\"property-info\"><div class=\"_2P6xE\" data-tid=\"property-unitAvailText\">10 Units Available</div><div class=\"_1bY_F\" data-tid=\"property-recentlyUpdated\">Updated 1 day ago</div></div></div><div class=\"wy0Jz _1fGq_\" data-nopdplink=\"true\"><button class=\"lJ7xk _3Pnn2\" data-tag_item=\"check_availability_button\" data-tid=\"contact-property-button\" type=\"button\"><div class=\"_20dLw\" data-tid=\"text\">Contact Property</div></button><div class=\"_35UBu\" data-tag_item=\"phone_number_link\" data-tag_selection=\"phone\" data-tid=\"phone\">(267) 460-0245</div></div></div>,\n",
       " <div class=\"_3PdAH _1EbNE\"><div class=\"_3RRl_ _2Hrxl\"><div class=\"_1S95n _1484Q\"><div class=\"_3e12V\" data-tid=\"price\">$1,598+</div></div><a class=\"_3kMwn ByXwK\" data-tag_item=\"property_title\" data-tid=\"property-title\" href=\"/pennsylvania/philadelphia-apartments/vue32-4-100063542\" rel=\"noreferrer noopener\" target=\"_blank\">Vue32</a><div class=\"T9KnS\"><div class=\"_1dhrl _5v7PZ\" data-tid=\"listing-info-address\">3201 Race Street<br/>Philadelphia, PA 19104</div><div class=\"_2tApa\" data-tid=\"beds-baths\">1–3 Beds • 1–2 Baths</div></div><div class=\"_251R_ _3M7vu\" data-tid=\"property-info\"><div class=\"_2P6xE\" data-tid=\"property-unitAvailText\">7 Units Available</div><div class=\"_1bY_F\" data-tid=\"property-recentlyUpdated\">Updated 22 hours ago</div></div></div><div class=\"wy0Jz _1fGq_\" data-nopdplink=\"true\"><button class=\"lJ7xk _3Pnn2\" data-tag_item=\"check_availability_button\" data-tid=\"contact-property-button\" type=\"button\"><div class=\"_20dLw\" data-tid=\"text\">Contact Property</div></button><div class=\"_35UBu\" data-tag_item=\"phone_number_link\" data-tag_selection=\"phone\" data-tid=\"phone\">(267) 774-4723</div></div></div>,\n",
       " <div class=\"_3PdAH _1EbNE\"><div class=\"_3RRl_ _2Hrxl\"><div class=\"_1S95n _1484Q\"><div class=\"_3e12V\" data-tid=\"price\">$1,524+</div><div class=\"_3NPAZ oeSCu\" data-tid=\"rating\"><div class=\"_2hqOW\"><div class=\"_1J1DR\" style=\"width:90%\"></div></div><div class=\"_2ti3Q hnGZw _3XmXI _2z-p_ _2LCM5 _3NBE2 K_C0q\">(73)</div></div></div><a class=\"_3kMwn ByXwK\" data-tag_item=\"property_title\" data-tid=\"property-title\" href=\"/pennsylvania/philadelphia-apartments/park-towne-place-premier-apartment-homes-4-100051136\" rel=\"noreferrer noopener\" target=\"_blank\">Park Towne Place Premier Apartment Homes</a><div class=\"T9KnS\"><div class=\"_1dhrl _5v7PZ\" data-tid=\"listing-info-address\">2200 Benjamin Franklin Parkway<br/>Philadelphia, PA 19130</div><div class=\"_2tApa\" data-tid=\"beds-baths\">Studio–3 Beds • 1–3 Baths</div></div><div class=\"_251R_ _3M7vu\" data-tid=\"property-info\"><div class=\"_2P6xE\" data-tid=\"property-unitAvailText\">10+ Units Available</div><div class=\"_1bY_F\" data-tid=\"property-recentlyUpdated\">Updated 18 hours ago</div></div></div><div class=\"wy0Jz _1fGq_\" data-nopdplink=\"true\"><button class=\"lJ7xk _3Pnn2\" data-tag_item=\"check_availability_button\" data-tid=\"contact-property-button\" type=\"button\"><div class=\"_20dLw\" data-tid=\"text\">Contact Property</div></button><div class=\"_35UBu\" data-tag_item=\"phone_number_link\" data-tag_selection=\"phone\" data-tid=\"phone\">(267) 297-1393</div></div></div>,\n",
       " <div class=\"_3PdAH _1EbNE\"><div class=\"_3RRl_ _2Hrxl\"><div class=\"_1S95n _1484Q\"><div class=\"_3e12V\" data-tid=\"price\">$1,704+</div></div><a class=\"_3kMwn ByXwK\" data-tag_item=\"property_title\" data-tid=\"property-title\" href=\"/pennsylvania/philadelphia-apartments/the-alexander-4-100066013\" rel=\"noreferrer noopener\" target=\"_blank\">The Alexander</a><div class=\"T9KnS\"><div class=\"_1dhrl _5v7PZ\" data-tid=\"listing-info-address\">300 Alexander Court<br/>Philadelphia, PA 19103</div><div class=\"_2tApa\" data-tid=\"beds-baths\">Studio–4 Beds • 1–3 Baths</div></div><div class=\"_251R_ _3M7vu\" data-tid=\"property-info\"><div class=\"_2P6xE\" data-tid=\"property-unitAvailText\">9 Units Available</div><div class=\"_1bY_F\" data-tid=\"property-recentlyUpdated\">Updated 8 hours ago</div></div></div><div class=\"wy0Jz _1fGq_\" data-nopdplink=\"true\"><button class=\"lJ7xk _3Pnn2\" data-tag_item=\"check_availability_button\" data-tid=\"contact-property-button\" type=\"button\"><div class=\"_20dLw\" data-tid=\"text\">Contact Property</div></button><div class=\"_35UBu\" data-tag_item=\"phone_number_link\" data-tag_selection=\"phone\" data-tid=\"phone\">(856) 272-7513</div></div></div>,\n",
       " <div class=\"_3PdAH _1EbNE\"><div class=\"_3RRl_ _2Hrxl\"><div class=\"_1S95n _1484Q\"><div class=\"_3e12V\" data-tid=\"price\">$1,485+</div><div class=\"_3NPAZ oeSCu\" data-tid=\"rating\"><div class=\"_2hqOW\"><div class=\"_1J1DR\" style=\"width:80%\"></div></div><div class=\"_2ti3Q hnGZw _3XmXI _2z-p_ _2LCM5 _3NBE2 K_C0q\">(52)</div></div></div><a class=\"_3kMwn ByXwK\" data-tag_item=\"property_title\" data-tid=\"property-title\" href=\"/pennsylvania/philadelphia-apartments/northxnorthwest-north-tower-4-451321\" rel=\"noreferrer noopener\" target=\"_blank\">NORTHxNORTHWEST - North Tower</a><div class=\"T9KnS\"><div class=\"_1dhrl _5v7PZ\" data-tid=\"listing-info-address\">450 N 18th Street<br/>Philadelphia, PA 19130</div><div class=\"_2tApa\" data-tid=\"beds-baths\">Studio–2 Beds • 1–2 Baths</div></div><div class=\"_251R_ _3M7vu\" data-tid=\"property-info\"><div class=\"_2P6xE\" data-tid=\"property-unitAvailText\">10+ Units Available</div><div class=\"_1bY_F\" data-tid=\"property-recentlyUpdated\">Updated 15 hours ago</div></div></div><div class=\"wy0Jz _1fGq_\" data-nopdplink=\"true\"><button class=\"lJ7xk _3Pnn2\" data-tag_item=\"check_availability_button\" data-tid=\"contact-property-button\" type=\"button\"><div class=\"_20dLw\" data-tid=\"text\">Contact Property</div></button><div class=\"_35UBu\" data-tag_item=\"phone_number_link\" data-tag_selection=\"phone\" data-tid=\"phone\">(267) 460-5933</div></div></div>,\n",
       " <div class=\"_3PdAH _1EbNE\"><div class=\"_3RRl_ _2Hrxl\"><div class=\"_1S95n _1484Q\"><div class=\"_3e12V\" data-tid=\"price\">$1,702+</div><div class=\"_3NPAZ oeSCu\" data-tid=\"rating\"><div class=\"_2hqOW\"><div class=\"_1J1DR\" style=\"width:80%\"></div></div><div class=\"_2ti3Q hnGZw _3XmXI _2z-p_ _2LCM5 _3NBE2 K_C0q\">(105)</div></div></div><a class=\"_3kMwn ByXwK\" data-tag_item=\"property_title\" data-tid=\"property-title\" href=\"/pennsylvania/philadelphia-apartments/the-granary-4-54031773\" rel=\"noreferrer noopener\" target=\"_blank\">The Granary</a><div class=\"T9KnS\"><div class=\"_1dhrl _5v7PZ\" data-tid=\"listing-info-address\">1901 Callowhill Street<br/>Philadelphia, PA 19130</div><div class=\"_2tApa\" data-tid=\"beds-baths\">1–3 Beds • 1–3 Baths</div></div><div class=\"_251R_ _3M7vu\" data-tid=\"property-info\"><div class=\"_2P6xE\" data-tid=\"property-unitAvailText\">4 Units Available</div><div class=\"_1bY_F\" data-tid=\"property-recentlyUpdated\">Updated 11 hours ago</div></div></div><div class=\"wy0Jz _1fGq_\" data-nopdplink=\"true\"><button class=\"lJ7xk _3Pnn2\" data-tag_item=\"check_availability_button\" data-tid=\"contact-property-button\" type=\"button\"><div class=\"_20dLw\" data-tid=\"text\">Contact Property</div></button><div class=\"_35UBu\" data-tag_item=\"phone_number_link\" data-tag_selection=\"phone\" data-tid=\"phone\">(267) 443-6945</div></div></div>,\n",
       " <div class=\"_3PdAH _1EbNE\"><div class=\"_3RRl_ _2Hrxl\"><div class=\"_1S95n _1484Q\"><div class=\"_3e12V\" data-tid=\"price\">$1,679+</div></div><a class=\"_3kMwn ByXwK\" data-tag_item=\"property_title\" data-tid=\"property-title\" href=\"/pennsylvania/philadelphia-apartments/aq-rittenhouse-4-100047881\" rel=\"noreferrer noopener\" target=\"_blank\">AQ Rittenhouse</a><div class=\"T9KnS\"><div class=\"_1dhrl _5v7PZ\" data-tid=\"listing-info-address\">2021 Chestnut St<br/>Philadelphia, PA 19103</div><div class=\"_2tApa\" data-tid=\"beds-baths\">Studio–2 Beds • 1–2 Baths</div></div><div class=\"_251R_ _3M7vu\" data-tid=\"property-info\"><div class=\"_2P6xE\" data-tid=\"property-unitAvailText\">1 Unit Available</div><div class=\"_1bY_F\" data-tid=\"property-recentlyUpdated\">Updated 7 hours ago</div></div></div><div class=\"wy0Jz _1fGq_\" data-nopdplink=\"true\"><button class=\"lJ7xk _3Pnn2\" data-tag_item=\"check_availability_button\" data-tid=\"contact-property-button\" type=\"button\"><div class=\"_20dLw\" data-tid=\"text\">Contact Property</div></button><div class=\"_35UBu\" data-tag_item=\"phone_number_link\" data-tag_selection=\"phone\" data-tid=\"phone\">(484) 801-0809</div></div></div>,\n",
       " <div class=\"_3PdAH _1EbNE\"><div class=\"_3RRl_ _2Hrxl\"><div class=\"_1S95n _1484Q\"><div class=\"_3e12V\" data-tid=\"price\">$1,638+</div></div><a class=\"_3kMwn ByXwK\" data-tag_item=\"property_title\" data-tid=\"property-title\" href=\"/pennsylvania/ardmore-apartments/the-square-4-100057998\" rel=\"noreferrer noopener\" target=\"_blank\">The Square</a><div class=\"T9KnS\"><div class=\"_1dhrl _5v7PZ\" data-tid=\"listing-info-address\">110 Sibley Avenue<br/>Ardmore, PA 19003</div><div class=\"_2tApa\" data-tid=\"beds-baths\">1–3 Beds • 1–2 Baths</div></div><div class=\"_251R_ _3M7vu\" data-tid=\"property-info\"><div class=\"_2P6xE\" data-tid=\"property-unitAvailText\">4 Units Available</div><div class=\"_1bY_F\" data-tid=\"property-recentlyUpdated\">Updated 1 day ago</div></div></div><div class=\"wy0Jz _1fGq_\" data-nopdplink=\"true\"><button class=\"lJ7xk _3Pnn2\" data-tag_item=\"check_availability_button\" data-tid=\"contact-property-button\" type=\"button\"><div class=\"_20dLw\" data-tid=\"text\">Contact Property</div></button><div class=\"_35UBu\" data-tag_item=\"phone_number_link\" data-tag_selection=\"phone\" data-tid=\"phone\">(610) 616-2326</div></div></div>,\n",
       " <div class=\"_3PdAH _1EbNE\"><div class=\"_3RRl_ _2Hrxl\"><div class=\"_1S95n _1484Q\"><div class=\"_3e12V\" data-tid=\"price\">$1,800+</div></div><a class=\"_3kMwn ByXwK\" data-tag_item=\"property_title\" data-tid=\"property-title\" href=\"/pennsylvania/philadelphia-apartments/arrive-university-city-4-100051943\" rel=\"noreferrer noopener\" target=\"_blank\">Arrive University City</a><div class=\"T9KnS\"><div class=\"_1dhrl _5v7PZ\" data-tid=\"listing-info-address\">3601 Market Street<br/>Philadelphia, PA 19104</div><div class=\"_2tApa\" data-tid=\"beds-baths\">Studio–2 Beds • 1–2 Baths</div></div><div class=\"_251R_ _3M7vu\" data-tid=\"property-info\"><div class=\"_2P6xE\" data-tid=\"property-unitAvailText\">10+ Units Available</div><div class=\"_1bY_F\" data-tid=\"property-recentlyUpdated\">Updated 9 hours ago</div></div></div><div class=\"wy0Jz _1fGq_\" data-nopdplink=\"true\"><button class=\"lJ7xk _3Pnn2\" data-tag_item=\"check_availability_button\" data-tid=\"contact-property-button\" type=\"button\"><div class=\"_20dLw\" data-tid=\"text\">Contact Property</div></button><div class=\"_35UBu\" data-tag_item=\"phone_number_link\" data-tag_selection=\"phone\" data-tid=\"phone\">(267) 277-3469</div></div></div>,\n",
       " <div class=\"_3PdAH _1EbNE\"><div class=\"_3RRl_ _2Hrxl\"><div class=\"_1S95n _1484Q\"><div class=\"_3e12V\" data-tid=\"price\">$1,200+</div><div class=\"_3NPAZ oeSCu\" data-tid=\"rating\"><div class=\"_2hqOW\"><div class=\"_1J1DR\" style=\"width:70%\"></div></div><div class=\"_2ti3Q hnGZw _3XmXI _2z-p_ _2LCM5 _3NBE2 K_C0q\">(17)</div></div></div><a class=\"_3kMwn ByXwK\" data-tag_item=\"property_title\" data-tid=\"property-title\" href=\"/pennsylvania/philadelphia-apartments/carlton-park-4-511503\" rel=\"noreferrer noopener\" target=\"_blank\">Carlton Park</a><div class=\"T9KnS\"><div class=\"_1dhrl _5v7PZ\" data-tid=\"listing-info-address\">2920 Midvale Avenue<br/>Philadelphia, PA 19129</div><div class=\"_2tApa\" data-tid=\"beds-baths\">1–3 Beds • 1–2 Baths</div></div><div class=\"_251R_ _3M7vu\" data-tid=\"property-info\"><div class=\"_2P6xE\" data-tid=\"property-unitAvailText\">5 Units Available</div></div></div><div class=\"wy0Jz _1fGq_\" data-nopdplink=\"true\"><button class=\"lJ7xk _3Pnn2\" data-tag_item=\"check_availability_button\" data-tid=\"contact-property-button\" type=\"button\"><div class=\"_20dLw\" data-tid=\"text\">Contact Property</div></button><div class=\"_35UBu\" data-tag_item=\"phone_number_link\" data-tag_selection=\"phone\" data-tid=\"phone\">(267) 460-5689</div></div></div>,\n",
       " <div class=\"_3PdAH _1EbNE\"><div class=\"_3RRl_ _2Hrxl\"><div class=\"_1S95n _1484Q\"><div class=\"_3e12V\" data-tid=\"price\">$1,932+</div><div class=\"_3NPAZ oeSCu\" data-tid=\"rating\"><div class=\"_2hqOW\"><div class=\"_1J1DR\" style=\"width:90%\"></div></div><div class=\"_2ti3Q hnGZw _3XmXI _2z-p_ _2LCM5 _3NBE2 K_C0q\">(37)</div></div></div><a class=\"_3kMwn ByXwK\" data-tag_item=\"property_title\" data-tid=\"property-title\" href=\"/pennsylvania/philadelphia-apartments/the-collins-at-midtown-village-4-100059314\" rel=\"noreferrer noopener\" target=\"_blank\">The Collins at Midtown Village</a><div class=\"T9KnS\"><div class=\"_1dhrl _5v7PZ\" data-tid=\"listing-info-address\">1125 Sansom Street<br/>Philadelphia, PA 19107</div><div class=\"_2tApa\" data-tid=\"beds-baths\">1–2 Beds • 1–2 Baths</div></div><div class=\"_251R_ _3M7vu\" data-tid=\"property-info\"><div class=\"_2P6xE\" data-tid=\"property-unitAvailText\">2 Units Available</div><div class=\"_1bY_F\" data-tid=\"property-recentlyUpdated\">Updated 23 hours ago</div></div></div><div class=\"wy0Jz _1fGq_\" data-nopdplink=\"true\"><button class=\"lJ7xk _3Pnn2\" data-tag_item=\"check_availability_button\" data-tid=\"contact-property-button\" type=\"button\"><div class=\"_20dLw\" data-tid=\"text\">Contact Property</div></button><div class=\"_35UBu\" data-tag_item=\"phone_number_link\" data-tag_selection=\"phone\" data-tid=\"phone\">(267) 388-2404</div></div></div>,\n",
       " <div class=\"_3PdAH _1EbNE\"><div class=\"_3RRl_ _2Hrxl\"><div class=\"_1S95n _1484Q\"><div class=\"_3e12V\" data-tid=\"price\">$2,090+</div><div class=\"_3NPAZ oeSCu\" data-tid=\"rating\"><div class=\"_2hqOW\"><div class=\"_1J1DR\" style=\"width:80%\"></div></div><div class=\"_2ti3Q hnGZw _3XmXI _2z-p_ _2LCM5 _3NBE2 K_C0q\">(39)</div></div></div><a class=\"_3kMwn ByXwK\" data-tag_item=\"property_title\" data-tid=\"property-title\" href=\"/pennsylvania/philadelphia-apartments/the-girard-4-100071298\" rel=\"noreferrer noopener\" target=\"_blank\">The Girard</a><div class=\"T9KnS\"><div class=\"_1dhrl _5v7PZ\" data-tid=\"listing-info-address\">1199 Ludlow St<br/>Philadelphia, PA 19107</div><div class=\"_2tApa\" data-tid=\"beds-baths\">1–2 Beds • 1–2 Baths</div></div><div class=\"_251R_ _3M7vu\" data-tid=\"property-info\"><div class=\"_2P6xE\" data-tid=\"property-unitAvailText\">10+ Units Available</div><div class=\"_1bY_F\" data-tid=\"property-recentlyUpdated\">Updated 11 hours ago</div></div></div><div class=\"wy0Jz _1fGq_\" data-nopdplink=\"true\"><button class=\"lJ7xk _3Pnn2\" data-tag_item=\"check_availability_button\" data-tid=\"contact-property-button\" type=\"button\"><div class=\"_20dLw\" data-tid=\"text\">Contact Property</div></button><div class=\"_35UBu\" data-tag_item=\"phone_number_link\" data-tag_selection=\"phone\" data-tid=\"phone\">(215) 987-4975</div></div></div>,\n",
       " <div class=\"_3PdAH _1EbNE\"><div class=\"_3RRl_ _2Hrxl\"><div class=\"_1S95n _1484Q\"><div class=\"_3e12V\" data-tid=\"price\">$2,099+</div><div class=\"_3NPAZ oeSCu\" data-tid=\"rating\"><div class=\"_2hqOW\"><div class=\"_1J1DR\" style=\"width:90%\"></div></div><div class=\"_2ti3Q hnGZw _3XmXI _2z-p_ _2LCM5 _3NBE2 K_C0q\">(21)</div></div></div><a class=\"_3kMwn ByXwK\" data-tag_item=\"property_title\" data-tid=\"property-title\" href=\"/pennsylvania/ardmore-apartments/one-ardmore-4-100070924\" rel=\"noreferrer noopener\" target=\"_blank\">One Ardmore</a><div class=\"T9KnS\"><div class=\"_1dhrl _5v7PZ\" data-tid=\"listing-info-address\">24 Cricket Avenue<br/>Ardmore, PA 19003</div><div class=\"_2tApa\" data-tid=\"beds-baths\">1–3 Beds • 1–3 Baths</div></div><div class=\"_251R_ _3M7vu\" data-tid=\"property-info\"><div class=\"_2P6xE\" data-tid=\"property-unitAvailText\">6 Units Available</div><div class=\"_1bY_F\" data-tid=\"property-recentlyUpdated\">Updated 1 day ago</div></div></div><div class=\"wy0Jz _1fGq_\" data-nopdplink=\"true\"><button class=\"lJ7xk _3Pnn2\" data-tag_item=\"check_availability_button\" data-tid=\"contact-property-button\" type=\"button\"><div class=\"_20dLw\" data-tid=\"text\">Contact Property</div></button><div class=\"_35UBu\" data-tag_item=\"phone_number_link\" data-tag_selection=\"phone\" data-tid=\"phone\">(484) 297-7811</div></div></div>,\n",
       " <div class=\"_3PdAH _1EbNE\"><div class=\"_3RRl_ _2Hrxl\"><div class=\"_1S95n _1484Q\"><div class=\"_3e12V\" data-tid=\"price\">$955+</div><div class=\"_3NPAZ oeSCu\" data-tid=\"rating\"><div class=\"_2hqOW\"><div class=\"_1J1DR\" style=\"width:70%\"></div></div><div class=\"_2ti3Q hnGZw _3XmXI _2z-p_ _2LCM5 _3NBE2 K_C0q\">(25)</div></div></div><a class=\"_3kMwn ByXwK\" data-tag_item=\"property_title\" data-tid=\"property-title\" href=\"/pennsylvania/philadelphia-apartments/greene-manor-4-495065\" rel=\"noreferrer noopener\" target=\"_blank\">Greene Manor</a><div class=\"T9KnS\"><div class=\"_1dhrl _5v7PZ\" data-tid=\"listing-info-address\">259 West Johnson Street<br/>Philadelphia, PA 19144</div><div class=\"_2tApa\" data-tid=\"beds-baths\">Studio–3 Beds • 1–2 Baths</div></div><div class=\"_251R_ _3M7vu\" data-tid=\"property-info\"><div class=\"_2P6xE\" data-tid=\"property-unitAvailText\">5 Units Available</div><div class=\"_1bY_F\" data-tid=\"property-recentlyUpdated\">Updated 7 hours ago</div></div></div><div class=\"wy0Jz _1fGq_\" data-nopdplink=\"true\"><button class=\"lJ7xk _3Pnn2\" data-tag_item=\"check_availability_button\" data-tid=\"contact-property-button\" type=\"button\"><div class=\"_20dLw\" data-tid=\"text\">Contact Property</div></button><div class=\"_35UBu\" data-tag_item=\"phone_number_link\" data-tag_selection=\"phone\" data-tid=\"phone\">(267) 433-4244</div></div></div>,\n",
       " <div class=\"_3PdAH _1EbNE\"><div class=\"_3RRl_ _2Hrxl\"><div class=\"_1S95n _1484Q\"><div class=\"_3e12V\" data-tid=\"price\">$1,400+</div></div><a class=\"_3kMwn ByXwK\" data-tag_item=\"property_title\" data-tid=\"property-title\" href=\"/pennsylvania/wynnewood-apartments/the-palmer-4-100049918\" rel=\"noreferrer noopener\" target=\"_blank\">The Palmer</a><div class=\"T9KnS\"><div class=\"_1dhrl _5v7PZ\" data-tid=\"listing-info-address\">18 E. Lancaster Avenue<br/>Wynnewood, PA 19096</div><div class=\"_2tApa\" data-tid=\"beds-baths\">1–3 Beds • 1–3 Baths</div></div><div class=\"_251R_ _3M7vu\" data-tid=\"property-info\"><div class=\"_2P6xE\" data-tid=\"property-unitAvailText\">10+ Units Available</div><div class=\"_1bY_F\" data-tid=\"property-recentlyUpdated\">Updated 21 hours ago</div></div></div><div class=\"wy0Jz _1fGq_\" data-nopdplink=\"true\"><button class=\"lJ7xk _3Pnn2\" data-tag_item=\"check_availability_button\" data-tid=\"contact-property-button\" type=\"button\"><div class=\"_20dLw\" data-tid=\"text\">Contact Property</div></button><div class=\"_35UBu\" data-tag_item=\"phone_number_link\" data-tag_selection=\"phone\" data-tid=\"phone\">(610) 230-3945</div></div></div>,\n",
       " <div class=\"_3PdAH _1EbNE\"><div class=\"_3RRl_ _2Hrxl\"><div class=\"_1S95n _1484Q\"><div class=\"_3e12V\" data-tid=\"price\">$1,889+</div><div class=\"_3NPAZ oeSCu\" data-tid=\"rating\"><div class=\"_2hqOW\"><div class=\"_1J1DR\" style=\"width:80%\"></div></div><div class=\"_2ti3Q hnGZw _3XmXI _2z-p_ _2LCM5 _3NBE2 K_C0q\">(17)</div></div></div><a class=\"_3kMwn ByXwK\" data-tag_item=\"property_title\" data-tid=\"property-title\" href=\"/pennsylvania/philadelphia-apartments/korman-residential-at-3737-chestnut-4-100050931\" rel=\"noreferrer noopener\" target=\"_blank\">Korman Residential at 3737 Chestnut</a><div class=\"T9KnS\"><div class=\"_1dhrl _5v7PZ\" data-tid=\"listing-info-address\">3737 Chestnut St<br/>Philadelphia, PA 19104</div><div class=\"_2tApa\" data-tid=\"beds-baths\">Studio–2 Beds • 1–2 Baths</div></div><div class=\"_251R_ _3M7vu\" data-tid=\"property-info\"><div class=\"_2P6xE\" data-tid=\"property-unitAvailText\">10+ Units Available</div><div class=\"_1bY_F\" data-tid=\"property-recentlyUpdated\">Updated 8 hours ago</div></div></div><div class=\"wy0Jz _1fGq_\" data-nopdplink=\"true\"><button class=\"lJ7xk _3Pnn2\" data-tag_item=\"check_availability_button\" data-tid=\"contact-property-button\" type=\"button\"><div class=\"_20dLw\" data-tid=\"text\">Contact Property</div></button><div class=\"_35UBu\" data-tag_item=\"phone_number_link\" data-tag_selection=\"phone\" data-tid=\"phone\">(267) 499-4446</div></div></div>,\n",
       " <div class=\"_3PdAH _1EbNE\"><div class=\"_3RRl_ _2Hrxl\"><div class=\"_1S95n _1484Q\"><div class=\"_3e12V\" data-tid=\"price\">$2,150+</div></div><a class=\"_3kMwn ByXwK\" data-tag_item=\"property_title\" data-tid=\"property-title\" href=\"/pennsylvania/philadelphia-apartments/the-harper-4-100069800\" rel=\"noreferrer noopener\" target=\"_blank\">The Harper</a><div class=\"T9KnS\"><div class=\"_1dhrl _5v7PZ\" data-tid=\"listing-info-address\">1900 Chestnut St<br/>Philadelphia, PA 19103</div><div class=\"_2tApa\" data-tid=\"beds-baths\">Studio–3 Beds • 1–3 Baths</div></div><div class=\"_251R_ _3M7vu\" data-tid=\"property-info\"></div></div><div class=\"wy0Jz _1fGq_\" data-nopdplink=\"true\"><button class=\"lJ7xk _3Pnn2\" data-tag_item=\"check_availability_button\" data-tid=\"contact-property-button\" type=\"button\"><div class=\"_20dLw\" data-tid=\"text\">Contact Property</div></button><div class=\"_35UBu\" data-tag_item=\"phone_number_link\" data-tag_selection=\"phone\" data-tid=\"phone\">(267) 800-7724</div></div></div>,\n",
       " <div class=\"_3PdAH _1EbNE\"><div class=\"_3RRl_ _2Hrxl\"><div class=\"_1S95n _1484Q\"><div class=\"_3e12V\" data-tid=\"price\">$971+</div><div class=\"_3NPAZ oeSCu\" data-tid=\"rating\"><div class=\"_2hqOW\"><div class=\"_1J1DR\" style=\"width:80%\"></div></div><div class=\"_2ti3Q hnGZw _3XmXI _2z-p_ _2LCM5 _3NBE2 K_C0q\">(1973)</div></div></div><a class=\"_3kMwn ByXwK\" data-tag_item=\"property_title\" data-tid=\"property-title\" href=\"/pennsylvania/philadelphia-apartments/chestnut-hill-village-apartments-4-432916\" rel=\"noreferrer noopener\" target=\"_blank\">Chestnut Hill Village Apartments</a><div class=\"T9KnS\"><div class=\"_1dhrl _5v7PZ\" data-tid=\"listing-info-address\">7715 Crittenden St<br/>Philadelphia, PA 19118</div><div class=\"_2tApa\" data-tid=\"beds-baths\">1–3 Beds • 1–2 Baths</div></div><div class=\"_251R_ _3M7vu\" data-tid=\"property-info\"><div class=\"_2P6xE\" data-tid=\"property-unitAvailText\">10+ Units Available</div><div class=\"_1bY_F\" data-tid=\"property-recentlyUpdated\">Updated 11 hours ago</div></div></div><div class=\"wy0Jz _1fGq_\" data-nopdplink=\"true\"><button class=\"lJ7xk _3Pnn2\" data-tag_item=\"check_availability_button\" data-tid=\"contact-property-button\" type=\"button\"><div class=\"_20dLw\" data-tid=\"text\">Contact Property</div></button><div class=\"_35UBu\" data-tag_item=\"phone_number_link\" data-tag_selection=\"phone\" data-tid=\"phone\">(215) 987-6564</div></div></div>,\n",
       " <div class=\"_3PdAH _1EbNE\"><div class=\"_3RRl_ _2Hrxl\"><div class=\"_1S95n _1484Q\"><div class=\"_3e12V\" data-tid=\"price\">$1,300+</div></div><a class=\"_3kMwn ByXwK\" data-tag_item=\"property_title\" data-tid=\"property-title\" href=\"/pennsylvania/elkins-park-apartments/brookview-elkins-park-4-465963\" rel=\"noreferrer noopener\" target=\"_blank\">Brookview Elkins Park</a><div class=\"T9KnS\"><div class=\"_1dhrl _5v7PZ\" data-tid=\"listing-info-address\">1235 Ashbourne Road<br/>Elkins Park, PA 19027</div><div class=\"_2tApa\" data-tid=\"beds-baths\">1–3 Beds • 1–2 Baths</div></div><div class=\"_251R_ _3M7vu\" data-tid=\"property-info\"><div class=\"_2P6xE\" data-tid=\"property-unitAvailText\">5 Units Available</div><div class=\"_1bY_F\" data-tid=\"property-recentlyUpdated\">Updated 18 hours ago</div></div></div><div class=\"wy0Jz _1fGq_\" data-nopdplink=\"true\"><button class=\"lJ7xk _3Pnn2\" data-tag_item=\"check_availability_button\" data-tid=\"contact-property-button\" type=\"button\"><div class=\"_20dLw\" data-tid=\"text\">Contact Property</div></button><div class=\"_35UBu\" data-tag_item=\"phone_number_link\" data-tag_selection=\"phone\" data-tid=\"phone\">(215) 621-8793</div></div></div>,\n",
       " <div class=\"_3PdAH _1EbNE\"><div class=\"_3RRl_ _2Hrxl\"><div class=\"_1S95n _1484Q\"><div class=\"_3e12V\" data-tid=\"price\">$1,193+</div></div><a class=\"_3kMwn ByXwK\" data-tag_item=\"property_title\" data-tid=\"property-title\" href=\"/pennsylvania/philadelphia-apartments/the-point-at-city-line-4-100011628\" rel=\"noreferrer noopener\" target=\"_blank\">The Point at City Line</a><div class=\"T9KnS\"><div class=\"_1dhrl _5v7PZ\" data-tid=\"listing-info-address\">6100 City Avenue<br/>Philadelphia, PA 19131</div><div class=\"_2tApa\" data-tid=\"beds-baths\">1–3 Beds • 1–2 Baths</div></div><div class=\"_251R_ _3M7vu\" data-tid=\"property-info\"><div class=\"_2P6xE\" data-tid=\"property-unitAvailText\">6 Units Available</div><div class=\"_1bY_F\" data-tid=\"property-recentlyUpdated\">Updated 7 hours ago</div></div></div><div class=\"wy0Jz _1fGq_\" data-nopdplink=\"true\"><button class=\"lJ7xk _3Pnn2\" data-tag_item=\"check_availability_button\" data-tid=\"contact-property-button\" type=\"button\"><div class=\"_20dLw\" data-tid=\"text\">Contact Property</div></button><div class=\"_35UBu\" data-tag_item=\"phone_number_link\" data-tag_selection=\"phone\" data-tid=\"phone\">(267) 592-3696</div></div></div>,\n",
       " <div class=\"_3PdAH _1EbNE\"><div class=\"_3RRl_ _2Hrxl\"><div class=\"_1S95n _1484Q\"><div class=\"_3e12V\" data-tid=\"price\">$860+</div><div class=\"_3NPAZ oeSCu\" data-tid=\"rating\"><div class=\"_2hqOW\"><div class=\"_1J1DR\" style=\"width:80%\"></div></div><div class=\"_2ti3Q hnGZw _3XmXI _2z-p_ _2LCM5 _3NBE2 K_C0q\">(1)</div></div></div><a class=\"_3kMwn ByXwK\" data-tag_item=\"property_title\" data-tid=\"property-title\" href=\"/pennsylvania/philadelphia-apartments/yono-4-487490\" rel=\"noreferrer noopener\" target=\"_blank\">YoNo</a><div class=\"T9KnS\"><div class=\"_1dhrl _5v7PZ\" data-tid=\"listing-info-address\">1320 Somerville Ave<br/>Philadelphia, PA 19141</div><div class=\"_2tApa\" data-tid=\"beds-baths\">Studio–1 Bed • 1 Bath</div></div><div class=\"_251R_ _3M7vu\" data-tid=\"property-info\"><div class=\"_2P6xE\" data-tid=\"property-unitAvailText\">2 Units Available</div><div class=\"_1bY_F\" data-tid=\"property-recentlyUpdated\">Updated 23 hours ago</div></div></div><div class=\"wy0Jz _1fGq_\" data-nopdplink=\"true\"><button class=\"lJ7xk _3Pnn2\" data-tag_item=\"check_availability_button\" data-tid=\"contact-property-button\" type=\"button\"><div class=\"_20dLw\" data-tid=\"text\">Contact Property</div></button><div class=\"_35UBu\" data-tag_item=\"phone_number_link\" data-tag_selection=\"phone\" data-tid=\"phone\">(267) 244-7034</div></div></div>,\n",
       " <div class=\"_3PdAH _1EbNE\"><div class=\"_3RRl_ _2Hrxl\"><div class=\"_1S95n _1484Q\"><div class=\"_3e12V\" data-tid=\"price\">$1,849+</div></div><a class=\"_3kMwn ByXwK\" data-tag_item=\"property_title\" data-tid=\"property-title\" href=\"/pennsylvania/philadelphia-apartments/the-st-james-4-100052658\" rel=\"noreferrer noopener\" target=\"_blank\">The St. James</a><div class=\"T9KnS\"><div class=\"_1dhrl _5v7PZ\" data-tid=\"listing-info-address\">200 W Washington Square<br/>Philadelphia, PA 19106</div><div class=\"_2tApa\" data-tid=\"beds-baths\">Studio–3 Beds • 1–3 Baths</div></div><div class=\"_251R_ _3M7vu\" data-tid=\"property-info\"><div class=\"_2P6xE\" data-tid=\"property-unitAvailText\">1 Unit Available</div><div class=\"_1bY_F\" data-tid=\"property-recentlyUpdated\">Updated 5 hours ago</div></div></div><div class=\"wy0Jz _1fGq_\" data-nopdplink=\"true\"><button class=\"lJ7xk _3Pnn2\" data-tag_item=\"check_availability_button\" data-tid=\"contact-property-button\" type=\"button\"><div class=\"_20dLw\" data-tid=\"text\">Contact Property</div></button><div class=\"_35UBu\" data-tag_item=\"phone_number_link\" data-tag_selection=\"phone\" data-tid=\"phone\">(267) 422-1255</div></div></div>,\n",
       " <div class=\"_3PdAH _1EbNE\"><div class=\"_3RRl_ _2Hrxl\"><div class=\"_1S95n _1484Q\"><div class=\"_3e12V\" data-tid=\"price\">$1,314</div></div><a class=\"_3kMwn ByXwK\" data-tag_item=\"property_title\" data-tid=\"property-title\" href=\"/pennsylvania/philadelphia-apartments/furnished-studio-philadelphia-airport-bartram-ave-4-100032282\" rel=\"noreferrer noopener\" target=\"_blank\">Furnished Studio - Philadelphia - Airport - Bartram Ave.</a><div class=\"T9KnS\"><div class=\"_1dhrl _5v7PZ\" data-tid=\"listing-info-address\">8880 Bartram Avenue<br/>Philadelphia, PA 19153</div><div class=\"_2tApa\" data-tid=\"beds-baths\">Studio • 1 Bath</div></div><div class=\"_251R_ _3M7vu\" data-tid=\"property-info\"></div></div><div class=\"wy0Jz _1fGq_\" data-nopdplink=\"true\"><button class=\"lJ7xk _3Pnn2\" data-tag_item=\"check_availability_button\" data-tid=\"contact-property-button\" type=\"button\"><div class=\"_20dLw\" data-tid=\"text\">Contact Property</div></button><div class=\"_35UBu\" data-tag_item=\"phone_number_link\" data-tag_selection=\"phone\" data-tid=\"phone\">(267) 297-3008</div></div></div>,\n",
       " <div class=\"_3PdAH _1EbNE\"><div class=\"_3RRl_ _2Hrxl\"><div class=\"_1S95n _1484Q\"><div class=\"_3e12V\" data-tid=\"price\">$1,195+</div><div class=\"_3NPAZ oeSCu\" data-tid=\"rating\"><div class=\"_2hqOW\"><div class=\"_1J1DR\" style=\"width:80%\"></div></div><div class=\"_2ti3Q hnGZw _3XmXI _2z-p_ _2LCM5 _3NBE2 K_C0q\">(17)</div></div></div><a class=\"_3kMwn ByXwK\" data-tag_item=\"property_title\" data-tid=\"property-title\" href=\"/pennsylvania/philadelphia-apartments/the-view-at-manayunk-apartments-4-100071759\" rel=\"noreferrer noopener\" target=\"_blank\">The View at Manayunk Apartments</a><div class=\"T9KnS\"><div class=\"_1dhrl _5v7PZ\" data-tid=\"listing-info-address\">4136 Mitchell Street<br/>Philadelphia, PA 19128</div><div class=\"_2tApa\" data-tid=\"beds-baths\">Studio–2 Beds • 1–2 Baths</div></div><div class=\"_251R_ _3M7vu\" data-tid=\"property-info\"><div class=\"_2P6xE\" data-tid=\"property-unitAvailText\">10+ Units Available</div><div class=\"_1bY_F\" data-tid=\"property-recentlyUpdated\">Updated 3 days ago</div></div></div><div class=\"wy0Jz _1fGq_\" data-nopdplink=\"true\"><button class=\"lJ7xk _3Pnn2\" data-tag_item=\"check_availability_button\" data-tid=\"contact-property-button\" type=\"button\"><div class=\"_20dLw\" data-tid=\"text\">Contact Property</div></button><div class=\"_35UBu\" data-tag_item=\"phone_number_link\" data-tag_selection=\"phone\" data-tid=\"phone\">(484) 801-0780</div></div></div>,\n",
       " <div class=\"_3PdAH _1EbNE\"><div class=\"_3RRl_ _2Hrxl\"><div class=\"_1S95n _1484Q\"><div class=\"_3e12V\" data-tid=\"price\">$1,335+</div></div><a class=\"_3kMwn ByXwK\" data-tag_item=\"property_title\" data-tid=\"property-title\" href=\"/pennsylvania/philadelphia-apartments/dwell-2nd-street-4-100073758\" rel=\"noreferrer noopener\" target=\"_blank\">Dwell 2nd Street</a><div class=\"T9KnS\"><div class=\"_1dhrl _5v7PZ\" data-tid=\"listing-info-address\">1300 N 2nd St<br/>Philadelphia, PA 19122</div><div class=\"_2tApa\" data-tid=\"beds-baths\">Studio–2 Beds • 1–2 Baths</div></div><div class=\"_251R_ _3M7vu\" data-tid=\"property-info\"><div class=\"_1bY_F\" data-tid=\"property-recentlyUpdated\">Updated 5 hours ago</div></div></div><div class=\"wy0Jz _1fGq_\" data-nopdplink=\"true\"><button class=\"lJ7xk _3Pnn2\" data-tag_item=\"check_availability_button\" data-tid=\"contact-property-button\" type=\"button\"><div class=\"_20dLw\" data-tid=\"text\">Contact Property</div></button><div class=\"_35UBu\" data-tag_item=\"phone_number_link\" data-tag_selection=\"phone\" data-tid=\"phone\">(267) 570-3542</div></div></div>,\n",
       " <div class=\"_3PdAH _1EbNE\"><div class=\"_3RRl_ _2Hrxl\"><div class=\"_1S95n _1484Q\"><div class=\"_3e12V\" data-tid=\"price\">$1,050+</div><div class=\"_3NPAZ oeSCu\" data-tid=\"rating\"><div class=\"_2hqOW\"><div class=\"_1J1DR\" style=\"width:80%\"></div></div><div class=\"_2ti3Q hnGZw _3XmXI _2z-p_ _2LCM5 _3NBE2 K_C0q\">(12)</div></div></div><a class=\"_3kMwn ByXwK\" data-tag_item=\"property_title\" data-tid=\"property-title\" href=\"/pennsylvania/philadelphia-apartments/pelham-park-4-454271\" rel=\"noreferrer noopener\" target=\"_blank\">Pelham Park</a><div class=\"T9KnS\"><div class=\"_1dhrl _5v7PZ\" data-tid=\"listing-info-address\">229 West Upsal Street<br/>Philadelphia, PA 19119</div><div class=\"_2tApa\" data-tid=\"beds-baths\">1–2 Beds • 1–2 Baths</div></div><div class=\"_251R_ _3M7vu\" data-tid=\"property-info\"></div></div><div class=\"wy0Jz _1fGq_\" data-nopdplink=\"true\"><button class=\"lJ7xk _3Pnn2\" data-tag_item=\"check_availability_button\" data-tid=\"contact-property-button\" type=\"button\"><div class=\"_20dLw\" data-tid=\"text\">Contact Property</div></button><div class=\"_35UBu\" data-tag_item=\"phone_number_link\" data-tag_selection=\"phone\" data-tid=\"phone\">(267) 443-1941</div></div></div>,\n",
       " <div class=\"_3PdAH _1EbNE\"><div class=\"_3RRl_ _2Hrxl\"><div class=\"_1S95n _1484Q\"><div class=\"_3e12V\" data-tid=\"price\">$1,581+</div></div><a class=\"_3kMwn ByXwK\" data-tag_item=\"property_title\" data-tid=\"property-title\" href=\"/pennsylvania/philadelphia-apartments/hanover-north-broad-4-100062851\" rel=\"noreferrer noopener\" target=\"_blank\">Hanover North Broad</a><div class=\"T9KnS\"><div class=\"_1dhrl _5v7PZ\" data-tid=\"listing-info-address\">339 N Broad St<br/>Philadelphia, PA 19107</div><div class=\"_2tApa\" data-tid=\"beds-baths\">Studio–3 Beds • 1–2 Baths</div></div><div class=\"_251R_ _3M7vu\" data-tid=\"property-info\"><div class=\"_2P6xE\" data-tid=\"property-unitAvailText\">10+ Units Available</div><div class=\"_1bY_F\" data-tid=\"property-recentlyUpdated\">Updated 9 hours ago</div></div></div><div class=\"wy0Jz _1fGq_\" data-nopdplink=\"true\"><button class=\"lJ7xk _3Pnn2\" data-tag_item=\"check_availability_button\" data-tid=\"contact-property-button\" type=\"button\"><div class=\"_20dLw\" data-tid=\"text\">Contact Property</div></button><div class=\"_35UBu\" data-tag_item=\"phone_number_link\" data-tag_selection=\"phone\" data-tid=\"phone\">(856) 302-0625</div></div></div>]"
      ]
     },
     "execution_count": 89,
     "metadata": {},
     "output_type": "execute_result"
    }
   ],
   "source": [
    "apts = soup.find_all('div', class_='_3PdAH _1EbNE')\n",
    "apts"
   ]
  },
  {
   "cell_type": "code",
   "execution_count": 92,
   "metadata": {},
   "outputs": [
    {
     "data": {
      "text/plain": [
       "<div class=\"_3RRl_ _2Hrxl\"><div class=\"_1S95n _1484Q\"><div class=\"_3e12V\" data-tid=\"price\">$995+</div><div class=\"_3NPAZ oeSCu\" data-tid=\"rating\"><div class=\"_2hqOW\"><div class=\"_1J1DR\" style=\"width:100%\"></div></div><div class=\"_2ti3Q hnGZw _3XmXI _2z-p_ _2LCM5 _3NBE2 K_C0q\">(2)</div></div></div><a class=\"_3kMwn ByXwK\" data-tag_item=\"property_title\" data-tid=\"property-title\" href=\"/pennsylvania/elkins-park-apartments/the-new-lynnewood-gardens-4-446793\" rel=\"noreferrer noopener\" target=\"_blank\">The New Lynnewood Gardens</a><div class=\"T9KnS\"><div class=\"_1dhrl _5v7PZ\" data-tid=\"listing-info-address\">1950 Ashbourne Rd<br/>Elkins Park, PA 19027</div><div class=\"_2tApa\" data-tid=\"beds-baths\">1–3 Beds • 1 Bath</div></div><div class=\"_251R_ _3M7vu\" data-tid=\"property-info\"><div class=\"_2P6xE\" data-tid=\"property-unitAvailText\">10+ Units Available</div><div class=\"_1bY_F\" data-tid=\"property-recentlyUpdated\">Updated 1 day ago</div></div></div>"
      ]
     },
     "execution_count": 92,
     "metadata": {},
     "output_type": "execute_result"
    }
   ],
   "source": [
    "apt0 = apts[0].find('div', class_='_3RRl_ _2Hrxl')\n",
    "apt0"
   ]
  },
  {
   "cell_type": "code",
   "execution_count": 93,
   "metadata": {},
   "outputs": [
    {
     "data": {
      "text/plain": [
       "<a class=\"_3kMwn ByXwK\" data-tag_item=\"property_title\" data-tid=\"property-title\" href=\"/pennsylvania/elkins-park-apartments/the-new-lynnewood-gardens-4-446793\" rel=\"noreferrer noopener\" target=\"_blank\">The New Lynnewood Gardens</a>"
      ]
     },
     "execution_count": 93,
     "metadata": {},
     "output_type": "execute_result"
    }
   ],
   "source": [
    "apt0_link = apt0.find('a', class_='_3kMwn ByXwK')\n",
    "apt0_link"
   ]
  },
  {
   "cell_type": "code",
   "execution_count": 70,
   "metadata": {},
   "outputs": [
    {
     "data": {
      "text/plain": [
       "'/pennsylvania/elkins-park-apartments/the-new-lynnewood-gardens-4-446793'"
      ]
     },
     "execution_count": 70,
     "metadata": {},
     "output_type": "execute_result"
    }
   ],
   "source": [
    "apt0_link['href']"
   ]
  },
  {
   "cell_type": "code",
   "execution_count": 106,
   "metadata": {},
   "outputs": [],
   "source": [
    "def get_page_urls(city, state, pg_num):\n",
    "    pg_url = get_page_url(city, state, pg_num)\n",
    "    response = requests.get(pg_url)\n",
    "    results = response.content\n",
    "    apt_urls = []\n",
    "    if not response.status_code == 404:\n",
    "        soup = BeautifulSoup(results, 'lxml')\n",
    "        apts = soup.find_all('div', class_='_3PdAH _1EbNE')\n",
    "        for apt in apts:\n",
    "            apt_sub = apt.find('div', class_='_3RRl_ _2Hrxl')\n",
    "            apt_link = apt_sub.find('a', class_='_3kMwn ByXwK')\n",
    "            url = apt_link['href']\n",
    "            apt_urls.append(url)\n",
    "    \n",
    "    return apt_urls"
   ]
  },
  {
   "cell_type": "code",
   "execution_count": 107,
   "metadata": {},
   "outputs": [
    {
     "data": {
      "text/plain": [
       "['/pennsylvania/elkins-park-apartments/the-new-lynnewood-gardens-4-446793',\n",
       " '/pennsylvania/philadelphia-apartments/1213-walnut-4-100064785',\n",
       " '/pennsylvania/philadelphia-apartments/the-hamilton-4-100068395',\n",
       " '/pennsylvania/philadelphia-apartments/1500-locust-4-451422',\n",
       " '/pennsylvania/philadelphia-apartments/vue32-4-100063542',\n",
       " '/pennsylvania/philadelphia-apartments/park-towne-place-premier-apartment-homes-4-100051136',\n",
       " '/pennsylvania/philadelphia-apartments/the-alexander-4-100066013',\n",
       " '/pennsylvania/philadelphia-apartments/northxnorthwest-north-tower-4-451321',\n",
       " '/pennsylvania/philadelphia-apartments/the-granary-4-54031773',\n",
       " '/pennsylvania/philadelphia-apartments/aq-rittenhouse-4-100047881',\n",
       " '/pennsylvania/ardmore-apartments/the-square-4-100057998',\n",
       " '/pennsylvania/philadelphia-apartments/arrive-university-city-4-100051943',\n",
       " '/pennsylvania/philadelphia-apartments/carlton-park-4-511503',\n",
       " '/pennsylvania/philadelphia-apartments/the-collins-at-midtown-village-4-100059314',\n",
       " '/pennsylvania/philadelphia-apartments/the-girard-4-100071298',\n",
       " '/pennsylvania/ardmore-apartments/one-ardmore-4-100070924',\n",
       " '/pennsylvania/philadelphia-apartments/greene-manor-4-495065',\n",
       " '/pennsylvania/wynnewood-apartments/the-palmer-4-100049918',\n",
       " '/pennsylvania/philadelphia-apartments/chestnut-hill-village-apartments-4-432916',\n",
       " '/pennsylvania/philadelphia-apartments/korman-residential-at-3737-chestnut-4-100050931',\n",
       " '/pennsylvania/philadelphia-apartments/the-harper-4-100069800',\n",
       " '/pennsylvania/elkins-park-apartments/brookview-elkins-park-4-465963',\n",
       " '/pennsylvania/philadelphia-apartments/the-point-at-city-line-4-100011628',\n",
       " '/pennsylvania/philadelphia-apartments/yono-4-487490',\n",
       " '/pennsylvania/philadelphia-apartments/the-st-james-4-100052658',\n",
       " '/pennsylvania/philadelphia-apartments/furnished-studio-philadelphia-airport-bartram-ave-4-100032282',\n",
       " '/pennsylvania/philadelphia-apartments/the-view-at-manayunk-apartments-4-100071759',\n",
       " '/pennsylvania/philadelphia-apartments/dwell-2nd-street-4-100073758',\n",
       " '/pennsylvania/philadelphia-apartments/pelham-park-4-454271',\n",
       " '/pennsylvania/philadelphia-apartments/hanover-north-broad-4-100062851']"
      ]
     },
     "execution_count": 107,
     "metadata": {},
     "output_type": "execute_result"
    }
   ],
   "source": [
    "get_page_urls('philadelphia', 'pennsylvania', 1)"
   ]
  },
  {
   "cell_type": "code",
   "execution_count": 105,
   "metadata": {},
   "outputs": [
    {
     "data": {
      "text/plain": [
       "'2699'"
      ]
     },
     "execution_count": 105,
     "metadata": {},
     "output_type": "execute_result"
    }
   ],
   "source": [
    "pg_tag = soup.find('span', class_='_3YJue')\n",
    "pg_tag.find('span', attrs={'data-tid':'pagination-total'}).get_text()"
   ]
  },
  {
   "cell_type": "code",
   "execution_count": 109,
   "metadata": {},
   "outputs": [
    {
     "data": {
      "text/plain": [
       "11.0"
      ]
     },
     "execution_count": 109,
     "metadata": {},
     "output_type": "execute_result"
    }
   ],
   "source": [
    "np.ceil(10.2)"
   ]
  },
  {
   "cell_type": "code",
   "execution_count": 128,
   "metadata": {},
   "outputs": [],
   "source": [
    "def get_apt_urls(city, state, verbose=False):\n",
    "    pg_url = get_page_url(city, state, 1)\n",
    "    response = requests.get(pg_url)\n",
    "    results = response.content\n",
    "    page_num = 0\n",
    "    apt_urls = []\n",
    "    \n",
    "    if not response.status_code == 404:\n",
    "        soup = BeautifulSoup(results, 'lxml')\n",
    "        apts_num_tag = soup.find('span', class_='_3YJue')\n",
    "        apts_num =  apts_num_tag.find('span', \n",
    "                                      attrs={'data-tid':'pagination-total'})\\\n",
    "                                .get_text()\n",
    "        apts_num = int(apts_num)\n",
    "        pages_num = int(np.ceil(apts_num/30))\n",
    "        if verbose:\n",
    "            print(f'total number of apartments in {city}, {state} is {apts_num}')\n",
    "            print(f'total number of pages to be scraped is {pages_num}')\n",
    "        \n",
    "    for pg_num in range(pages_num):\n",
    "        apt_urls += get_page_urls(city, state, pg_num)\n",
    "        if verbose:\n",
    "            print(f'page {pg_num} done')\n",
    "    \n",
    "    return apt_urls"
   ]
  },
  {
   "cell_type": "code",
   "execution_count": 129,
   "metadata": {
    "scrolled": true
   },
   "outputs": [
    {
     "name": "stdout",
     "output_type": "stream",
     "text": [
      "total number of apartments in philadelphia, pennsylvania is 2699\n",
      "total number of pages to be scraped is 90\n",
      "page 0 done\n",
      "page 1 done\n",
      "page 2 done\n",
      "page 3 done\n",
      "page 4 done\n",
      "page 5 done\n",
      "page 6 done\n",
      "page 7 done\n",
      "page 8 done\n",
      "page 9 done\n",
      "page 10 done\n",
      "page 11 done\n",
      "page 12 done\n",
      "page 13 done\n",
      "page 14 done\n",
      "page 15 done\n",
      "page 16 done\n",
      "page 17 done\n",
      "page 18 done\n",
      "page 19 done\n",
      "page 20 done\n",
      "page 21 done\n",
      "page 22 done\n",
      "page 23 done\n",
      "page 24 done\n",
      "page 25 done\n",
      "page 26 done\n",
      "page 27 done\n",
      "page 28 done\n",
      "page 29 done\n",
      "page 30 done\n",
      "page 31 done\n",
      "page 32 done\n",
      "page 33 done\n",
      "page 34 done\n",
      "page 35 done\n",
      "page 36 done\n",
      "page 37 done\n",
      "page 38 done\n",
      "page 39 done\n",
      "page 40 done\n",
      "page 41 done\n",
      "page 42 done\n",
      "page 43 done\n",
      "page 44 done\n",
      "page 45 done\n",
      "page 46 done\n",
      "page 47 done\n",
      "page 48 done\n",
      "page 49 done\n",
      "page 50 done\n",
      "page 51 done\n",
      "page 52 done\n",
      "page 53 done\n",
      "page 54 done\n",
      "page 55 done\n",
      "page 56 done\n",
      "page 57 done\n",
      "page 58 done\n",
      "page 59 done\n",
      "page 60 done\n",
      "page 61 done\n",
      "page 62 done\n",
      "page 63 done\n",
      "page 64 done\n",
      "page 65 done\n",
      "page 66 done\n",
      "page 67 done\n",
      "page 68 done\n",
      "page 69 done\n",
      "page 70 done\n",
      "page 71 done\n",
      "page 72 done\n",
      "page 73 done\n",
      "page 74 done\n",
      "page 75 done\n",
      "page 76 done\n",
      "page 77 done\n",
      "page 78 done\n",
      "page 79 done\n",
      "page 80 done\n",
      "page 81 done\n",
      "page 82 done\n",
      "page 83 done\n",
      "page 84 done\n",
      "page 85 done\n",
      "page 86 done\n",
      "page 87 done\n",
      "page 88 done\n",
      "page 89 done\n"
     ]
    }
   ],
   "source": [
    "apt_urls = get_apt_urls('philadelphia', 'pennsylvania', verbose=True)"
   ]
  },
  {
   "cell_type": "code",
   "execution_count": 146,
   "metadata": {},
   "outputs": [
    {
     "data": {
      "text/plain": [
       "'/pennsylvania/elkins-park-apartments/the-new-lynnewood-gardens-4-446793'"
      ]
     },
     "execution_count": 146,
     "metadata": {},
     "output_type": "execute_result"
    }
   ],
   "source": [
    "apt_urls[0]"
   ]
  },
  {
   "cell_type": "code",
   "execution_count": null,
   "metadata": {},
   "outputs": [],
   "source": [
    "def get_apt_info(apt_url):\n",
    "    "
   ]
  }
 ],
 "metadata": {
  "kernelspec": {
   "display_name": "Python 3",
   "language": "python",
   "name": "python3"
  },
  "language_info": {
   "codemirror_mode": {
    "name": "ipython",
    "version": 3
   },
   "file_extension": ".py",
   "mimetype": "text/x-python",
   "name": "python",
   "nbconvert_exporter": "python",
   "pygments_lexer": "ipython3",
   "version": "3.7.3"
  }
 },
 "nbformat": 4,
 "nbformat_minor": 2
}
