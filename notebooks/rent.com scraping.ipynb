{
 "cells": [
  {
   "cell_type": "code",
   "execution_count": 283,
   "metadata": {},
   "outputs": [],
   "source": [
    "import pandas as pd\n",
    "from bs4 import BeautifulSoup\n",
    "import requests\n",
    "import numpy as np\n",
    "import re"
   ]
  },
  {
   "cell_type": "code",
   "execution_count": 344,
   "metadata": {},
   "outputs": [],
   "source": [
    "def _get_page_url(city, state, page_num):\n",
    "    city = city.lower().replace(' ', '-')\n",
    "    state = state.lower().replace(' ', '-')\n",
    "    page = f'https://www.rent.com/{state}/{city}/apartments_condos_houses_townhouses?page={page_num}'\n",
    "    return page"
   ]
  },
  {
   "cell_type": "code",
   "execution_count": 345,
   "metadata": {},
   "outputs": [],
   "source": [
    "def _get_apt_urls_per_page(city, state, pg_num):\n",
    "    pg_url = _get_page_url(city, state, pg_num)\n",
    "    response = requests.get(pg_url)\n",
    "    results = response.content\n",
    "    apt_urls = []\n",
    "    if not response.status_code == 404:\n",
    "        soup = BeautifulSoup(results, 'lxml')\n",
    "        apts = soup.find_all('div', class_='_3PdAH _1EbNE')\n",
    "        for apt in apts:\n",
    "            apt_sub = apt.find('div', class_='_3RRl_ _2Hrxl')\n",
    "            apt_link = apt_sub.find('a', class_='_3kMwn ByXwK')\n",
    "            url = apt_link['href']\n",
    "            apt_urls.append(url)\n",
    "    \n",
    "    return apt_urls"
   ]
  },
  {
   "cell_type": "code",
   "execution_count": 346,
   "metadata": {},
   "outputs": [],
   "source": [
    "def get_apt_urls(city, state, verbose=False):\n",
    "    pg_url = _get_page_url(city, state, 1)\n",
    "    response = requests.get(pg_url)\n",
    "    results = response.content\n",
    "    page_num = 0\n",
    "    apt_urls = []\n",
    "    \n",
    "    if not response.status_code == 404:\n",
    "        soup = BeautifulSoup(results, 'lxml')\n",
    "        apts_num_tag = soup.find('span', class_='_3YJue')\n",
    "        apts_num =  apts_num_tag.find('span', \n",
    "                                      attrs={'data-tid':'pagination-total'})\\\n",
    "                                .get_text()\n",
    "        apts_num = int(apts_num)\n",
    "        pages_num = int(np.ceil(apts_num/30))\n",
    "        if verbose:\n",
    "            print(f'total number of apartments in {city}, {state} is {apts_num}')\n",
    "            print(f'total number of pages to be scraped is {pages_num}')\n",
    "        \n",
    "    for pg_num in range(pages_num):\n",
    "        apt_urls += _get_apt_urls_per_page(city, state, pg_num)\n",
    "        if verbose:\n",
    "            print(f'page {pg_num} done')\n",
    "    \n",
    "    apt_urls = [url for url in apt_urls if state in url]\n",
    "    \n",
    "    return apt_urls"
   ]
  },
  {
   "cell_type": "code",
   "execution_count": 347,
   "metadata": {
    "scrolled": true
   },
   "outputs": [
    {
     "name": "stdout",
     "output_type": "stream",
     "text": [
      "total number of apartments in philadelphia, pennsylvania is 2714\n",
      "total number of pages to be scraped is 91\n",
      "page 0 done\n",
      "page 1 done\n",
      "page 2 done\n",
      "page 3 done\n"
     ]
    },
    {
     "ename": "KeyboardInterrupt",
     "evalue": "",
     "output_type": "error",
     "traceback": [
      "\u001b[0;31m---------------------------------------------------------------------------\u001b[0m",
      "\u001b[0;31mKeyboardInterrupt\u001b[0m                         Traceback (most recent call last)",
      "\u001b[0;32m<ipython-input-347-9bf82e4d282f>\u001b[0m in \u001b[0;36m<module>\u001b[0;34m\u001b[0m\n\u001b[0;32m----> 1\u001b[0;31m \u001b[0mapt_urls\u001b[0m \u001b[0;34m=\u001b[0m \u001b[0mget_apt_urls\u001b[0m\u001b[0;34m(\u001b[0m\u001b[0;34m'philadelphia'\u001b[0m\u001b[0;34m,\u001b[0m \u001b[0;34m'pennsylvania'\u001b[0m\u001b[0;34m,\u001b[0m \u001b[0mverbose\u001b[0m\u001b[0;34m=\u001b[0m\u001b[0;32mTrue\u001b[0m\u001b[0;34m)\u001b[0m\u001b[0;34m\u001b[0m\u001b[0;34m\u001b[0m\u001b[0m\n\u001b[0m",
      "\u001b[0;32m<ipython-input-346-b680f3839f36>\u001b[0m in \u001b[0;36mget_apt_urls\u001b[0;34m(city, state, verbose)\u001b[0m\n\u001b[1;32m     19\u001b[0m \u001b[0;34m\u001b[0m\u001b[0m\n\u001b[1;32m     20\u001b[0m     \u001b[0;32mfor\u001b[0m \u001b[0mpg_num\u001b[0m \u001b[0;32min\u001b[0m \u001b[0mrange\u001b[0m\u001b[0;34m(\u001b[0m\u001b[0mpages_num\u001b[0m\u001b[0;34m)\u001b[0m\u001b[0;34m:\u001b[0m\u001b[0;34m\u001b[0m\u001b[0;34m\u001b[0m\u001b[0m\n\u001b[0;32m---> 21\u001b[0;31m         \u001b[0mapt_urls\u001b[0m \u001b[0;34m+=\u001b[0m \u001b[0m_get_apt_urls_per_page\u001b[0m\u001b[0;34m(\u001b[0m\u001b[0mcity\u001b[0m\u001b[0;34m,\u001b[0m \u001b[0mstate\u001b[0m\u001b[0;34m,\u001b[0m \u001b[0mpg_num\u001b[0m\u001b[0;34m)\u001b[0m\u001b[0;34m\u001b[0m\u001b[0;34m\u001b[0m\u001b[0m\n\u001b[0m\u001b[1;32m     22\u001b[0m         \u001b[0;32mif\u001b[0m \u001b[0mverbose\u001b[0m\u001b[0;34m:\u001b[0m\u001b[0;34m\u001b[0m\u001b[0;34m\u001b[0m\u001b[0m\n\u001b[1;32m     23\u001b[0m             \u001b[0mprint\u001b[0m\u001b[0;34m(\u001b[0m\u001b[0;34mf'page {pg_num} done'\u001b[0m\u001b[0;34m)\u001b[0m\u001b[0;34m\u001b[0m\u001b[0;34m\u001b[0m\u001b[0m\n",
      "\u001b[0;32m<ipython-input-345-6afb46d5f38b>\u001b[0m in \u001b[0;36m_get_apt_urls_per_page\u001b[0;34m(city, state, pg_num)\u001b[0m\n\u001b[1;32m      1\u001b[0m \u001b[0;32mdef\u001b[0m \u001b[0m_get_apt_urls_per_page\u001b[0m\u001b[0;34m(\u001b[0m\u001b[0mcity\u001b[0m\u001b[0;34m,\u001b[0m \u001b[0mstate\u001b[0m\u001b[0;34m,\u001b[0m \u001b[0mpg_num\u001b[0m\u001b[0;34m)\u001b[0m\u001b[0;34m:\u001b[0m\u001b[0;34m\u001b[0m\u001b[0;34m\u001b[0m\u001b[0m\n\u001b[1;32m      2\u001b[0m     \u001b[0mpg_url\u001b[0m \u001b[0;34m=\u001b[0m \u001b[0m_get_page_url\u001b[0m\u001b[0;34m(\u001b[0m\u001b[0mcity\u001b[0m\u001b[0;34m,\u001b[0m \u001b[0mstate\u001b[0m\u001b[0;34m,\u001b[0m \u001b[0mpg_num\u001b[0m\u001b[0;34m)\u001b[0m\u001b[0;34m\u001b[0m\u001b[0;34m\u001b[0m\u001b[0m\n\u001b[0;32m----> 3\u001b[0;31m     \u001b[0mresponse\u001b[0m \u001b[0;34m=\u001b[0m \u001b[0mrequests\u001b[0m\u001b[0;34m.\u001b[0m\u001b[0mget\u001b[0m\u001b[0;34m(\u001b[0m\u001b[0mpg_url\u001b[0m\u001b[0;34m)\u001b[0m\u001b[0;34m\u001b[0m\u001b[0;34m\u001b[0m\u001b[0m\n\u001b[0m\u001b[1;32m      4\u001b[0m     \u001b[0mresults\u001b[0m \u001b[0;34m=\u001b[0m \u001b[0mresponse\u001b[0m\u001b[0;34m.\u001b[0m\u001b[0mcontent\u001b[0m\u001b[0;34m\u001b[0m\u001b[0;34m\u001b[0m\u001b[0m\n\u001b[1;32m      5\u001b[0m     \u001b[0mapt_urls\u001b[0m \u001b[0;34m=\u001b[0m \u001b[0;34m[\u001b[0m\u001b[0;34m]\u001b[0m\u001b[0;34m\u001b[0m\u001b[0;34m\u001b[0m\u001b[0m\n",
      "\u001b[0;32m~/anaconda3/lib/python3.7/site-packages/requests/api.py\u001b[0m in \u001b[0;36mget\u001b[0;34m(url, params, **kwargs)\u001b[0m\n\u001b[1;32m     73\u001b[0m \u001b[0;34m\u001b[0m\u001b[0m\n\u001b[1;32m     74\u001b[0m     \u001b[0mkwargs\u001b[0m\u001b[0;34m.\u001b[0m\u001b[0msetdefault\u001b[0m\u001b[0;34m(\u001b[0m\u001b[0;34m'allow_redirects'\u001b[0m\u001b[0;34m,\u001b[0m \u001b[0;32mTrue\u001b[0m\u001b[0;34m)\u001b[0m\u001b[0;34m\u001b[0m\u001b[0;34m\u001b[0m\u001b[0m\n\u001b[0;32m---> 75\u001b[0;31m     \u001b[0;32mreturn\u001b[0m \u001b[0mrequest\u001b[0m\u001b[0;34m(\u001b[0m\u001b[0;34m'get'\u001b[0m\u001b[0;34m,\u001b[0m \u001b[0murl\u001b[0m\u001b[0;34m,\u001b[0m \u001b[0mparams\u001b[0m\u001b[0;34m=\u001b[0m\u001b[0mparams\u001b[0m\u001b[0;34m,\u001b[0m \u001b[0;34m**\u001b[0m\u001b[0mkwargs\u001b[0m\u001b[0;34m)\u001b[0m\u001b[0;34m\u001b[0m\u001b[0;34m\u001b[0m\u001b[0m\n\u001b[0m\u001b[1;32m     76\u001b[0m \u001b[0;34m\u001b[0m\u001b[0m\n\u001b[1;32m     77\u001b[0m \u001b[0;34m\u001b[0m\u001b[0m\n",
      "\u001b[0;32m~/anaconda3/lib/python3.7/site-packages/requests/api.py\u001b[0m in \u001b[0;36mrequest\u001b[0;34m(method, url, **kwargs)\u001b[0m\n\u001b[1;32m     58\u001b[0m     \u001b[0;31m# cases, and look like a memory leak in others.\u001b[0m\u001b[0;34m\u001b[0m\u001b[0;34m\u001b[0m\u001b[0;34m\u001b[0m\u001b[0m\n\u001b[1;32m     59\u001b[0m     \u001b[0;32mwith\u001b[0m \u001b[0msessions\u001b[0m\u001b[0;34m.\u001b[0m\u001b[0mSession\u001b[0m\u001b[0;34m(\u001b[0m\u001b[0;34m)\u001b[0m \u001b[0;32mas\u001b[0m \u001b[0msession\u001b[0m\u001b[0;34m:\u001b[0m\u001b[0;34m\u001b[0m\u001b[0;34m\u001b[0m\u001b[0m\n\u001b[0;32m---> 60\u001b[0;31m         \u001b[0;32mreturn\u001b[0m \u001b[0msession\u001b[0m\u001b[0;34m.\u001b[0m\u001b[0mrequest\u001b[0m\u001b[0;34m(\u001b[0m\u001b[0mmethod\u001b[0m\u001b[0;34m=\u001b[0m\u001b[0mmethod\u001b[0m\u001b[0;34m,\u001b[0m \u001b[0murl\u001b[0m\u001b[0;34m=\u001b[0m\u001b[0murl\u001b[0m\u001b[0;34m,\u001b[0m \u001b[0;34m**\u001b[0m\u001b[0mkwargs\u001b[0m\u001b[0;34m)\u001b[0m\u001b[0;34m\u001b[0m\u001b[0;34m\u001b[0m\u001b[0m\n\u001b[0m\u001b[1;32m     61\u001b[0m \u001b[0;34m\u001b[0m\u001b[0m\n\u001b[1;32m     62\u001b[0m \u001b[0;34m\u001b[0m\u001b[0m\n",
      "\u001b[0;32m~/anaconda3/lib/python3.7/site-packages/requests/sessions.py\u001b[0m in \u001b[0;36mrequest\u001b[0;34m(self, method, url, params, data, headers, cookies, files, auth, timeout, allow_redirects, proxies, hooks, stream, verify, cert, json)\u001b[0m\n\u001b[1;32m    531\u001b[0m         }\n\u001b[1;32m    532\u001b[0m         \u001b[0msend_kwargs\u001b[0m\u001b[0;34m.\u001b[0m\u001b[0mupdate\u001b[0m\u001b[0;34m(\u001b[0m\u001b[0msettings\u001b[0m\u001b[0;34m)\u001b[0m\u001b[0;34m\u001b[0m\u001b[0;34m\u001b[0m\u001b[0m\n\u001b[0;32m--> 533\u001b[0;31m         \u001b[0mresp\u001b[0m \u001b[0;34m=\u001b[0m \u001b[0mself\u001b[0m\u001b[0;34m.\u001b[0m\u001b[0msend\u001b[0m\u001b[0;34m(\u001b[0m\u001b[0mprep\u001b[0m\u001b[0;34m,\u001b[0m \u001b[0;34m**\u001b[0m\u001b[0msend_kwargs\u001b[0m\u001b[0;34m)\u001b[0m\u001b[0;34m\u001b[0m\u001b[0;34m\u001b[0m\u001b[0m\n\u001b[0m\u001b[1;32m    534\u001b[0m \u001b[0;34m\u001b[0m\u001b[0m\n\u001b[1;32m    535\u001b[0m         \u001b[0;32mreturn\u001b[0m \u001b[0mresp\u001b[0m\u001b[0;34m\u001b[0m\u001b[0;34m\u001b[0m\u001b[0m\n",
      "\u001b[0;32m~/anaconda3/lib/python3.7/site-packages/requests/sessions.py\u001b[0m in \u001b[0;36msend\u001b[0;34m(self, request, **kwargs)\u001b[0m\n\u001b[1;32m    644\u001b[0m \u001b[0;34m\u001b[0m\u001b[0m\n\u001b[1;32m    645\u001b[0m         \u001b[0;31m# Send the request\u001b[0m\u001b[0;34m\u001b[0m\u001b[0;34m\u001b[0m\u001b[0;34m\u001b[0m\u001b[0m\n\u001b[0;32m--> 646\u001b[0;31m         \u001b[0mr\u001b[0m \u001b[0;34m=\u001b[0m \u001b[0madapter\u001b[0m\u001b[0;34m.\u001b[0m\u001b[0msend\u001b[0m\u001b[0;34m(\u001b[0m\u001b[0mrequest\u001b[0m\u001b[0;34m,\u001b[0m \u001b[0;34m**\u001b[0m\u001b[0mkwargs\u001b[0m\u001b[0;34m)\u001b[0m\u001b[0;34m\u001b[0m\u001b[0;34m\u001b[0m\u001b[0m\n\u001b[0m\u001b[1;32m    647\u001b[0m \u001b[0;34m\u001b[0m\u001b[0m\n\u001b[1;32m    648\u001b[0m         \u001b[0;31m# Total elapsed time of the request (approximately)\u001b[0m\u001b[0;34m\u001b[0m\u001b[0;34m\u001b[0m\u001b[0;34m\u001b[0m\u001b[0m\n",
      "\u001b[0;32m~/anaconda3/lib/python3.7/site-packages/requests/adapters.py\u001b[0m in \u001b[0;36msend\u001b[0;34m(self, request, stream, timeout, verify, cert, proxies)\u001b[0m\n\u001b[1;32m    447\u001b[0m                     \u001b[0mdecode_content\u001b[0m\u001b[0;34m=\u001b[0m\u001b[0;32mFalse\u001b[0m\u001b[0;34m,\u001b[0m\u001b[0;34m\u001b[0m\u001b[0;34m\u001b[0m\u001b[0m\n\u001b[1;32m    448\u001b[0m                     \u001b[0mretries\u001b[0m\u001b[0;34m=\u001b[0m\u001b[0mself\u001b[0m\u001b[0;34m.\u001b[0m\u001b[0mmax_retries\u001b[0m\u001b[0;34m,\u001b[0m\u001b[0;34m\u001b[0m\u001b[0;34m\u001b[0m\u001b[0m\n\u001b[0;32m--> 449\u001b[0;31m                     \u001b[0mtimeout\u001b[0m\u001b[0;34m=\u001b[0m\u001b[0mtimeout\u001b[0m\u001b[0;34m\u001b[0m\u001b[0;34m\u001b[0m\u001b[0m\n\u001b[0m\u001b[1;32m    450\u001b[0m                 )\n\u001b[1;32m    451\u001b[0m \u001b[0;34m\u001b[0m\u001b[0m\n",
      "\u001b[0;32m~/anaconda3/lib/python3.7/site-packages/urllib3/connectionpool.py\u001b[0m in \u001b[0;36murlopen\u001b[0;34m(self, method, url, body, headers, retries, redirect, assert_same_host, timeout, pool_timeout, release_conn, chunked, body_pos, **response_kw)\u001b[0m\n\u001b[1;32m    598\u001b[0m                                                   \u001b[0mtimeout\u001b[0m\u001b[0;34m=\u001b[0m\u001b[0mtimeout_obj\u001b[0m\u001b[0;34m,\u001b[0m\u001b[0;34m\u001b[0m\u001b[0;34m\u001b[0m\u001b[0m\n\u001b[1;32m    599\u001b[0m                                                   \u001b[0mbody\u001b[0m\u001b[0;34m=\u001b[0m\u001b[0mbody\u001b[0m\u001b[0;34m,\u001b[0m \u001b[0mheaders\u001b[0m\u001b[0;34m=\u001b[0m\u001b[0mheaders\u001b[0m\u001b[0;34m,\u001b[0m\u001b[0;34m\u001b[0m\u001b[0;34m\u001b[0m\u001b[0m\n\u001b[0;32m--> 600\u001b[0;31m                                                   chunked=chunked)\n\u001b[0m\u001b[1;32m    601\u001b[0m \u001b[0;34m\u001b[0m\u001b[0m\n\u001b[1;32m    602\u001b[0m             \u001b[0;31m# If we're going to release the connection in ``finally:``, then\u001b[0m\u001b[0;34m\u001b[0m\u001b[0;34m\u001b[0m\u001b[0;34m\u001b[0m\u001b[0m\n",
      "\u001b[0;32m~/anaconda3/lib/python3.7/site-packages/urllib3/connectionpool.py\u001b[0m in \u001b[0;36m_make_request\u001b[0;34m(self, conn, method, url, timeout, chunked, **httplib_request_kw)\u001b[0m\n\u001b[1;32m    341\u001b[0m         \u001b[0;31m# Trigger any extra validation we need to do.\u001b[0m\u001b[0;34m\u001b[0m\u001b[0;34m\u001b[0m\u001b[0;34m\u001b[0m\u001b[0m\n\u001b[1;32m    342\u001b[0m         \u001b[0;32mtry\u001b[0m\u001b[0;34m:\u001b[0m\u001b[0;34m\u001b[0m\u001b[0;34m\u001b[0m\u001b[0m\n\u001b[0;32m--> 343\u001b[0;31m             \u001b[0mself\u001b[0m\u001b[0;34m.\u001b[0m\u001b[0m_validate_conn\u001b[0m\u001b[0;34m(\u001b[0m\u001b[0mconn\u001b[0m\u001b[0;34m)\u001b[0m\u001b[0;34m\u001b[0m\u001b[0;34m\u001b[0m\u001b[0m\n\u001b[0m\u001b[1;32m    344\u001b[0m         \u001b[0;32mexcept\u001b[0m \u001b[0;34m(\u001b[0m\u001b[0mSocketTimeout\u001b[0m\u001b[0;34m,\u001b[0m \u001b[0mBaseSSLError\u001b[0m\u001b[0;34m)\u001b[0m \u001b[0;32mas\u001b[0m \u001b[0me\u001b[0m\u001b[0;34m:\u001b[0m\u001b[0;34m\u001b[0m\u001b[0;34m\u001b[0m\u001b[0m\n\u001b[1;32m    345\u001b[0m             \u001b[0;31m# Py2 raises this as a BaseSSLError, Py3 raises it as socket timeout.\u001b[0m\u001b[0;34m\u001b[0m\u001b[0;34m\u001b[0m\u001b[0;34m\u001b[0m\u001b[0m\n",
      "\u001b[0;32m~/anaconda3/lib/python3.7/site-packages/urllib3/connectionpool.py\u001b[0m in \u001b[0;36m_validate_conn\u001b[0;34m(self, conn)\u001b[0m\n\u001b[1;32m    837\u001b[0m         \u001b[0;31m# Force connect early to allow us to validate the connection.\u001b[0m\u001b[0;34m\u001b[0m\u001b[0;34m\u001b[0m\u001b[0;34m\u001b[0m\u001b[0m\n\u001b[1;32m    838\u001b[0m         \u001b[0;32mif\u001b[0m \u001b[0;32mnot\u001b[0m \u001b[0mgetattr\u001b[0m\u001b[0;34m(\u001b[0m\u001b[0mconn\u001b[0m\u001b[0;34m,\u001b[0m \u001b[0;34m'sock'\u001b[0m\u001b[0;34m,\u001b[0m \u001b[0;32mNone\u001b[0m\u001b[0;34m)\u001b[0m\u001b[0;34m:\u001b[0m  \u001b[0;31m# AppEngine might not have  `.sock`\u001b[0m\u001b[0;34m\u001b[0m\u001b[0;34m\u001b[0m\u001b[0m\n\u001b[0;32m--> 839\u001b[0;31m             \u001b[0mconn\u001b[0m\u001b[0;34m.\u001b[0m\u001b[0mconnect\u001b[0m\u001b[0;34m(\u001b[0m\u001b[0;34m)\u001b[0m\u001b[0;34m\u001b[0m\u001b[0;34m\u001b[0m\u001b[0m\n\u001b[0m\u001b[1;32m    840\u001b[0m \u001b[0;34m\u001b[0m\u001b[0m\n\u001b[1;32m    841\u001b[0m         \u001b[0;32mif\u001b[0m \u001b[0;32mnot\u001b[0m \u001b[0mconn\u001b[0m\u001b[0;34m.\u001b[0m\u001b[0mis_verified\u001b[0m\u001b[0;34m:\u001b[0m\u001b[0;34m\u001b[0m\u001b[0;34m\u001b[0m\u001b[0m\n",
      "\u001b[0;32m~/anaconda3/lib/python3.7/site-packages/urllib3/connection.py\u001b[0m in \u001b[0;36mconnect\u001b[0;34m(self)\u001b[0m\n\u001b[1;32m    342\u001b[0m             \u001b[0mca_cert_dir\u001b[0m\u001b[0;34m=\u001b[0m\u001b[0mself\u001b[0m\u001b[0;34m.\u001b[0m\u001b[0mca_cert_dir\u001b[0m\u001b[0;34m,\u001b[0m\u001b[0;34m\u001b[0m\u001b[0;34m\u001b[0m\u001b[0m\n\u001b[1;32m    343\u001b[0m             \u001b[0mserver_hostname\u001b[0m\u001b[0;34m=\u001b[0m\u001b[0mserver_hostname\u001b[0m\u001b[0;34m,\u001b[0m\u001b[0;34m\u001b[0m\u001b[0;34m\u001b[0m\u001b[0m\n\u001b[0;32m--> 344\u001b[0;31m             ssl_context=context)\n\u001b[0m\u001b[1;32m    345\u001b[0m \u001b[0;34m\u001b[0m\u001b[0m\n\u001b[1;32m    346\u001b[0m         \u001b[0;32mif\u001b[0m \u001b[0mself\u001b[0m\u001b[0;34m.\u001b[0m\u001b[0massert_fingerprint\u001b[0m\u001b[0;34m:\u001b[0m\u001b[0;34m\u001b[0m\u001b[0;34m\u001b[0m\u001b[0m\n",
      "\u001b[0;32m~/anaconda3/lib/python3.7/site-packages/urllib3/util/ssl_.py\u001b[0m in \u001b[0;36mssl_wrap_socket\u001b[0;34m(sock, keyfile, certfile, cert_reqs, ca_certs, server_hostname, ssl_version, ciphers, ssl_context, ca_cert_dir)\u001b[0m\n\u001b[1;32m    319\u001b[0m     \u001b[0;32mif\u001b[0m \u001b[0mca_certs\u001b[0m \u001b[0;32mor\u001b[0m \u001b[0mca_cert_dir\u001b[0m\u001b[0;34m:\u001b[0m\u001b[0;34m\u001b[0m\u001b[0;34m\u001b[0m\u001b[0m\n\u001b[1;32m    320\u001b[0m         \u001b[0;32mtry\u001b[0m\u001b[0;34m:\u001b[0m\u001b[0;34m\u001b[0m\u001b[0;34m\u001b[0m\u001b[0m\n\u001b[0;32m--> 321\u001b[0;31m             \u001b[0mcontext\u001b[0m\u001b[0;34m.\u001b[0m\u001b[0mload_verify_locations\u001b[0m\u001b[0;34m(\u001b[0m\u001b[0mca_certs\u001b[0m\u001b[0;34m,\u001b[0m \u001b[0mca_cert_dir\u001b[0m\u001b[0;34m)\u001b[0m\u001b[0;34m\u001b[0m\u001b[0;34m\u001b[0m\u001b[0m\n\u001b[0m\u001b[1;32m    322\u001b[0m         \u001b[0;32mexcept\u001b[0m \u001b[0mIOError\u001b[0m \u001b[0;32mas\u001b[0m \u001b[0me\u001b[0m\u001b[0;34m:\u001b[0m  \u001b[0;31m# Platform-specific: Python 2.7\u001b[0m\u001b[0;34m\u001b[0m\u001b[0;34m\u001b[0m\u001b[0m\n\u001b[1;32m    323\u001b[0m             \u001b[0;32mraise\u001b[0m \u001b[0mSSLError\u001b[0m\u001b[0;34m(\u001b[0m\u001b[0me\u001b[0m\u001b[0;34m)\u001b[0m\u001b[0;34m\u001b[0m\u001b[0;34m\u001b[0m\u001b[0m\n",
      "\u001b[0;32m~/anaconda3/lib/python3.7/site-packages/urllib3/contrib/pyopenssl.py\u001b[0m in \u001b[0;36mload_verify_locations\u001b[0;34m(self, cafile, capath, cadata)\u001b[0m\n\u001b[1;32m    429\u001b[0m         \u001b[0;32mif\u001b[0m \u001b[0mcapath\u001b[0m \u001b[0;32mis\u001b[0m \u001b[0;32mnot\u001b[0m \u001b[0;32mNone\u001b[0m\u001b[0;34m:\u001b[0m\u001b[0;34m\u001b[0m\u001b[0;34m\u001b[0m\u001b[0m\n\u001b[1;32m    430\u001b[0m             \u001b[0mcapath\u001b[0m \u001b[0;34m=\u001b[0m \u001b[0mcapath\u001b[0m\u001b[0;34m.\u001b[0m\u001b[0mencode\u001b[0m\u001b[0;34m(\u001b[0m\u001b[0;34m'utf-8'\u001b[0m\u001b[0;34m)\u001b[0m\u001b[0;34m\u001b[0m\u001b[0;34m\u001b[0m\u001b[0m\n\u001b[0;32m--> 431\u001b[0;31m         \u001b[0mself\u001b[0m\u001b[0;34m.\u001b[0m\u001b[0m_ctx\u001b[0m\u001b[0;34m.\u001b[0m\u001b[0mload_verify_locations\u001b[0m\u001b[0;34m(\u001b[0m\u001b[0mcafile\u001b[0m\u001b[0;34m,\u001b[0m \u001b[0mcapath\u001b[0m\u001b[0;34m)\u001b[0m\u001b[0;34m\u001b[0m\u001b[0;34m\u001b[0m\u001b[0m\n\u001b[0m\u001b[1;32m    432\u001b[0m         \u001b[0;32mif\u001b[0m \u001b[0mcadata\u001b[0m \u001b[0;32mis\u001b[0m \u001b[0;32mnot\u001b[0m \u001b[0;32mNone\u001b[0m\u001b[0;34m:\u001b[0m\u001b[0;34m\u001b[0m\u001b[0;34m\u001b[0m\u001b[0m\n\u001b[1;32m    433\u001b[0m             \u001b[0mself\u001b[0m\u001b[0;34m.\u001b[0m\u001b[0m_ctx\u001b[0m\u001b[0;34m.\u001b[0m\u001b[0mload_verify_locations\u001b[0m\u001b[0;34m(\u001b[0m\u001b[0mBytesIO\u001b[0m\u001b[0;34m(\u001b[0m\u001b[0mcadata\u001b[0m\u001b[0;34m)\u001b[0m\u001b[0;34m)\u001b[0m\u001b[0;34m\u001b[0m\u001b[0;34m\u001b[0m\u001b[0m\n",
      "\u001b[0;32m~/anaconda3/lib/python3.7/site-packages/OpenSSL/SSL.py\u001b[0m in \u001b[0;36mload_verify_locations\u001b[0;34m(self, cafile, capath)\u001b[0m\n\u001b[1;32m    771\u001b[0m \u001b[0;34m\u001b[0m\u001b[0m\n\u001b[1;32m    772\u001b[0m         load_result = _lib.SSL_CTX_load_verify_locations(\n\u001b[0;32m--> 773\u001b[0;31m             \u001b[0mself\u001b[0m\u001b[0;34m.\u001b[0m\u001b[0m_context\u001b[0m\u001b[0;34m,\u001b[0m \u001b[0mcafile\u001b[0m\u001b[0;34m,\u001b[0m \u001b[0mcapath\u001b[0m\u001b[0;34m\u001b[0m\u001b[0;34m\u001b[0m\u001b[0m\n\u001b[0m\u001b[1;32m    774\u001b[0m         )\n\u001b[1;32m    775\u001b[0m         \u001b[0;32mif\u001b[0m \u001b[0;32mnot\u001b[0m \u001b[0mload_result\u001b[0m\u001b[0;34m:\u001b[0m\u001b[0;34m\u001b[0m\u001b[0;34m\u001b[0m\u001b[0m\n",
      "\u001b[0;31mKeyboardInterrupt\u001b[0m: "
     ]
    }
   ],
   "source": [
    "apt_urls = get_apt_urls('philadelphia', 'pennsylvania', verbose=True)"
   ]
  },
  {
   "cell_type": "code",
   "execution_count": 363,
   "metadata": {},
   "outputs": [],
   "source": [
    "def _get_address(address_tag):\n",
    "    elements = address_tag.find_all('span')\n",
    "    address = elements[0].get_text()\\\n",
    "                         .replace(',','')\\\n",
    "                         .strip()\n",
    "    city = elements[1].get_text().strip()\n",
    "    state = elements[2].get_text().strip()\n",
    "    zipcode = elements[3].get_text().strip()\n",
    "    return address, city, state, zipcode\n",
    "\n",
    "def _get_units(unit_tag):\n",
    "    unit = []\n",
    "    for cell in unit_tag.find_all('td'):\n",
    "        if cell.attrs:\n",
    "            if cell['data-tid'] == 'pdpfloorplans-unit-displayText':\n",
    "                unit_num = cell.get_text()\n",
    "                unit.append(unit_num)\n",
    "            if cell['data-tid'] == 'pdpfloorplans-unit-price':\n",
    "                try:\n",
    "                    unit_price = cell.get_text().replace('$', '')\n",
    "                    unit.append(float(unit_price))\n",
    "                except:\n",
    "                    unit.append(np.nan)\n",
    "            if cell['data-tid'] == 'pdpfloorplans-unit-bedbath':\n",
    "                try:\n",
    "                    bedbath_tag = cell.find_all('span')\n",
    "                    bed_tag, bath_tag = bedbath_tag[0], bedbath_tag[1]\n",
    "                    pattern = r'[-+]?\\d*\\.\\d+|\\d+'\n",
    "                    bed = re.findall(pattern, bed_tag.get_text())\n",
    "                    bath = re.findall(pattern, bath_tag.get_text())\n",
    "                    bed_unit, bath_unit = 0, 0\n",
    "                    if bed:\n",
    "                        bed_unit = bed[0]\n",
    "                    if bath:\n",
    "                        bath_unit = bath[0]\n",
    "                    unit.append(float(bed_unit))\n",
    "                    unit.append(float(bath_unit))\n",
    "                except:\n",
    "                    unit.append(np.nan)\n",
    "                    unit.append(np.nan)\n",
    "            if cell['data-tid'] == 'pdpfloorplans-unit-sqft':\n",
    "                try:\n",
    "                    pattern = r'[-+]?\\d*\\.\\d+|\\d+'\n",
    "                    sqft_unit = re.findall(pattern, cell.get_text())[0]\n",
    "                    unit.append(float(sqft_unit))\n",
    "                except:\n",
    "                    unit.append(np.nan)\n",
    "    return unit\n",
    "\n",
    "def _get_floorplan(unit_tag):\n",
    "    unit = []\n",
    "    for cell in unit_tag.find_all('td'):\n",
    "        if cell.attrs:\n",
    "            if cell['data-tid'] == 'pdpfloorplan-displayText':\n",
    "                floorplan_num = cell.get_text()\n",
    "                unit.append(floorplan_num)\n",
    "            if cell['data-tid'] == 'pdpfloorplan-price':\n",
    "                try:\n",
    "                    fp_price = cell.get_text()\\\n",
    "                                   .replace('$','')\\\n",
    "                                   .replace(',','')\n",
    "                    pattern = r'[-+]?\\d*\\.\\d+|\\d+'\n",
    "                    price = re.findall(pattern, fp_price)[0]\n",
    "                    unit.append(float(price))\n",
    "                except:\n",
    "                    unit.append(np.nan)\n",
    "            if cell['data-tid'] == 'pdpfloorplan-bedbaths':\n",
    "                try:\n",
    "                    bedbath_tag = cell.find_all('span')\n",
    "                    bed_tag, bath_tag = bedbath_tag[0], bedbath_tag[1]\n",
    "                    pattern = r'[-+]?\\d*\\.\\d+|\\d+'\n",
    "                    bed = re.findall(pattern, bed_tag.get_text())\n",
    "                    bath = re.findall(pattern, bath_tag.get_text())\n",
    "                    bed_fp, bath_fp = 0, 0\n",
    "                    if bed:\n",
    "                        bed_fp = bed[0]\n",
    "                    if bath:\n",
    "                        bath_fp = bath[0]\n",
    "                    unit.append(float(bed_fp))\n",
    "                    unit.append(float(bath_fp))\n",
    "                except:\n",
    "                    unit.append(np.nan)\n",
    "                    unit.append(np.nan)\n",
    "            if cell['data-tid'] == 'pdpfloorplan-sqft':\n",
    "                try:\n",
    "                    pattern = r'[-+]?\\d*\\.\\d+|\\d+'\n",
    "                    sqft_fp = re.findall(pattern, cell.get_text())[0]\n",
    "                    unit.append(float(sqft_fp))\n",
    "                except:\n",
    "                    unit.append(np.nan)\n",
    "    return unit\n",
    "\n",
    "def _get_apt_info(apt_url):\n",
    "    overhead = 'https://www.rent.com'\n",
    "    complete_url = overhead+apt_url\n",
    "    response = requests.get(complete_url)\n",
    "    results = response.content\n",
    "    apt_all = []\n",
    "    \n",
    "    if not response.status_code == 404:\n",
    "        soup = BeautifulSoup(results, 'lxml')\n",
    "        address_tag = soup.find('div', '_3wnFl _3wnFl')\n",
    "        addr = _get_address(address_tag)\n",
    "        \n",
    "        room_tags = soup.find_all('div', '_1ECa-')\n",
    "        \n",
    "        for rt in room_tags:\n",
    "            room_table = rt.find('table', '_1GkPp F4skJ')\n",
    "            room_tbody = room_table.find('tbody')\n",
    "            floor_plan = room_tbody.find_all('tr')\n",
    "            apartments = []\n",
    "            for unit_tag in floor_plan:\n",
    "                if unit_tag['data-tid'] == 'pdpfloorplan-row':\n",
    "                    apt = addr+_get_floorplan(unit_tag)\n",
    "                    apartments.append(apt)\n",
    "\n",
    "                if unit_tag['data-tid'] == 'pdpfloorplans-unit-row':\n",
    "                    apt = list(addr)+_get_units(unit_tag)\n",
    "                    apartments.append(apt)\n",
    "            apt_all.append(apartments)\n",
    "                        \n",
    "    return apt_all"
   ]
  },
  {
   "cell_type": "code",
   "execution_count": 365,
   "metadata": {},
   "outputs": [
    {
     "name": "stdout",
     "output_type": "stream",
     "text": [
      "('1520 Hamilton Street', 'Philadelphia', 'Pennsylvania', '19130')\n"
     ]
    },
    {
     "ename": "TypeError",
     "evalue": "can only concatenate tuple (not \"list\") to tuple",
     "output_type": "error",
     "traceback": [
      "\u001b[0;31m---------------------------------------------------------------------------\u001b[0m",
      "\u001b[0;31mTypeError\u001b[0m                                 Traceback (most recent call last)",
      "\u001b[0;32m<ipython-input-365-6e45a97f198e>\u001b[0m in \u001b[0;36m<module>\u001b[0;34m\u001b[0m\n\u001b[1;32m      1\u001b[0m \u001b[0mapt_url\u001b[0m \u001b[0;34m=\u001b[0m \u001b[0mapt_urls\u001b[0m\u001b[0;34m[\u001b[0m\u001b[0;36m1\u001b[0m\u001b[0;34m]\u001b[0m\u001b[0;34m\u001b[0m\u001b[0;34m\u001b[0m\u001b[0m\n\u001b[0;32m----> 2\u001b[0;31m \u001b[0m_get_apt_info\u001b[0m\u001b[0;34m(\u001b[0m\u001b[0mapt_url\u001b[0m\u001b[0;34m)\u001b[0m\u001b[0;34m\u001b[0m\u001b[0;34m\u001b[0m\u001b[0m\n\u001b[0m",
      "\u001b[0;32m<ipython-input-363-2d66111ef63d>\u001b[0m in \u001b[0;36m_get_apt_info\u001b[0;34m(apt_url)\u001b[0m\n\u001b[1;32m    113\u001b[0m                 \u001b[0;32mif\u001b[0m \u001b[0munit_tag\u001b[0m\u001b[0;34m[\u001b[0m\u001b[0;34m'data-tid'\u001b[0m\u001b[0;34m]\u001b[0m \u001b[0;34m==\u001b[0m \u001b[0;34m'pdpfloorplan-row'\u001b[0m\u001b[0;34m:\u001b[0m\u001b[0;34m\u001b[0m\u001b[0;34m\u001b[0m\u001b[0m\n\u001b[1;32m    114\u001b[0m                     \u001b[0mprint\u001b[0m\u001b[0;34m(\u001b[0m\u001b[0maddr\u001b[0m\u001b[0;34m)\u001b[0m\u001b[0;34m\u001b[0m\u001b[0;34m\u001b[0m\u001b[0m\n\u001b[0;32m--> 115\u001b[0;31m                     \u001b[0mapt\u001b[0m \u001b[0;34m=\u001b[0m \u001b[0maddr\u001b[0m\u001b[0;34m+\u001b[0m\u001b[0m_get_floorplan\u001b[0m\u001b[0;34m(\u001b[0m\u001b[0munit_tag\u001b[0m\u001b[0;34m)\u001b[0m\u001b[0;34m\u001b[0m\u001b[0;34m\u001b[0m\u001b[0m\n\u001b[0m\u001b[1;32m    116\u001b[0m                     \u001b[0mapartments\u001b[0m\u001b[0;34m.\u001b[0m\u001b[0mappend\u001b[0m\u001b[0;34m(\u001b[0m\u001b[0mapt\u001b[0m\u001b[0;34m)\u001b[0m\u001b[0;34m\u001b[0m\u001b[0;34m\u001b[0m\u001b[0m\n\u001b[1;32m    117\u001b[0m \u001b[0;34m\u001b[0m\u001b[0m\n",
      "\u001b[0;31mTypeError\u001b[0m: can only concatenate tuple (not \"list\") to tuple"
     ]
    }
   ],
   "source": [
    "apt_url = apt_urls[1]\n",
    "_get_apt_info(apt_url)"
   ]
  },
  {
   "cell_type": "code",
   "execution_count": 354,
   "metadata": {},
   "outputs": [
    {
     "data": {
      "text/plain": [
       "'/pennsylvania/philadelphia-apartments/the-hamilton-4-100068395'"
      ]
     },
     "execution_count": 354,
     "metadata": {},
     "output_type": "execute_result"
    }
   ],
   "source": [
    "apt_url"
   ]
  },
  {
   "cell_type": "code",
   "execution_count": 353,
   "metadata": {},
   "outputs": [
    {
     "data": {
      "text/plain": [
       "<div class=\"_1ECa-\"><div class=\"_3tvKg\" data-tid=\"pdp-floorplan-list-header\">STUDIO</div><table class=\"_1GkPp F4skJ\" data-tid=\"pdpfloorplan-table\"><tbody><tr class=\"omeVN q6BdK\" data-tid=\"pdpfloorplan-row\"><td><div class=\"lazyload-placeholder\" style=\"height:60px\"></div></td><td data-tid=\"pdpfloorplan-displayText\">Studio-S3</td><td data-tid=\"pdpfloorplan-price\">$1,930 - $2,455/mo</td><td data-tid=\"pdpfloorplan-bedbaths\"><div><span>Studio | </span><span>1 Bath</span></div></td><td data-tid=\"pdpfloorplan-sqft\">433 Sqft</td><td class=\"_2s8ma\" data-tid=\"pdpfloorplans-available\">4 Available</td><td><span class=\"_2owZk _223Z4\" data-tid=\"pdpfloorplans-expand-units\" role=\"presentation\"><svg data-tid=\"pdpfloorplans-expand-units\" viewbox=\"0 0 12 9\"><path d=\"M11.739 1.776A1.121 1.121 0 0 0 11.715.31a.92.92 0 0 0-1.353-.026L6 5.015 1.638.283A.92.92 0 0 0 .285.31a1.121 1.121 0 0 0-.024 1.467L6 8l1.376-1.493 4.363-4.73z\" fill-rule=\"evenodd\"></path></svg></span></td></tr><tr class=\"j4z-D\" data-tid=\"pdpfloorplans-unit-row\"><td></td><td data-tid=\"pdpfloorplans-unit-displayText\">0606</td><td data-tid=\"pdpfloorplans-unit-price\">$1930</td><td data-tid=\"pdpfloorplans-unit-bedbath\"><div><span>Studio |</span><span>1 Bath</span></div></td><td class=\"_1snCg\" data-tid=\"pdpfloorplans-unit-sqft\">433 sqft</td><td class=\"_2s8ma\" data-tid=\"pdpfloorplans-unit-available\">Today</td><td></td></tr><tr class=\"j4z-D\" data-tid=\"pdpfloorplans-unit-row\"><td></td><td data-tid=\"pdpfloorplans-unit-displayText\">1906</td><td data-tid=\"pdpfloorplans-unit-price\">$2130</td><td data-tid=\"pdpfloorplans-unit-bedbath\"><div><span>Studio |</span><span>1 Bath</span></div></td><td class=\"_1snCg\" data-tid=\"pdpfloorplans-unit-sqft\">433 sqft</td><td class=\"_2s8ma\" data-tid=\"pdpfloorplans-unit-available\">Today</td><td></td></tr><tr class=\"j4z-D\" data-tid=\"pdpfloorplans-unit-row\"><td></td><td data-tid=\"pdpfloorplans-unit-displayText\">2306</td><td data-tid=\"pdpfloorplans-unit-price\">$2330</td><td data-tid=\"pdpfloorplans-unit-bedbath\"><div><span>Studio |</span><span>1 Bath</span></div></td><td class=\"_1snCg\" data-tid=\"pdpfloorplans-unit-sqft\">433 sqft</td><td class=\"_2s8ma\" data-tid=\"pdpfloorplans-unit-available\">Today</td><td></td></tr><tr class=\"j4z-D\" data-tid=\"pdpfloorplans-unit-row\"><td></td><td data-tid=\"pdpfloorplans-unit-displayText\">2406</td><td data-tid=\"pdpfloorplans-unit-price\">$2455</td><td data-tid=\"pdpfloorplans-unit-bedbath\"><div><span>Studio |</span><span>1 Bath</span></div></td><td class=\"_1snCg\" data-tid=\"pdpfloorplans-unit-sqft\">433 sqft</td><td class=\"_2s8ma\" data-tid=\"pdpfloorplans-unit-available\">Today</td><td></td></tr><tr class=\"omeVN q6BdK\" data-tid=\"pdpfloorplan-row\"><td><div class=\"lazyload-placeholder\" style=\"height:60px\"></div></td><td data-tid=\"pdpfloorplan-displayText\">Studio-S1</td><td data-tid=\"pdpfloorplan-price\">$2,321+/mo</td><td data-tid=\"pdpfloorplan-bedbaths\"><div><span>Studio | </span><span>1 Bath</span></div></td><td data-tid=\"pdpfloorplan-sqft\">442 Sqft</td><td class=\"_2s8ma\" data-tid=\"pdpfloorplans-available\">1 Available</td><td><span class=\"_2owZk _223Z4\" data-tid=\"pdpfloorplans-expand-units\" role=\"presentation\"><svg data-tid=\"pdpfloorplans-expand-units\" viewbox=\"0 0 12 9\"><path d=\"M11.739 1.776A1.121 1.121 0 0 0 11.715.31a.92.92 0 0 0-1.353-.026L6 5.015 1.638.283A.92.92 0 0 0 .285.31a1.121 1.121 0 0 0-.024 1.467L6 8l1.376-1.493 4.363-4.73z\" fill-rule=\"evenodd\"></path></svg></span></td></tr><tr class=\"j4z-D\" data-tid=\"pdpfloorplans-unit-row\"><td></td><td data-tid=\"pdpfloorplans-unit-displayText\">2409</td><td data-tid=\"pdpfloorplans-unit-price\">$2321</td><td data-tid=\"pdpfloorplans-unit-bedbath\"><div><span>Studio |</span><span>1 Bath</span></div></td><td class=\"_1snCg\" data-tid=\"pdpfloorplans-unit-sqft\">442 sqft</td><td class=\"_2s8ma\" data-tid=\"pdpfloorplans-unit-available\">Today</td><td></td></tr><tr class=\"omeVN\" data-tid=\"pdpfloorplan-row\"><td><div class=\"lazyload-placeholder\" style=\"height:60px\"></div></td><td data-tid=\"pdpfloorplan-displayText\">Studio-S2</td><td data-tid=\"pdpfloorplan-price\">Contact for Price</td><td data-tid=\"pdpfloorplan-bedbaths\"><div><span>Studio | </span><span>1 Bath</span></div></td><td data-tid=\"pdpfloorplan-sqft\">460 Sqft</td><td class=\"\" data-tid=\"pdpfloorplans-unavailable\">Contact</td><td></td></tr><tr class=\"omeVN\" data-tid=\"pdpfloorplan-row\"><td><div class=\"lazyload-placeholder\" style=\"height:60px\"></div></td><td data-tid=\"pdpfloorplan-displayText\">Studio-S4</td><td data-tid=\"pdpfloorplan-price\">Contact for Price</td><td data-tid=\"pdpfloorplan-bedbaths\"><div><span>Studio | </span><span>1 Bath</span></div></td><td data-tid=\"pdpfloorplan-sqft\">501 Sqft</td><td class=\"\" data-tid=\"pdpfloorplans-unavailable\">Contact</td><td></td></tr></tbody></table></div>"
      ]
     },
     "execution_count": 353,
     "metadata": {},
     "output_type": "execute_result"
    }
   ],
   "source": [
    "overhead = 'https://www.rent.com'\n",
    "complete_url = overhead+'/pennsylvania/philadelphia-apartments/1213-walnut-4-100064785'\n",
    "response = requests.get(complete_url)\n",
    "results = response.content\n",
    "\n",
    "if not response.status_code == 404:\n",
    "    soup = BeautifulSoup(results, 'lxml')\n",
    "    address_tag = soup.find('div', '_3wnFl _3wnFl')\n",
    "    addr = _get_address(address_tag)\n",
    "\n",
    "    room_tags = soup.find_all('div', '_1ECa-')\n",
    "\n",
    "    rt1 = room_tags[0]\n",
    "rt1"
   ]
  },
  {
   "cell_type": "code",
   "execution_count": null,
   "metadata": {},
   "outputs": [],
   "source": []
  }
 ],
 "metadata": {
  "kernelspec": {
   "display_name": "Python 3",
   "language": "python",
   "name": "python3"
  },
  "language_info": {
   "codemirror_mode": {
    "name": "ipython",
    "version": 3
   },
   "file_extension": ".py",
   "mimetype": "text/x-python",
   "name": "python",
   "nbconvert_exporter": "python",
   "pygments_lexer": "ipython3",
   "version": "3.7.3"
  }
 },
 "nbformat": 4,
 "nbformat_minor": 2
}
