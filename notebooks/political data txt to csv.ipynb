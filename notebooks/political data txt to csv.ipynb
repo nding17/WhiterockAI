{
 "cells": [
  {
   "cell_type": "code",
   "execution_count": 14,
   "metadata": {},
   "outputs": [],
   "source": [
    "import csv"
   ]
  },
  {
   "cell_type": "code",
   "execution_count": 19,
   "metadata": {},
   "outputs": [],
   "source": [
    "data_path = '../data/Political_contributions_2019'\n",
    "export_path = '../data/political_data_2019_csv'"
   ]
  },
  {
   "cell_type": "code",
   "execution_count": 20,
   "metadata": {},
   "outputs": [
    {
     "data": {
      "text/plain": [
       "['itcont_2020_20190629_20190908',\n",
       " 'itcont_2020_20010425_20190425',\n",
       " 'itcont_2020_invalid_dates',\n",
       " 'itcont_2020_20190426_20190628',\n",
       " 'itcont_2020_20190909_20191231']"
      ]
     },
     "execution_count": 20,
     "metadata": {},
     "output_type": "execute_result"
    }
   ],
   "source": [
    "from os import listdir\n",
    "from os.path import isfile, join\n",
    "filenames = [f.split('.')[0] for f in listdir(data_path) if isfile(join(data_path, f))]\n",
    "filenames"
   ]
  },
  {
   "cell_type": "code",
   "execution_count": 21,
   "metadata": {},
   "outputs": [],
   "source": [
    "for fn in filenames:\n",
    "    with open(f'{data_path}/{fn}.txt', 'r') as in_file:\n",
    "        stripped = (line.strip() for line in in_file)\n",
    "        lines = (line.split(\"|\") for line in stripped if line)\n",
    "        with open(f'{export_path}/{fn}.csv', 'w') as out_file:\n",
    "            writer = csv.writer(out_file)\n",
    "            writer.writerows(lines)"
   ]
  },
  {
   "cell_type": "code",
   "execution_count": null,
   "metadata": {},
   "outputs": [],
   "source": []
  }
 ],
 "metadata": {
  "kernelspec": {
   "display_name": "Python 3",
   "language": "python",
   "name": "python3"
  },
  "language_info": {
   "codemirror_mode": {
    "name": "ipython",
    "version": 3
   },
   "file_extension": ".py",
   "mimetype": "text/x-python",
   "name": "python",
   "nbconvert_exporter": "python",
   "pygments_lexer": "ipython3",
   "version": "3.8.0"
  }
 },
 "nbformat": 4,
 "nbformat_minor": 2
}
