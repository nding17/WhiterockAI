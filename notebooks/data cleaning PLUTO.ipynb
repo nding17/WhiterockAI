{
 "cells": [
  {
   "cell_type": "code",
   "execution_count": 1,
   "metadata": {},
   "outputs": [],
   "source": [
    "import pandas as pd"
   ]
  },
  {
   "cell_type": "code",
   "execution_count": 6,
   "metadata": {},
   "outputs": [],
   "source": [
    "pluto = pd.read_csv('../data/project/NPL-001 All_Properties [bylocation;address] PLUTO.csv', index_col=0)"
   ]
  },
  {
   "cell_type": "code",
   "execution_count": 8,
   "metadata": {},
   "outputs": [
    {
     "data": {
      "text/plain": [
       "Index(['ADDRESS', 'BOROUGH', 'BLOCK', 'LOT', 'LONGITUDE', 'LATITUDE', 'ZIP',\n",
       "       'REIS SUBMARKET', 'SCHOOL DIS', 'OWNER TYPE', 'OWNER', 'BLDG CLASS NOW',\n",
       "       'CONDO COOP', 'ELEVATOR', 'LAND USE', 'LAND SF', 'GSF', '# BLDG',\n",
       "       '# FLOORS', '# UNITS', 'YEAR BUILT', 'COMM SF', 'RESI SF', 'RESI UNITS',\n",
       "       'OFFICE SF', 'RETAIL SF', 'GARAGE SF', 'STORAGE SF', 'FACTORY SF',\n",
       "       'OTHER SF', 'LOT FRONT', 'LOT DEPTH', 'BLDG FRONT', 'BLDG DEPTH',\n",
       "       'LOT TYPE', 'bsmtcode', 'assessland', 'assesstot', 'exemptland',\n",
       "       'exempttot', 'yearalter1', 'yearalter2', 'builtfar', 'residfar',\n",
       "       'commfar', 'facilfar', 'edesignum', 'appbbl', 'sanitdistrict',\n",
       "       'healthcenterdistrict', 'firm07_flag', 'pfirm15_flag', 'edesigdate',\n",
       "       'COUNCIL', 'FIRE COMP', 'POLICE PRCT', 'HEALTH AREA', 'SANIT BORO',\n",
       "       'zonedist1', 'zonedist2', 'zonedist3', 'zonedist4', 'overlay1',\n",
       "       'overlay2', 'spdist1', 'spdist2', 'spdist3', 'Stab Units', 'DOB record',\n",
       "       'DOB Date', 'Rental Prop', 'Rental rate', 'bank', 'bus_station', 'gym',\n",
       "       'hospital', 'park', 'restaurant', 'school', 'shopping_mall',\n",
       "       'subway_station', 'STAB'],\n",
       "      dtype='object')"
      ]
     },
     "execution_count": 8,
     "metadata": {},
     "output_type": "execute_result"
    }
   ],
   "source": [
    "pluto.columns"
   ]
  },
  {
   "cell_type": "code",
   "execution_count": 14,
   "metadata": {},
   "outputs": [],
   "source": [
    "pluto_cleaned = pluto.loc[pluto['CONDO COOP']!=1]\\\n",
    "                     .loc[pluto['GSF']>=800]\\\n",
    "                     .loc[pluto['# BLDG']!=0]\\\n",
    "                     .loc[pluto['# FLOORS']!=0]\\\n",
    "                     .loc[pluto['# UNITS']!=0]\\\n",
    "                     .loc[(pluto['COMM SF']<=0) & \n",
    "                          (pluto['OFFICE SF']<=0) & \n",
    "                          (pluto['RETAIL SF'])<=0]\\\n",
    "                     .reset_index()\n",
    "\n",
    "pluto_cleaned.to_csv('../data/project/All_Properties PLUTO_New_Data.csv')"
   ]
  },
  {
   "cell_type": "code",
   "execution_count": 15,
   "metadata": {},
   "outputs": [
    {
     "data": {
      "text/plain": [
       "(793231, 82)"
      ]
     },
     "execution_count": 15,
     "metadata": {},
     "output_type": "execute_result"
    }
   ],
   "source": [
    "pluto.shape"
   ]
  },
  {
   "cell_type": "code",
   "execution_count": 23,
   "metadata": {},
   "outputs": [],
   "source": [
    "pluto_new = pd.read_csv('../data/project/All_Properties PLUTO_New_Data.csv', index_col=0)"
   ]
  },
  {
   "cell_type": "code",
   "execution_count": 24,
   "metadata": {},
   "outputs": [
    {
     "data": {
      "text/plain": [
       "(780121, 82)"
      ]
     },
     "execution_count": 24,
     "metadata": {},
     "output_type": "execute_result"
    }
   ],
   "source": [
    "pluto_new.shape"
   ]
  },
  {
   "cell_type": "code",
   "execution_count": null,
   "metadata": {},
   "outputs": [],
   "source": []
  }
 ],
 "metadata": {
  "kernelspec": {
   "display_name": "Python 3",
   "language": "python",
   "name": "python3"
  },
  "language_info": {
   "codemirror_mode": {
    "name": "ipython",
    "version": 3
   },
   "file_extension": ".py",
   "mimetype": "text/x-python",
   "name": "python",
   "nbconvert_exporter": "python",
   "pygments_lexer": "ipython3",
   "version": "3.8.0"
  }
 },
 "nbformat": 4,
 "nbformat_minor": 2
}
